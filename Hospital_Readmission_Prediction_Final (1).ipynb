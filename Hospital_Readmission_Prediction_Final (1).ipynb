{
  "cells": [
    {
      "cell_type": "markdown",
      "metadata": {
        "id": "UyuC8xu9dJNs"
      },
      "source": [
        "#Hospital Readmission Prediction"
      ]
    },
    {
      "cell_type": "markdown",
      "metadata": {
        "id": "IdZsHpKYdhWW"
      },
      "source": [
        "#PROBLEM STATEMENT:-\n",
        "#=>Building a machine learning model to predict and prevent hospital readmissions by analyzing patient data to identify individuals at high risk and providing targeted interventions.\n",
        "\n"
      ]
    },
    {
      "cell_type": "markdown",
      "metadata": {
        "id": "wh9hWjLSdZot"
      },
      "source": [
        "# Importing Libraries"
      ]
    },
    {
      "cell_type": "code",
      "execution_count": null,
      "metadata": {
        "id": "RbxW_3tVdSax"
      },
      "outputs": [],
      "source": [
        "import seaborn as sns\n",
        "import numpy as np\n",
        "import pandas as pd\n",
        "import matplotlib.pyplot as plt\n",
        "import warnings\n",
        "warnings.filterwarnings(action='ignore')\n",
        "import sys"
      ]
    },
    {
      "cell_type": "code",
      "execution_count": null,
      "metadata": {
        "colab": {
          "base_uri": "https://localhost:8080/"
        },
        "id": "_np_X3I1eamn",
        "outputId": "aea4ed91-149c-4b04-e2ae-f3d8fda072b6"
      },
      "outputs": [
        {
          "output_type": "stream",
          "name": "stdout",
          "text": [
            "Mounted at /content/gdrive\n"
          ]
        }
      ],
      "source": [
        "from google.colab import drive\n",
        "drive.mount('/content/gdrive')"
      ]
    },
    {
      "cell_type": "code",
      "source": [
        "cd /content/gdrive/My Drive/Colab Notebooks/HospitalReadmission"
      ],
      "metadata": {
        "id": "2EeI-k0vdbpn",
        "colab": {
          "base_uri": "https://localhost:8080/"
        },
        "outputId": "2b4ff24f-a232-441c-840a-13f19126e06e"
      },
      "execution_count": null,
      "outputs": [
        {
          "output_type": "stream",
          "name": "stdout",
          "text": [
            "[Errno 2] No such file or directory: '/content/gdrive/My Drive/Colab Notebooks/HospitalReadmission'\n",
            "/content\n"
          ]
        }
      ]
    },
    {
      "cell_type": "markdown",
      "metadata": {
        "id": "DmxO-bJhf9LT"
      },
      "source": [
        "#Load dataset\n",
        "#UCI Machine Learning Repository\n",
        "#Selection of Dataset"
      ]
    },
    {
      "cell_type": "code",
      "execution_count": null,
      "metadata": {
        "id": "GxYeMVsifKpB"
      },
      "outputs": [],
      "source": [
        "dataset = pd.read_csv(\"diabetic_data.csv\")"
      ]
    },
    {
      "cell_type": "code",
      "execution_count": null,
      "metadata": {
        "colab": {
          "base_uri": "https://localhost:8080/",
          "height": 403
        },
        "id": "uu9BnngjfisI",
        "outputId": "3433e41b-2c76-4913-af89-5c6ea49d26b8"
      },
      "outputs": [
        {
          "output_type": "execute_result",
          "data": {
            "text/plain": [
              "   encounter_id  patient_nbr             race  gender      age weight  \\\n",
              "0       2278392      8222157        Caucasian  Female   [0-10)      ?   \n",
              "1        149190     55629189        Caucasian  Female  [10-20)      ?   \n",
              "2         64410     86047875  AfricanAmerican  Female  [20-30)      ?   \n",
              "3        500364     82442376        Caucasian    Male  [30-40)      ?   \n",
              "4         16680     42519267        Caucasian    Male  [40-50)      ?   \n",
              "\n",
              "   admission_type_id  discharge_disposition_id  admission_source_id  \\\n",
              "0                  6                        25                    1   \n",
              "1                  1                         1                    7   \n",
              "2                  1                         1                    7   \n",
              "3                  1                         1                    7   \n",
              "4                  1                         1                    7   \n",
              "\n",
              "   time_in_hospital  ... citoglipton insulin  glyburide-metformin  \\\n",
              "0                 1  ...          No      No                   No   \n",
              "1                 3  ...          No      Up                   No   \n",
              "2                 2  ...          No      No                   No   \n",
              "3                 2  ...          No      Up                   No   \n",
              "4                 1  ...          No  Steady                   No   \n",
              "\n",
              "   glipizide-metformin  glimepiride-pioglitazone  metformin-rosiglitazone  \\\n",
              "0                   No                        No                       No   \n",
              "1                   No                        No                       No   \n",
              "2                   No                        No                       No   \n",
              "3                   No                        No                       No   \n",
              "4                   No                        No                       No   \n",
              "\n",
              "   metformin-pioglitazone  change diabetesMed readmitted  \n",
              "0                      No      No          No         NO  \n",
              "1                      No      Ch         Yes        >30  \n",
              "2                      No      No         Yes         NO  \n",
              "3                      No      Ch         Yes         NO  \n",
              "4                      No      Ch         Yes         NO  \n",
              "\n",
              "[5 rows x 50 columns]"
            ],
            "text/html": [
              "\n",
              "  <div id=\"df-d6a4943f-21fa-467b-83c7-b96d2b3aa636\">\n",
              "    <div class=\"colab-df-container\">\n",
              "      <div>\n",
              "<style scoped>\n",
              "    .dataframe tbody tr th:only-of-type {\n",
              "        vertical-align: middle;\n",
              "    }\n",
              "\n",
              "    .dataframe tbody tr th {\n",
              "        vertical-align: top;\n",
              "    }\n",
              "\n",
              "    .dataframe thead th {\n",
              "        text-align: right;\n",
              "    }\n",
              "</style>\n",
              "<table border=\"1\" class=\"dataframe\">\n",
              "  <thead>\n",
              "    <tr style=\"text-align: right;\">\n",
              "      <th></th>\n",
              "      <th>encounter_id</th>\n",
              "      <th>patient_nbr</th>\n",
              "      <th>race</th>\n",
              "      <th>gender</th>\n",
              "      <th>age</th>\n",
              "      <th>weight</th>\n",
              "      <th>admission_type_id</th>\n",
              "      <th>discharge_disposition_id</th>\n",
              "      <th>admission_source_id</th>\n",
              "      <th>time_in_hospital</th>\n",
              "      <th>...</th>\n",
              "      <th>citoglipton</th>\n",
              "      <th>insulin</th>\n",
              "      <th>glyburide-metformin</th>\n",
              "      <th>glipizide-metformin</th>\n",
              "      <th>glimepiride-pioglitazone</th>\n",
              "      <th>metformin-rosiglitazone</th>\n",
              "      <th>metformin-pioglitazone</th>\n",
              "      <th>change</th>\n",
              "      <th>diabetesMed</th>\n",
              "      <th>readmitted</th>\n",
              "    </tr>\n",
              "  </thead>\n",
              "  <tbody>\n",
              "    <tr>\n",
              "      <th>0</th>\n",
              "      <td>2278392</td>\n",
              "      <td>8222157</td>\n",
              "      <td>Caucasian</td>\n",
              "      <td>Female</td>\n",
              "      <td>[0-10)</td>\n",
              "      <td>?</td>\n",
              "      <td>6</td>\n",
              "      <td>25</td>\n",
              "      <td>1</td>\n",
              "      <td>1</td>\n",
              "      <td>...</td>\n",
              "      <td>No</td>\n",
              "      <td>No</td>\n",
              "      <td>No</td>\n",
              "      <td>No</td>\n",
              "      <td>No</td>\n",
              "      <td>No</td>\n",
              "      <td>No</td>\n",
              "      <td>No</td>\n",
              "      <td>No</td>\n",
              "      <td>NO</td>\n",
              "    </tr>\n",
              "    <tr>\n",
              "      <th>1</th>\n",
              "      <td>149190</td>\n",
              "      <td>55629189</td>\n",
              "      <td>Caucasian</td>\n",
              "      <td>Female</td>\n",
              "      <td>[10-20)</td>\n",
              "      <td>?</td>\n",
              "      <td>1</td>\n",
              "      <td>1</td>\n",
              "      <td>7</td>\n",
              "      <td>3</td>\n",
              "      <td>...</td>\n",
              "      <td>No</td>\n",
              "      <td>Up</td>\n",
              "      <td>No</td>\n",
              "      <td>No</td>\n",
              "      <td>No</td>\n",
              "      <td>No</td>\n",
              "      <td>No</td>\n",
              "      <td>Ch</td>\n",
              "      <td>Yes</td>\n",
              "      <td>&gt;30</td>\n",
              "    </tr>\n",
              "    <tr>\n",
              "      <th>2</th>\n",
              "      <td>64410</td>\n",
              "      <td>86047875</td>\n",
              "      <td>AfricanAmerican</td>\n",
              "      <td>Female</td>\n",
              "      <td>[20-30)</td>\n",
              "      <td>?</td>\n",
              "      <td>1</td>\n",
              "      <td>1</td>\n",
              "      <td>7</td>\n",
              "      <td>2</td>\n",
              "      <td>...</td>\n",
              "      <td>No</td>\n",
              "      <td>No</td>\n",
              "      <td>No</td>\n",
              "      <td>No</td>\n",
              "      <td>No</td>\n",
              "      <td>No</td>\n",
              "      <td>No</td>\n",
              "      <td>No</td>\n",
              "      <td>Yes</td>\n",
              "      <td>NO</td>\n",
              "    </tr>\n",
              "    <tr>\n",
              "      <th>3</th>\n",
              "      <td>500364</td>\n",
              "      <td>82442376</td>\n",
              "      <td>Caucasian</td>\n",
              "      <td>Male</td>\n",
              "      <td>[30-40)</td>\n",
              "      <td>?</td>\n",
              "      <td>1</td>\n",
              "      <td>1</td>\n",
              "      <td>7</td>\n",
              "      <td>2</td>\n",
              "      <td>...</td>\n",
              "      <td>No</td>\n",
              "      <td>Up</td>\n",
              "      <td>No</td>\n",
              "      <td>No</td>\n",
              "      <td>No</td>\n",
              "      <td>No</td>\n",
              "      <td>No</td>\n",
              "      <td>Ch</td>\n",
              "      <td>Yes</td>\n",
              "      <td>NO</td>\n",
              "    </tr>\n",
              "    <tr>\n",
              "      <th>4</th>\n",
              "      <td>16680</td>\n",
              "      <td>42519267</td>\n",
              "      <td>Caucasian</td>\n",
              "      <td>Male</td>\n",
              "      <td>[40-50)</td>\n",
              "      <td>?</td>\n",
              "      <td>1</td>\n",
              "      <td>1</td>\n",
              "      <td>7</td>\n",
              "      <td>1</td>\n",
              "      <td>...</td>\n",
              "      <td>No</td>\n",
              "      <td>Steady</td>\n",
              "      <td>No</td>\n",
              "      <td>No</td>\n",
              "      <td>No</td>\n",
              "      <td>No</td>\n",
              "      <td>No</td>\n",
              "      <td>Ch</td>\n",
              "      <td>Yes</td>\n",
              "      <td>NO</td>\n",
              "    </tr>\n",
              "  </tbody>\n",
              "</table>\n",
              "<p>5 rows × 50 columns</p>\n",
              "</div>\n",
              "      <button class=\"colab-df-convert\" onclick=\"convertToInteractive('df-d6a4943f-21fa-467b-83c7-b96d2b3aa636')\"\n",
              "              title=\"Convert this dataframe to an interactive table.\"\n",
              "              style=\"display:none;\">\n",
              "        \n",
              "  <svg xmlns=\"http://www.w3.org/2000/svg\" height=\"24px\"viewBox=\"0 0 24 24\"\n",
              "       width=\"24px\">\n",
              "    <path d=\"M0 0h24v24H0V0z\" fill=\"none\"/>\n",
              "    <path d=\"M18.56 5.44l.94 2.06.94-2.06 2.06-.94-2.06-.94-.94-2.06-.94 2.06-2.06.94zm-11 1L8.5 8.5l.94-2.06 2.06-.94-2.06-.94L8.5 2.5l-.94 2.06-2.06.94zm10 10l.94 2.06.94-2.06 2.06-.94-2.06-.94-.94-2.06-.94 2.06-2.06.94z\"/><path d=\"M17.41 7.96l-1.37-1.37c-.4-.4-.92-.59-1.43-.59-.52 0-1.04.2-1.43.59L10.3 9.45l-7.72 7.72c-.78.78-.78 2.05 0 2.83L4 21.41c.39.39.9.59 1.41.59.51 0 1.02-.2 1.41-.59l7.78-7.78 2.81-2.81c.8-.78.8-2.07 0-2.86zM5.41 20L4 18.59l7.72-7.72 1.47 1.35L5.41 20z\"/>\n",
              "  </svg>\n",
              "      </button>\n",
              "      \n",
              "  <style>\n",
              "    .colab-df-container {\n",
              "      display:flex;\n",
              "      flex-wrap:wrap;\n",
              "      gap: 12px;\n",
              "    }\n",
              "\n",
              "    .colab-df-convert {\n",
              "      background-color: #E8F0FE;\n",
              "      border: none;\n",
              "      border-radius: 50%;\n",
              "      cursor: pointer;\n",
              "      display: none;\n",
              "      fill: #1967D2;\n",
              "      height: 32px;\n",
              "      padding: 0 0 0 0;\n",
              "      width: 32px;\n",
              "    }\n",
              "\n",
              "    .colab-df-convert:hover {\n",
              "      background-color: #E2EBFA;\n",
              "      box-shadow: 0px 1px 2px rgba(60, 64, 67, 0.3), 0px 1px 3px 1px rgba(60, 64, 67, 0.15);\n",
              "      fill: #174EA6;\n",
              "    }\n",
              "\n",
              "    [theme=dark] .colab-df-convert {\n",
              "      background-color: #3B4455;\n",
              "      fill: #D2E3FC;\n",
              "    }\n",
              "\n",
              "    [theme=dark] .colab-df-convert:hover {\n",
              "      background-color: #434B5C;\n",
              "      box-shadow: 0px 1px 3px 1px rgba(0, 0, 0, 0.15);\n",
              "      filter: drop-shadow(0px 1px 2px rgba(0, 0, 0, 0.3));\n",
              "      fill: #FFFFFF;\n",
              "    }\n",
              "  </style>\n",
              "\n",
              "      <script>\n",
              "        const buttonEl =\n",
              "          document.querySelector('#df-d6a4943f-21fa-467b-83c7-b96d2b3aa636 button.colab-df-convert');\n",
              "        buttonEl.style.display =\n",
              "          google.colab.kernel.accessAllowed ? 'block' : 'none';\n",
              "\n",
              "        async function convertToInteractive(key) {\n",
              "          const element = document.querySelector('#df-d6a4943f-21fa-467b-83c7-b96d2b3aa636');\n",
              "          const dataTable =\n",
              "            await google.colab.kernel.invokeFunction('convertToInteractive',\n",
              "                                                     [key], {});\n",
              "          if (!dataTable) return;\n",
              "\n",
              "          const docLinkHtml = 'Like what you see? Visit the ' +\n",
              "            '<a target=\"_blank\" href=https://colab.research.google.com/notebooks/data_table.ipynb>data table notebook</a>'\n",
              "            + ' to learn more about interactive tables.';\n",
              "          element.innerHTML = '';\n",
              "          dataTable['output_type'] = 'display_data';\n",
              "          await google.colab.output.renderOutput(dataTable, element);\n",
              "          const docLink = document.createElement('div');\n",
              "          docLink.innerHTML = docLinkHtml;\n",
              "          element.appendChild(docLink);\n",
              "        }\n",
              "      </script>\n",
              "    </div>\n",
              "  </div>\n",
              "  "
            ]
          },
          "metadata": {},
          "execution_count": 9
        }
      ],
      "source": [
        "dataset.head()"
      ]
    },
    {
      "cell_type": "code",
      "execution_count": null,
      "metadata": {
        "colab": {
          "base_uri": "https://localhost:8080/"
        },
        "id": "1gv4BHFe22wx",
        "outputId": "46b23c86-8f6c-4cd8-8e62-5bfe4f9bdc3e"
      },
      "outputs": [
        {
          "output_type": "execute_result",
          "data": {
            "text/plain": [
              "(101766, 50)"
            ]
          },
          "metadata": {},
          "execution_count": 10
        }
      ],
      "source": [
        "#How many rows and column in the dataset.\n",
        "dataset.shape"
      ]
    },
    {
      "cell_type": "code",
      "execution_count": null,
      "metadata": {
        "colab": {
          "base_uri": "https://localhost:8080/"
        },
        "id": "aHy0IL4G0GnQ",
        "outputId": "892d3622-9fd4-45c0-ec56-3fd0e6f0d0df"
      },
      "outputs": [
        {
          "output_type": "execute_result",
          "data": {
            "text/plain": [
              "encounter_id                 int64\n",
              "patient_nbr                  int64\n",
              "race                        object\n",
              "gender                      object\n",
              "age                         object\n",
              "weight                      object\n",
              "admission_type_id            int64\n",
              "discharge_disposition_id     int64\n",
              "admission_source_id          int64\n",
              "time_in_hospital             int64\n",
              "payer_code                  object\n",
              "medical_specialty           object\n",
              "num_lab_procedures           int64\n",
              "num_procedures               int64\n",
              "num_medications              int64\n",
              "number_outpatient            int64\n",
              "number_emergency             int64\n",
              "number_inpatient             int64\n",
              "diag_1                      object\n",
              "diag_2                      object\n",
              "diag_3                      object\n",
              "number_diagnoses             int64\n",
              "max_glu_serum               object\n",
              "A1Cresult                   object\n",
              "metformin                   object\n",
              "repaglinide                 object\n",
              "nateglinide                 object\n",
              "chlorpropamide              object\n",
              "glimepiride                 object\n",
              "acetohexamide               object\n",
              "glipizide                   object\n",
              "glyburide                   object\n",
              "tolbutamide                 object\n",
              "pioglitazone                object\n",
              "rosiglitazone               object\n",
              "acarbose                    object\n",
              "miglitol                    object\n",
              "troglitazone                object\n",
              "tolazamide                  object\n",
              "examide                     object\n",
              "citoglipton                 object\n",
              "insulin                     object\n",
              "glyburide-metformin         object\n",
              "glipizide-metformin         object\n",
              "glimepiride-pioglitazone    object\n",
              "metformin-rosiglitazone     object\n",
              "metformin-pioglitazone      object\n",
              "change                      object\n",
              "diabetesMed                 object\n",
              "readmitted                  object\n",
              "dtype: object"
            ]
          },
          "metadata": {},
          "execution_count": 11
        }
      ],
      "source": [
        "#datatypes of attributes\n",
        "dataset.dtypes"
      ]
    },
    {
      "cell_type": "code",
      "execution_count": null,
      "metadata": {
        "colab": {
          "base_uri": "https://localhost:8080/"
        },
        "id": "DfUWPYXVftMA",
        "outputId": "7c585cb3-1be0-4048-e002-35e1fce26b4e"
      },
      "outputs": [
        {
          "output_type": "stream",
          "name": "stdout",
          "text": [
            "<class 'pandas.core.frame.DataFrame'>\n",
            "RangeIndex: 101766 entries, 0 to 101765\n",
            "Data columns (total 50 columns):\n",
            " #   Column                    Non-Null Count   Dtype \n",
            "---  ------                    --------------   ----- \n",
            " 0   encounter_id              101766 non-null  int64 \n",
            " 1   patient_nbr               101766 non-null  int64 \n",
            " 2   race                      101766 non-null  object\n",
            " 3   gender                    101766 non-null  object\n",
            " 4   age                       101766 non-null  object\n",
            " 5   weight                    101766 non-null  object\n",
            " 6   admission_type_id         101766 non-null  int64 \n",
            " 7   discharge_disposition_id  101766 non-null  int64 \n",
            " 8   admission_source_id       101766 non-null  int64 \n",
            " 9   time_in_hospital          101766 non-null  int64 \n",
            " 10  payer_code                101766 non-null  object\n",
            " 11  medical_specialty         101766 non-null  object\n",
            " 12  num_lab_procedures        101766 non-null  int64 \n",
            " 13  num_procedures            101766 non-null  int64 \n",
            " 14  num_medications           101766 non-null  int64 \n",
            " 15  number_outpatient         101766 non-null  int64 \n",
            " 16  number_emergency          101766 non-null  int64 \n",
            " 17  number_inpatient          101766 non-null  int64 \n",
            " 18  diag_1                    101766 non-null  object\n",
            " 19  diag_2                    101766 non-null  object\n",
            " 20  diag_3                    101766 non-null  object\n",
            " 21  number_diagnoses          101766 non-null  int64 \n",
            " 22  max_glu_serum             101766 non-null  object\n",
            " 23  A1Cresult                 101766 non-null  object\n",
            " 24  metformin                 101766 non-null  object\n",
            " 25  repaglinide               101766 non-null  object\n",
            " 26  nateglinide               101766 non-null  object\n",
            " 27  chlorpropamide            101766 non-null  object\n",
            " 28  glimepiride               101766 non-null  object\n",
            " 29  acetohexamide             101766 non-null  object\n",
            " 30  glipizide                 101766 non-null  object\n",
            " 31  glyburide                 101766 non-null  object\n",
            " 32  tolbutamide               101766 non-null  object\n",
            " 33  pioglitazone              101766 non-null  object\n",
            " 34  rosiglitazone             101766 non-null  object\n",
            " 35  acarbose                  101766 non-null  object\n",
            " 36  miglitol                  101766 non-null  object\n",
            " 37  troglitazone              101766 non-null  object\n",
            " 38  tolazamide                101766 non-null  object\n",
            " 39  examide                   101766 non-null  object\n",
            " 40  citoglipton               101766 non-null  object\n",
            " 41  insulin                   101766 non-null  object\n",
            " 42  glyburide-metformin       101766 non-null  object\n",
            " 43  glipizide-metformin       101766 non-null  object\n",
            " 44  glimepiride-pioglitazone  101766 non-null  object\n",
            " 45  metformin-rosiglitazone   101766 non-null  object\n",
            " 46  metformin-pioglitazone    101766 non-null  object\n",
            " 47  change                    101766 non-null  object\n",
            " 48  diabetesMed               101766 non-null  object\n",
            " 49  readmitted                101766 non-null  object\n",
            "dtypes: int64(13), object(37)\n",
            "memory usage: 38.8+ MB\n"
          ]
        }
      ],
      "source": [
        "dataset.info()"
      ]
    },
    {
      "cell_type": "code",
      "execution_count": null,
      "metadata": {
        "colab": {
          "base_uri": "https://localhost:8080/",
          "height": 364
        },
        "id": "51690SFcfxZa",
        "outputId": "67113ccb-0d2b-4e4c-ed1c-f1fedf1ec982"
      },
      "outputs": [
        {
          "output_type": "execute_result",
          "data": {
            "text/plain": [
              "       encounter_id   patient_nbr  admission_type_id  \\\n",
              "count  1.017660e+05  1.017660e+05      101766.000000   \n",
              "mean   1.652016e+08  5.433040e+07           2.024006   \n",
              "std    1.026403e+08  3.869636e+07           1.445403   \n",
              "min    1.252200e+04  1.350000e+02           1.000000   \n",
              "25%    8.496119e+07  2.341322e+07           1.000000   \n",
              "50%    1.523890e+08  4.550514e+07           1.000000   \n",
              "75%    2.302709e+08  8.754595e+07           3.000000   \n",
              "max    4.438672e+08  1.895026e+08           8.000000   \n",
              "\n",
              "       discharge_disposition_id  admission_source_id  time_in_hospital  \\\n",
              "count             101766.000000        101766.000000     101766.000000   \n",
              "mean                   3.715642             5.754437          4.395987   \n",
              "std                    5.280166             4.064081          2.985108   \n",
              "min                    1.000000             1.000000          1.000000   \n",
              "25%                    1.000000             1.000000          2.000000   \n",
              "50%                    1.000000             7.000000          4.000000   \n",
              "75%                    4.000000             7.000000          6.000000   \n",
              "max                   28.000000            25.000000         14.000000   \n",
              "\n",
              "       num_lab_procedures  num_procedures  num_medications  number_outpatient  \\\n",
              "count       101766.000000   101766.000000    101766.000000      101766.000000   \n",
              "mean            43.095641        1.339730        16.021844           0.369357   \n",
              "std             19.674362        1.705807         8.127566           1.267265   \n",
              "min              1.000000        0.000000         1.000000           0.000000   \n",
              "25%             31.000000        0.000000        10.000000           0.000000   \n",
              "50%             44.000000        1.000000        15.000000           0.000000   \n",
              "75%             57.000000        2.000000        20.000000           0.000000   \n",
              "max            132.000000        6.000000        81.000000          42.000000   \n",
              "\n",
              "       number_emergency  number_inpatient  number_diagnoses  \n",
              "count     101766.000000     101766.000000     101766.000000  \n",
              "mean           0.197836          0.635566          7.422607  \n",
              "std            0.930472          1.262863          1.933600  \n",
              "min            0.000000          0.000000          1.000000  \n",
              "25%            0.000000          0.000000          6.000000  \n",
              "50%            0.000000          0.000000          8.000000  \n",
              "75%            0.000000          1.000000          9.000000  \n",
              "max           76.000000         21.000000         16.000000  "
            ],
            "text/html": [
              "\n",
              "  <div id=\"df-11dcbc58-b83b-47c7-98f2-c0f31f4fc214\">\n",
              "    <div class=\"colab-df-container\">\n",
              "      <div>\n",
              "<style scoped>\n",
              "    .dataframe tbody tr th:only-of-type {\n",
              "        vertical-align: middle;\n",
              "    }\n",
              "\n",
              "    .dataframe tbody tr th {\n",
              "        vertical-align: top;\n",
              "    }\n",
              "\n",
              "    .dataframe thead th {\n",
              "        text-align: right;\n",
              "    }\n",
              "</style>\n",
              "<table border=\"1\" class=\"dataframe\">\n",
              "  <thead>\n",
              "    <tr style=\"text-align: right;\">\n",
              "      <th></th>\n",
              "      <th>encounter_id</th>\n",
              "      <th>patient_nbr</th>\n",
              "      <th>admission_type_id</th>\n",
              "      <th>discharge_disposition_id</th>\n",
              "      <th>admission_source_id</th>\n",
              "      <th>time_in_hospital</th>\n",
              "      <th>num_lab_procedures</th>\n",
              "      <th>num_procedures</th>\n",
              "      <th>num_medications</th>\n",
              "      <th>number_outpatient</th>\n",
              "      <th>number_emergency</th>\n",
              "      <th>number_inpatient</th>\n",
              "      <th>number_diagnoses</th>\n",
              "    </tr>\n",
              "  </thead>\n",
              "  <tbody>\n",
              "    <tr>\n",
              "      <th>count</th>\n",
              "      <td>1.017660e+05</td>\n",
              "      <td>1.017660e+05</td>\n",
              "      <td>101766.000000</td>\n",
              "      <td>101766.000000</td>\n",
              "      <td>101766.000000</td>\n",
              "      <td>101766.000000</td>\n",
              "      <td>101766.000000</td>\n",
              "      <td>101766.000000</td>\n",
              "      <td>101766.000000</td>\n",
              "      <td>101766.000000</td>\n",
              "      <td>101766.000000</td>\n",
              "      <td>101766.000000</td>\n",
              "      <td>101766.000000</td>\n",
              "    </tr>\n",
              "    <tr>\n",
              "      <th>mean</th>\n",
              "      <td>1.652016e+08</td>\n",
              "      <td>5.433040e+07</td>\n",
              "      <td>2.024006</td>\n",
              "      <td>3.715642</td>\n",
              "      <td>5.754437</td>\n",
              "      <td>4.395987</td>\n",
              "      <td>43.095641</td>\n",
              "      <td>1.339730</td>\n",
              "      <td>16.021844</td>\n",
              "      <td>0.369357</td>\n",
              "      <td>0.197836</td>\n",
              "      <td>0.635566</td>\n",
              "      <td>7.422607</td>\n",
              "    </tr>\n",
              "    <tr>\n",
              "      <th>std</th>\n",
              "      <td>1.026403e+08</td>\n",
              "      <td>3.869636e+07</td>\n",
              "      <td>1.445403</td>\n",
              "      <td>5.280166</td>\n",
              "      <td>4.064081</td>\n",
              "      <td>2.985108</td>\n",
              "      <td>19.674362</td>\n",
              "      <td>1.705807</td>\n",
              "      <td>8.127566</td>\n",
              "      <td>1.267265</td>\n",
              "      <td>0.930472</td>\n",
              "      <td>1.262863</td>\n",
              "      <td>1.933600</td>\n",
              "    </tr>\n",
              "    <tr>\n",
              "      <th>min</th>\n",
              "      <td>1.252200e+04</td>\n",
              "      <td>1.350000e+02</td>\n",
              "      <td>1.000000</td>\n",
              "      <td>1.000000</td>\n",
              "      <td>1.000000</td>\n",
              "      <td>1.000000</td>\n",
              "      <td>1.000000</td>\n",
              "      <td>0.000000</td>\n",
              "      <td>1.000000</td>\n",
              "      <td>0.000000</td>\n",
              "      <td>0.000000</td>\n",
              "      <td>0.000000</td>\n",
              "      <td>1.000000</td>\n",
              "    </tr>\n",
              "    <tr>\n",
              "      <th>25%</th>\n",
              "      <td>8.496119e+07</td>\n",
              "      <td>2.341322e+07</td>\n",
              "      <td>1.000000</td>\n",
              "      <td>1.000000</td>\n",
              "      <td>1.000000</td>\n",
              "      <td>2.000000</td>\n",
              "      <td>31.000000</td>\n",
              "      <td>0.000000</td>\n",
              "      <td>10.000000</td>\n",
              "      <td>0.000000</td>\n",
              "      <td>0.000000</td>\n",
              "      <td>0.000000</td>\n",
              "      <td>6.000000</td>\n",
              "    </tr>\n",
              "    <tr>\n",
              "      <th>50%</th>\n",
              "      <td>1.523890e+08</td>\n",
              "      <td>4.550514e+07</td>\n",
              "      <td>1.000000</td>\n",
              "      <td>1.000000</td>\n",
              "      <td>7.000000</td>\n",
              "      <td>4.000000</td>\n",
              "      <td>44.000000</td>\n",
              "      <td>1.000000</td>\n",
              "      <td>15.000000</td>\n",
              "      <td>0.000000</td>\n",
              "      <td>0.000000</td>\n",
              "      <td>0.000000</td>\n",
              "      <td>8.000000</td>\n",
              "    </tr>\n",
              "    <tr>\n",
              "      <th>75%</th>\n",
              "      <td>2.302709e+08</td>\n",
              "      <td>8.754595e+07</td>\n",
              "      <td>3.000000</td>\n",
              "      <td>4.000000</td>\n",
              "      <td>7.000000</td>\n",
              "      <td>6.000000</td>\n",
              "      <td>57.000000</td>\n",
              "      <td>2.000000</td>\n",
              "      <td>20.000000</td>\n",
              "      <td>0.000000</td>\n",
              "      <td>0.000000</td>\n",
              "      <td>1.000000</td>\n",
              "      <td>9.000000</td>\n",
              "    </tr>\n",
              "    <tr>\n",
              "      <th>max</th>\n",
              "      <td>4.438672e+08</td>\n",
              "      <td>1.895026e+08</td>\n",
              "      <td>8.000000</td>\n",
              "      <td>28.000000</td>\n",
              "      <td>25.000000</td>\n",
              "      <td>14.000000</td>\n",
              "      <td>132.000000</td>\n",
              "      <td>6.000000</td>\n",
              "      <td>81.000000</td>\n",
              "      <td>42.000000</td>\n",
              "      <td>76.000000</td>\n",
              "      <td>21.000000</td>\n",
              "      <td>16.000000</td>\n",
              "    </tr>\n",
              "  </tbody>\n",
              "</table>\n",
              "</div>\n",
              "      <button class=\"colab-df-convert\" onclick=\"convertToInteractive('df-11dcbc58-b83b-47c7-98f2-c0f31f4fc214')\"\n",
              "              title=\"Convert this dataframe to an interactive table.\"\n",
              "              style=\"display:none;\">\n",
              "        \n",
              "  <svg xmlns=\"http://www.w3.org/2000/svg\" height=\"24px\"viewBox=\"0 0 24 24\"\n",
              "       width=\"24px\">\n",
              "    <path d=\"M0 0h24v24H0V0z\" fill=\"none\"/>\n",
              "    <path d=\"M18.56 5.44l.94 2.06.94-2.06 2.06-.94-2.06-.94-.94-2.06-.94 2.06-2.06.94zm-11 1L8.5 8.5l.94-2.06 2.06-.94-2.06-.94L8.5 2.5l-.94 2.06-2.06.94zm10 10l.94 2.06.94-2.06 2.06-.94-2.06-.94-.94-2.06-.94 2.06-2.06.94z\"/><path d=\"M17.41 7.96l-1.37-1.37c-.4-.4-.92-.59-1.43-.59-.52 0-1.04.2-1.43.59L10.3 9.45l-7.72 7.72c-.78.78-.78 2.05 0 2.83L4 21.41c.39.39.9.59 1.41.59.51 0 1.02-.2 1.41-.59l7.78-7.78 2.81-2.81c.8-.78.8-2.07 0-2.86zM5.41 20L4 18.59l7.72-7.72 1.47 1.35L5.41 20z\"/>\n",
              "  </svg>\n",
              "      </button>\n",
              "      \n",
              "  <style>\n",
              "    .colab-df-container {\n",
              "      display:flex;\n",
              "      flex-wrap:wrap;\n",
              "      gap: 12px;\n",
              "    }\n",
              "\n",
              "    .colab-df-convert {\n",
              "      background-color: #E8F0FE;\n",
              "      border: none;\n",
              "      border-radius: 50%;\n",
              "      cursor: pointer;\n",
              "      display: none;\n",
              "      fill: #1967D2;\n",
              "      height: 32px;\n",
              "      padding: 0 0 0 0;\n",
              "      width: 32px;\n",
              "    }\n",
              "\n",
              "    .colab-df-convert:hover {\n",
              "      background-color: #E2EBFA;\n",
              "      box-shadow: 0px 1px 2px rgba(60, 64, 67, 0.3), 0px 1px 3px 1px rgba(60, 64, 67, 0.15);\n",
              "      fill: #174EA6;\n",
              "    }\n",
              "\n",
              "    [theme=dark] .colab-df-convert {\n",
              "      background-color: #3B4455;\n",
              "      fill: #D2E3FC;\n",
              "    }\n",
              "\n",
              "    [theme=dark] .colab-df-convert:hover {\n",
              "      background-color: #434B5C;\n",
              "      box-shadow: 0px 1px 3px 1px rgba(0, 0, 0, 0.15);\n",
              "      filter: drop-shadow(0px 1px 2px rgba(0, 0, 0, 0.3));\n",
              "      fill: #FFFFFF;\n",
              "    }\n",
              "  </style>\n",
              "\n",
              "      <script>\n",
              "        const buttonEl =\n",
              "          document.querySelector('#df-11dcbc58-b83b-47c7-98f2-c0f31f4fc214 button.colab-df-convert');\n",
              "        buttonEl.style.display =\n",
              "          google.colab.kernel.accessAllowed ? 'block' : 'none';\n",
              "\n",
              "        async function convertToInteractive(key) {\n",
              "          const element = document.querySelector('#df-11dcbc58-b83b-47c7-98f2-c0f31f4fc214');\n",
              "          const dataTable =\n",
              "            await google.colab.kernel.invokeFunction('convertToInteractive',\n",
              "                                                     [key], {});\n",
              "          if (!dataTable) return;\n",
              "\n",
              "          const docLinkHtml = 'Like what you see? Visit the ' +\n",
              "            '<a target=\"_blank\" href=https://colab.research.google.com/notebooks/data_table.ipynb>data table notebook</a>'\n",
              "            + ' to learn more about interactive tables.';\n",
              "          element.innerHTML = '';\n",
              "          dataTable['output_type'] = 'display_data';\n",
              "          await google.colab.output.renderOutput(dataTable, element);\n",
              "          const docLink = document.createElement('div');\n",
              "          docLink.innerHTML = docLinkHtml;\n",
              "          element.appendChild(docLink);\n",
              "        }\n",
              "      </script>\n",
              "    </div>\n",
              "  </div>\n",
              "  "
            ]
          },
          "metadata": {},
          "execution_count": 13
        }
      ],
      "source": [
        "dataset.describe()"
      ]
    },
    {
      "cell_type": "code",
      "execution_count": null,
      "metadata": {
        "colab": {
          "base_uri": "https://localhost:8080/"
        },
        "id": "niox5lppz9fO",
        "outputId": "d46c2175-2e40-4f07-b2d4-ea97dbbf9e11"
      },
      "outputs": [
        {
          "output_type": "execute_result",
          "data": {
            "text/plain": [
              "?            98569\n",
              "[75-100)      1336\n",
              "[50-75)        897\n",
              "[100-125)      625\n",
              "[125-150)      145\n",
              "[25-50)         97\n",
              "[0-25)          48\n",
              "[150-175)       35\n",
              "[175-200)       11\n",
              ">200             3\n",
              "Name: weight, dtype: int64"
            ]
          },
          "metadata": {},
          "execution_count": 14
        }
      ],
      "source": [
        "dataset['weight'].value_counts()\n",
        "#Here \"?\" value is 98569\n"
      ]
    },
    {
      "cell_type": "code",
      "execution_count": null,
      "metadata": {
        "id": "1yiVwalocw4G"
      },
      "outputs": [],
      "source": []
    },
    {
      "cell_type": "code",
      "execution_count": null,
      "metadata": {
        "id": "xMQYnYRj0bEU",
        "colab": {
          "base_uri": "https://localhost:8080/",
          "height": 351
        },
        "outputId": "cbcc9297-bfb9-4e17-9d63-5150efae3007"
      },
      "outputs": [
        {
          "output_type": "execute_result",
          "data": {
            "text/plain": [
              "<AxesSubplot:xlabel='weight', ylabel='count'>"
            ]
          },
          "metadata": {},
          "execution_count": 15
        },
        {
          "output_type": "display_data",
          "data": {
            "text/plain": [
              "<Figure size 720x360 with 1 Axes>"
            ],
            "image/png": "[encoded data removed]"
          },
          "metadata": {
            "needs_background": "light"
          }
        }
      ],
      "source": [
        "plt.figure(figsize=(10,5))\n",
        "sns.countplot(dataset['weight'])"
      ]
    },
    {
      "cell_type": "code",
      "execution_count": null,
      "metadata": {
        "id": "iWs1Kuyi03A2",
        "colab": {
          "base_uri": "https://localhost:8080/"
        },
        "outputId": "24fea7be-287a-477e-f595-7962a583f6cc"
      },
      "outputs": [
        {
          "output_type": "execute_result",
          "data": {
            "text/plain": [
              "[70-80)     26068\n",
              "[60-70)     22483\n",
              "[50-60)     17256\n",
              "[80-90)     17197\n",
              "[40-50)      9685\n",
              "[30-40)      3775\n",
              "[90-100)     2793\n",
              "[20-30)      1657\n",
              "[10-20)       691\n",
              "[0-10)        161\n",
              "Name: age, dtype: int64"
            ]
          },
          "metadata": {},
          "execution_count": 18
        }
      ],
      "source": [
        "dataset['age'].value_counts()\n",
        "#the variables between that specific  value"
      ]
    },
    {
      "cell_type": "code",
      "execution_count": null,
      "metadata": {
        "colab": {
          "base_uri": "https://localhost:8080/",
          "height": 514
        },
        "id": "JKeCPF0N0z1X",
        "outputId": "3a58ed8f-6aa6-44bd-bc14-ff0e5df0f3f4"
      },
      "outputs": [
        {
          "output_type": "execute_result",
          "data": {
            "text/plain": [
              "<AxesSubplot:xlabel='age', ylabel='count'>"
            ]
          },
          "metadata": {},
          "execution_count": 19
        },
        {
          "output_type": "display_data",
          "data": {
            "text/plain": [
              "<Figure size 720x576 with 1 Axes>"
            ],
            "image/png": "[encoded data removed]"
          },
          "metadata": {
            "needs_background": "light"
          }
        }
      ],
      "source": [
        "plt.figure(figsize=(10,8))\n",
        "sns.countplot(dataset['age'])"
      ]
    },
    {
      "cell_type": "code",
      "execution_count": null,
      "metadata": {
        "id": "jR-_yqkH1Xth",
        "colab": {
          "base_uri": "https://localhost:8080/",
          "height": 280
        },
        "outputId": "632f4769-3c33-4011-adce-4ed3a7657f00"
      },
      "outputs": [
        {
          "output_type": "display_data",
          "data": {
            "text/plain": [
              "<Figure size 432x288 with 1 Axes>"
            ],
            "image/png": "[encoded data removed]"
          },
          "metadata": {
            "needs_background": "light"
          }
        }
      ],
      "source": [
        "sns.kdeplot(dataset['time_in_hospital'],gridsize=10,cut=1)   #Majority of the patient spends 2–5 days in hospital\n",
        "plt.show()\n"
      ]
    },
    {
      "cell_type": "code",
      "execution_count": null,
      "metadata": {
        "id": "TqWTWWI41pJu",
        "colab": {
          "base_uri": "https://localhost:8080/",
          "height": 498
        },
        "outputId": "bb9eb6ef-c1c0-42f1-ebe8-ca30d3b8d92f"
      },
      "outputs": [
        {
          "output_type": "display_data",
          "data": {
            "text/plain": [
              "<Figure size 720x576 with 1 Axes>"
            ],
            "image/png": "[encoded data removed]"
          },
          "metadata": {
            "needs_background": "light"
          }
        }
      ],
      "source": [
        "plt.figure(figsize=(10,8))\n",
        "sns.countplot(dataset['time_in_hospital'])\n",
        "plt.show()"
      ]
    },
    {
      "cell_type": "markdown",
      "metadata": {
        "id": "5Sw2hjFqhczH"
      },
      "source": [
        "#PRE-PROCESSING DATA ANALYSIS \n",
        "•Treatment of Missing and Null values\n",
        "\n",
        "•Dropping unnecessary columns\n",
        "\n",
        "•Feature Engineering\n",
        "\n",
        "•Feature Selection\n",
        "\n",
        "•Feature Scaling prior to building model"
      ]
    },
    {
      "cell_type": "markdown",
      "metadata": {
        "id": "fYezrjA4gt0o"
      },
      "source": [
        "Before we do analysis we need to make sure that there are no duplicate rows. By looking at the data we can confirm that encounter_id is unique and we are checking if there are any duplicate encounter_ids and we find that there aren't any."
      ]
    },
    {
      "cell_type": "code",
      "execution_count": null,
      "metadata": {
        "colab": {
          "base_uri": "https://localhost:8080/",
          "height": 160
        },
        "id": "nuqyGWyYwY0U",
        "outputId": "11a0da39-8b0f-40e4-adc1-085e3904934c"
      },
      "outputs": [
        {
          "output_type": "execute_result",
          "data": {
            "text/plain": [
              "Empty DataFrame\n",
              "Columns: [encounter_id, patient_nbr, race, gender, age, weight, admission_type_id, discharge_disposition_id, admission_source_id, time_in_hospital, payer_code, medical_specialty, num_lab_procedures, num_procedures, num_medications, number_outpatient, number_emergency, number_inpatient, diag_1, diag_2, diag_3, number_diagnoses, max_glu_serum, A1Cresult, metformin, repaglinide, nateglinide, chlorpropamide, glimepiride, acetohexamide, glipizide, glyburide, tolbutamide, pioglitazone, rosiglitazone, acarbose, miglitol, troglitazone, tolazamide, examide, citoglipton, insulin, glyburide-metformin, glipizide-metformin, glimepiride-pioglitazone, metformin-rosiglitazone, metformin-pioglitazone, change, diabetesMed, readmitted]\n",
              "Index: []\n",
              "\n",
              "[0 rows x 50 columns]"
            ],
            "text/html": [
              "\n",
              "  <div id=\"df-758e99a3-c228-44cb-8f81-5feda29acba5\">\n",
              "    <div class=\"colab-df-container\">\n",
              "      <div>\n",
              "<style scoped>\n",
              "    .dataframe tbody tr th:only-of-type {\n",
              "        vertical-align: middle;\n",
              "    }\n",
              "\n",
              "    .dataframe tbody tr th {\n",
              "        vertical-align: top;\n",
              "    }\n",
              "\n",
              "    .dataframe thead th {\n",
              "        text-align: right;\n",
              "    }\n",
              "</style>\n",
              "<table border=\"1\" class=\"dataframe\">\n",
              "  <thead>\n",
              "    <tr style=\"text-align: right;\">\n",
              "      <th></th>\n",
              "      <th>encounter_id</th>\n",
              "      <th>patient_nbr</th>\n",
              "      <th>race</th>\n",
              "      <th>gender</th>\n",
              "      <th>age</th>\n",
              "      <th>weight</th>\n",
              "      <th>admission_type_id</th>\n",
              "      <th>discharge_disposition_id</th>\n",
              "      <th>admission_source_id</th>\n",
              "      <th>time_in_hospital</th>\n",
              "      <th>...</th>\n",
              "      <th>citoglipton</th>\n",
              "      <th>insulin</th>\n",
              "      <th>glyburide-metformin</th>\n",
              "      <th>glipizide-metformin</th>\n",
              "      <th>glimepiride-pioglitazone</th>\n",
              "      <th>metformin-rosiglitazone</th>\n",
              "      <th>metformin-pioglitazone</th>\n",
              "      <th>change</th>\n",
              "      <th>diabetesMed</th>\n",
              "      <th>readmitted</th>\n",
              "    </tr>\n",
              "  </thead>\n",
              "  <tbody>\n",
              "  </tbody>\n",
              "</table>\n",
              "<p>0 rows × 50 columns</p>\n",
              "</div>\n",
              "      <button class=\"colab-df-convert\" onclick=\"convertToInteractive('df-758e99a3-c228-44cb-8f81-5feda29acba5')\"\n",
              "              title=\"Convert this dataframe to an interactive table.\"\n",
              "              style=\"display:none;\">\n",
              "        \n",
              "  <svg xmlns=\"http://www.w3.org/2000/svg\" height=\"24px\"viewBox=\"0 0 24 24\"\n",
              "       width=\"24px\">\n",
              "    <path d=\"M0 0h24v24H0V0z\" fill=\"none\"/>\n",
              "    <path d=\"M18.56 5.44l.94 2.06.94-2.06 2.06-.94-2.06-.94-.94-2.06-.94 2.06-2.06.94zm-11 1L8.5 8.5l.94-2.06 2.06-.94-2.06-.94L8.5 2.5l-.94 2.06-2.06.94zm10 10l.94 2.06.94-2.06 2.06-.94-2.06-.94-.94-2.06-.94 2.06-2.06.94z\"/><path d=\"M17.41 7.96l-1.37-1.37c-.4-.4-.92-.59-1.43-.59-.52 0-1.04.2-1.43.59L10.3 9.45l-7.72 7.72c-.78.78-.78 2.05 0 2.83L4 21.41c.39.39.9.59 1.41.59.51 0 1.02-.2 1.41-.59l7.78-7.78 2.81-2.81c.8-.78.8-2.07 0-2.86zM5.41 20L4 18.59l7.72-7.72 1.47 1.35L5.41 20z\"/>\n",
              "  </svg>\n",
              "      </button>\n",
              "      \n",
              "  <style>\n",
              "    .colab-df-container {\n",
              "      display:flex;\n",
              "      flex-wrap:wrap;\n",
              "      gap: 12px;\n",
              "    }\n",
              "\n",
              "    .colab-df-convert {\n",
              "      background-color: #E8F0FE;\n",
              "      border: none;\n",
              "      border-radius: 50%;\n",
              "      cursor: pointer;\n",
              "      display: none;\n",
              "      fill: #1967D2;\n",
              "      height: 32px;\n",
              "      padding: 0 0 0 0;\n",
              "      width: 32px;\n",
              "    }\n",
              "\n",
              "    .colab-df-convert:hover {\n",
              "      background-color: #E2EBFA;\n",
              "      box-shadow: 0px 1px 2px rgba(60, 64, 67, 0.3), 0px 1px 3px 1px rgba(60, 64, 67, 0.15);\n",
              "      fill: #174EA6;\n",
              "    }\n",
              "\n",
              "    [theme=dark] .colab-df-convert {\n",
              "      background-color: #3B4455;\n",
              "      fill: #D2E3FC;\n",
              "    }\n",
              "\n",
              "    [theme=dark] .colab-df-convert:hover {\n",
              "      background-color: #434B5C;\n",
              "      box-shadow: 0px 1px 3px 1px rgba(0, 0, 0, 0.15);\n",
              "      filter: drop-shadow(0px 1px 2px rgba(0, 0, 0, 0.3));\n",
              "      fill: #FFFFFF;\n",
              "    }\n",
              "  </style>\n",
              "\n",
              "      <script>\n",
              "        const buttonEl =\n",
              "          document.querySelector('#df-758e99a3-c228-44cb-8f81-5feda29acba5 button.colab-df-convert');\n",
              "        buttonEl.style.display =\n",
              "          google.colab.kernel.accessAllowed ? 'block' : 'none';\n",
              "\n",
              "        async function convertToInteractive(key) {\n",
              "          const element = document.querySelector('#df-758e99a3-c228-44cb-8f81-5feda29acba5');\n",
              "          const dataTable =\n",
              "            await google.colab.kernel.invokeFunction('convertToInteractive',\n",
              "                                                     [key], {});\n",
              "          if (!dataTable) return;\n",
              "\n",
              "          const docLinkHtml = 'Like what you see? Visit the ' +\n",
              "            '<a target=\"_blank\" href=https://colab.research.google.com/notebooks/data_table.ipynb>data table notebook</a>'\n",
              "            + ' to learn more about interactive tables.';\n",
              "          element.innerHTML = '';\n",
              "          dataTable['output_type'] = 'display_data';\n",
              "          await google.colab.output.renderOutput(dataTable, element);\n",
              "          const docLink = document.createElement('div');\n",
              "          docLink.innerHTML = docLinkHtml;\n",
              "          element.appendChild(docLink);\n",
              "        }\n",
              "      </script>\n",
              "    </div>\n",
              "  </div>\n",
              "  "
            ]
          },
          "metadata": {},
          "execution_count": 22
        }
      ],
      "source": [
        "#checking if there are any duplicates in encounter_id - no duplicates found\n",
        "ids = dataset['encounter_id']\n",
        "dataset[ids.duplicated()]\n",
        "#no duplicates found"
      ]
    },
    {
      "cell_type": "code",
      "execution_count": null,
      "metadata": {
        "colab": {
          "base_uri": "https://localhost:8080/"
        },
        "id": "Bj4N5oML1hWa",
        "outputId": "90591803-3a6d-47c1-c956-1768a4cb8e9d"
      },
      "outputs": [
        {
          "output_type": "stream",
          "name": "stdout",
          "text": [
            "gender 3\n"
          ]
        }
      ],
      "source": [
        "#One observation is unknown in gender. Replace it as a null value\n",
        "print('gender', dataset['gender'][dataset['gender'] == 'Unknown/Invalid'].count())\n",
        "dataset= dataset.replace('Unknown/Invalid', np.NaN )  "
      ]
    },
    {
      "cell_type": "code",
      "execution_count": null,
      "metadata": {
        "colab": {
          "base_uri": "https://localhost:8080/",
          "height": 403
        },
        "id": "5wufkOI8mprj",
        "outputId": "10f25430-2270-4e2f-c80d-db7e06819b98"
      },
      "outputs": [
        {
          "output_type": "execute_result",
          "data": {
            "text/plain": [
              "   encounter_id  patient_nbr             race  gender      age weight  \\\n",
              "0       2278392      8222157        Caucasian  Female   [0-10)      ?   \n",
              "1        149190     55629189        Caucasian  Female  [10-20)      ?   \n",
              "2         64410     86047875  AfricanAmerican  Female  [20-30)      ?   \n",
              "3        500364     82442376        Caucasian    Male  [30-40)      ?   \n",
              "4         16680     42519267        Caucasian    Male  [40-50)      ?   \n",
              "\n",
              "   admission_type_id  discharge_disposition_id  admission_source_id  \\\n",
              "0                  6                        25                    1   \n",
              "1                  1                         1                    7   \n",
              "2                  1                         1                    7   \n",
              "3                  1                         1                    7   \n",
              "4                  1                         1                    7   \n",
              "\n",
              "   time_in_hospital  ... citoglipton insulin  glyburide-metformin  \\\n",
              "0                 1  ...          No      No                   No   \n",
              "1                 3  ...          No      Up                   No   \n",
              "2                 2  ...          No      No                   No   \n",
              "3                 2  ...          No      Up                   No   \n",
              "4                 1  ...          No  Steady                   No   \n",
              "\n",
              "   glipizide-metformin  glimepiride-pioglitazone  metformin-rosiglitazone  \\\n",
              "0                   No                        No                       No   \n",
              "1                   No                        No                       No   \n",
              "2                   No                        No                       No   \n",
              "3                   No                        No                       No   \n",
              "4                   No                        No                       No   \n",
              "\n",
              "   metformin-pioglitazone  change diabetesMed readmitted  \n",
              "0                      No      No          No         NO  \n",
              "1                      No      Ch         Yes        >30  \n",
              "2                      No      No         Yes         NO  \n",
              "3                      No      Ch         Yes         NO  \n",
              "4                      No      Ch         Yes         NO  \n",
              "\n",
              "[5 rows x 50 columns]"
            ],
            "text/html": [
              "\n",
              "  <div id=\"df-3f85e594-3f7f-4fc0-ab2d-2e490e0d8568\">\n",
              "    <div class=\"colab-df-container\">\n",
              "      <div>\n",
              "<style scoped>\n",
              "    .dataframe tbody tr th:only-of-type {\n",
              "        vertical-align: middle;\n",
              "    }\n",
              "\n",
              "    .dataframe tbody tr th {\n",
              "        vertical-align: top;\n",
              "    }\n",
              "\n",
              "    .dataframe thead th {\n",
              "        text-align: right;\n",
              "    }\n",
              "</style>\n",
              "<table border=\"1\" class=\"dataframe\">\n",
              "  <thead>\n",
              "    <tr style=\"text-align: right;\">\n",
              "      <th></th>\n",
              "      <th>encounter_id</th>\n",
              "      <th>patient_nbr</th>\n",
              "      <th>race</th>\n",
              "      <th>gender</th>\n",
              "      <th>age</th>\n",
              "      <th>weight</th>\n",
              "      <th>admission_type_id</th>\n",
              "      <th>discharge_disposition_id</th>\n",
              "      <th>admission_source_id</th>\n",
              "      <th>time_in_hospital</th>\n",
              "      <th>...</th>\n",
              "      <th>citoglipton</th>\n",
              "      <th>insulin</th>\n",
              "      <th>glyburide-metformin</th>\n",
              "      <th>glipizide-metformin</th>\n",
              "      <th>glimepiride-pioglitazone</th>\n",
              "      <th>metformin-rosiglitazone</th>\n",
              "      <th>metformin-pioglitazone</th>\n",
              "      <th>change</th>\n",
              "      <th>diabetesMed</th>\n",
              "      <th>readmitted</th>\n",
              "    </tr>\n",
              "  </thead>\n",
              "  <tbody>\n",
              "    <tr>\n",
              "      <th>0</th>\n",
              "      <td>2278392</td>\n",
              "      <td>8222157</td>\n",
              "      <td>Caucasian</td>\n",
              "      <td>Female</td>\n",
              "      <td>[0-10)</td>\n",
              "      <td>?</td>\n",
              "      <td>6</td>\n",
              "      <td>25</td>\n",
              "      <td>1</td>\n",
              "      <td>1</td>\n",
              "      <td>...</td>\n",
              "      <td>No</td>\n",
              "      <td>No</td>\n",
              "      <td>No</td>\n",
              "      <td>No</td>\n",
              "      <td>No</td>\n",
              "      <td>No</td>\n",
              "      <td>No</td>\n",
              "      <td>No</td>\n",
              "      <td>No</td>\n",
              "      <td>NO</td>\n",
              "    </tr>\n",
              "    <tr>\n",
              "      <th>1</th>\n",
              "      <td>149190</td>\n",
              "      <td>55629189</td>\n",
              "      <td>Caucasian</td>\n",
              "      <td>Female</td>\n",
              "      <td>[10-20)</td>\n",
              "      <td>?</td>\n",
              "      <td>1</td>\n",
              "      <td>1</td>\n",
              "      <td>7</td>\n",
              "      <td>3</td>\n",
              "      <td>...</td>\n",
              "      <td>No</td>\n",
              "      <td>Up</td>\n",
              "      <td>No</td>\n",
              "      <td>No</td>\n",
              "      <td>No</td>\n",
              "      <td>No</td>\n",
              "      <td>No</td>\n",
              "      <td>Ch</td>\n",
              "      <td>Yes</td>\n",
              "      <td>&gt;30</td>\n",
              "    </tr>\n",
              "    <tr>\n",
              "      <th>2</th>\n",
              "      <td>64410</td>\n",
              "      <td>86047875</td>\n",
              "      <td>AfricanAmerican</td>\n",
              "      <td>Female</td>\n",
              "      <td>[20-30)</td>\n",
              "      <td>?</td>\n",
              "      <td>1</td>\n",
              "      <td>1</td>\n",
              "      <td>7</td>\n",
              "      <td>2</td>\n",
              "      <td>...</td>\n",
              "      <td>No</td>\n",
              "      <td>No</td>\n",
              "      <td>No</td>\n",
              "      <td>No</td>\n",
              "      <td>No</td>\n",
              "      <td>No</td>\n",
              "      <td>No</td>\n",
              "      <td>No</td>\n",
              "      <td>Yes</td>\n",
              "      <td>NO</td>\n",
              "    </tr>\n",
              "    <tr>\n",
              "      <th>3</th>\n",
              "      <td>500364</td>\n",
              "      <td>82442376</td>\n",
              "      <td>Caucasian</td>\n",
              "      <td>Male</td>\n",
              "      <td>[30-40)</td>\n",
              "      <td>?</td>\n",
              "      <td>1</td>\n",
              "      <td>1</td>\n",
              "      <td>7</td>\n",
              "      <td>2</td>\n",
              "      <td>...</td>\n",
              "      <td>No</td>\n",
              "      <td>Up</td>\n",
              "      <td>No</td>\n",
              "      <td>No</td>\n",
              "      <td>No</td>\n",
              "      <td>No</td>\n",
              "      <td>No</td>\n",
              "      <td>Ch</td>\n",
              "      <td>Yes</td>\n",
              "      <td>NO</td>\n",
              "    </tr>\n",
              "    <tr>\n",
              "      <th>4</th>\n",
              "      <td>16680</td>\n",
              "      <td>42519267</td>\n",
              "      <td>Caucasian</td>\n",
              "      <td>Male</td>\n",
              "      <td>[40-50)</td>\n",
              "      <td>?</td>\n",
              "      <td>1</td>\n",
              "      <td>1</td>\n",
              "      <td>7</td>\n",
              "      <td>1</td>\n",
              "      <td>...</td>\n",
              "      <td>No</td>\n",
              "      <td>Steady</td>\n",
              "      <td>No</td>\n",
              "      <td>No</td>\n",
              "      <td>No</td>\n",
              "      <td>No</td>\n",
              "      <td>No</td>\n",
              "      <td>Ch</td>\n",
              "      <td>Yes</td>\n",
              "      <td>NO</td>\n",
              "    </tr>\n",
              "  </tbody>\n",
              "</table>\n",
              "<p>5 rows × 50 columns</p>\n",
              "</div>\n",
              "      <button class=\"colab-df-convert\" onclick=\"convertToInteractive('df-3f85e594-3f7f-4fc0-ab2d-2e490e0d8568')\"\n",
              "              title=\"Convert this dataframe to an interactive table.\"\n",
              "              style=\"display:none;\">\n",
              "        \n",
              "  <svg xmlns=\"http://www.w3.org/2000/svg\" height=\"24px\"viewBox=\"0 0 24 24\"\n",
              "       width=\"24px\">\n",
              "    <path d=\"M0 0h24v24H0V0z\" fill=\"none\"/>\n",
              "    <path d=\"M18.56 5.44l.94 2.06.94-2.06 2.06-.94-2.06-.94-.94-2.06-.94 2.06-2.06.94zm-11 1L8.5 8.5l.94-2.06 2.06-.94-2.06-.94L8.5 2.5l-.94 2.06-2.06.94zm10 10l.94 2.06.94-2.06 2.06-.94-2.06-.94-.94-2.06-.94 2.06-2.06.94z\"/><path d=\"M17.41 7.96l-1.37-1.37c-.4-.4-.92-.59-1.43-.59-.52 0-1.04.2-1.43.59L10.3 9.45l-7.72 7.72c-.78.78-.78 2.05 0 2.83L4 21.41c.39.39.9.59 1.41.59.51 0 1.02-.2 1.41-.59l7.78-7.78 2.81-2.81c.8-.78.8-2.07 0-2.86zM5.41 20L4 18.59l7.72-7.72 1.47 1.35L5.41 20z\"/>\n",
              "  </svg>\n",
              "      </button>\n",
              "      \n",
              "  <style>\n",
              "    .colab-df-container {\n",
              "      display:flex;\n",
              "      flex-wrap:wrap;\n",
              "      gap: 12px;\n",
              "    }\n",
              "\n",
              "    .colab-df-convert {\n",
              "      background-color: #E8F0FE;\n",
              "      border: none;\n",
              "      border-radius: 50%;\n",
              "      cursor: pointer;\n",
              "      display: none;\n",
              "      fill: #1967D2;\n",
              "      height: 32px;\n",
              "      padding: 0 0 0 0;\n",
              "      width: 32px;\n",
              "    }\n",
              "\n",
              "    .colab-df-convert:hover {\n",
              "      background-color: #E2EBFA;\n",
              "      box-shadow: 0px 1px 2px rgba(60, 64, 67, 0.3), 0px 1px 3px 1px rgba(60, 64, 67, 0.15);\n",
              "      fill: #174EA6;\n",
              "    }\n",
              "\n",
              "    [theme=dark] .colab-df-convert {\n",
              "      background-color: #3B4455;\n",
              "      fill: #D2E3FC;\n",
              "    }\n",
              "\n",
              "    [theme=dark] .colab-df-convert:hover {\n",
              "      background-color: #434B5C;\n",
              "      box-shadow: 0px 1px 3px 1px rgba(0, 0, 0, 0.15);\n",
              "      filter: drop-shadow(0px 1px 2px rgba(0, 0, 0, 0.3));\n",
              "      fill: #FFFFFF;\n",
              "    }\n",
              "  </style>\n",
              "\n",
              "      <script>\n",
              "        const buttonEl =\n",
              "          document.querySelector('#df-3f85e594-3f7f-4fc0-ab2d-2e490e0d8568 button.colab-df-convert');\n",
              "        buttonEl.style.display =\n",
              "          google.colab.kernel.accessAllowed ? 'block' : 'none';\n",
              "\n",
              "        async function convertToInteractive(key) {\n",
              "          const element = document.querySelector('#df-3f85e594-3f7f-4fc0-ab2d-2e490e0d8568');\n",
              "          const dataTable =\n",
              "            await google.colab.kernel.invokeFunction('convertToInteractive',\n",
              "                                                     [key], {});\n",
              "          if (!dataTable) return;\n",
              "\n",
              "          const docLinkHtml = 'Like what you see? Visit the ' +\n",
              "            '<a target=\"_blank\" href=https://colab.research.google.com/notebooks/data_table.ipynb>data table notebook</a>'\n",
              "            + ' to learn more about interactive tables.';\n",
              "          element.innerHTML = '';\n",
              "          dataTable['output_type'] = 'display_data';\n",
              "          await google.colab.output.renderOutput(dataTable, element);\n",
              "          const docLink = document.createElement('div');\n",
              "          docLink.innerHTML = docLinkHtml;\n",
              "          element.appendChild(docLink);\n",
              "        }\n",
              "      </script>\n",
              "    </div>\n",
              "  </div>\n",
              "  "
            ]
          },
          "metadata": {},
          "execution_count": 24
        }
      ],
      "source": [
        "dataset.head()"
      ]
    },
    {
      "cell_type": "code",
      "execution_count": null,
      "metadata": {
        "colab": {
          "base_uri": "https://localhost:8080/"
        },
        "id": "L27crBfw2Aa5",
        "outputId": "d5ea0d00-92ca-4f79-ba30-3b04950f10d5"
      },
      "outputs": [
        {
          "output_type": "stream",
          "name": "stdout",
          "text": [
            "encounter_id                0\n",
            "patient_nbr                 0\n",
            "race                        0\n",
            "gender                      3\n",
            "age                         0\n",
            "weight                      0\n",
            "admission_type_id           0\n",
            "discharge_disposition_id    0\n",
            "admission_source_id         0\n",
            "time_in_hospital            0\n",
            "payer_code                  0\n",
            "medical_specialty           0\n",
            "num_lab_procedures          0\n",
            "num_procedures              0\n",
            "num_medications             0\n",
            "number_outpatient           0\n",
            "number_emergency            0\n",
            "number_inpatient            0\n",
            "diag_1                      0\n",
            "diag_2                      0\n",
            "diag_3                      0\n",
            "number_diagnoses            0\n",
            "max_glu_serum               0\n",
            "A1Cresult                   0\n",
            "metformin                   0\n",
            "repaglinide                 0\n",
            "nateglinide                 0\n",
            "chlorpropamide              0\n",
            "glimepiride                 0\n",
            "acetohexamide               0\n",
            "glipizide                   0\n",
            "glyburide                   0\n",
            "tolbutamide                 0\n",
            "pioglitazone                0\n",
            "rosiglitazone               0\n",
            "acarbose                    0\n",
            "miglitol                    0\n",
            "troglitazone                0\n",
            "tolazamide                  0\n",
            "examide                     0\n",
            "citoglipton                 0\n",
            "insulin                     0\n",
            "glyburide-metformin         0\n",
            "glipizide-metformin         0\n",
            "glimepiride-pioglitazone    0\n",
            "metformin-rosiglitazone     0\n",
            "metformin-pioglitazone      0\n",
            "change                      0\n",
            "diabetesMed                 0\n",
            "readmitted                  0\n",
            "dtype: int64\n"
          ]
        }
      ],
      "source": [
        "print(dataset.isnull().sum())"
      ]
    },
    {
      "cell_type": "code",
      "execution_count": null,
      "metadata": {
        "id": "zJFt77Csf4_r"
      },
      "outputs": [],
      "source": [
        "dataset = dataset.replace('?', np.NaN )"
      ]
    },
    {
      "cell_type": "code",
      "execution_count": null,
      "metadata": {
        "colab": {
          "base_uri": "https://localhost:8080/",
          "height": 403
        },
        "id": "F0wYqORJhWU7",
        "outputId": "4e0ac461-fa78-4f90-84ea-6501d7fb67c7"
      },
      "outputs": [
        {
          "output_type": "execute_result",
          "data": {
            "text/plain": [
              "   encounter_id  patient_nbr             race  gender      age weight  \\\n",
              "0       2278392      8222157        Caucasian  Female   [0-10)    NaN   \n",
              "1        149190     55629189        Caucasian  Female  [10-20)    NaN   \n",
              "2         64410     86047875  AfricanAmerican  Female  [20-30)    NaN   \n",
              "3        500364     82442376        Caucasian    Male  [30-40)    NaN   \n",
              "4         16680     42519267        Caucasian    Male  [40-50)    NaN   \n",
              "\n",
              "   admission_type_id  discharge_disposition_id  admission_source_id  \\\n",
              "0                  6                        25                    1   \n",
              "1                  1                         1                    7   \n",
              "2                  1                         1                    7   \n",
              "3                  1                         1                    7   \n",
              "4                  1                         1                    7   \n",
              "\n",
              "   time_in_hospital  ... citoglipton insulin  glyburide-metformin  \\\n",
              "0                 1  ...          No      No                   No   \n",
              "1                 3  ...          No      Up                   No   \n",
              "2                 2  ...          No      No                   No   \n",
              "3                 2  ...          No      Up                   No   \n",
              "4                 1  ...          No  Steady                   No   \n",
              "\n",
              "   glipizide-metformin  glimepiride-pioglitazone  metformin-rosiglitazone  \\\n",
              "0                   No                        No                       No   \n",
              "1                   No                        No                       No   \n",
              "2                   No                        No                       No   \n",
              "3                   No                        No                       No   \n",
              "4                   No                        No                       No   \n",
              "\n",
              "   metformin-pioglitazone  change diabetesMed readmitted  \n",
              "0                      No      No          No         NO  \n",
              "1                      No      Ch         Yes        >30  \n",
              "2                      No      No         Yes         NO  \n",
              "3                      No      Ch         Yes         NO  \n",
              "4                      No      Ch         Yes         NO  \n",
              "\n",
              "[5 rows x 50 columns]"
            ],
            "text/html": [
              "\n",
              "  <div id=\"df-dfe767ee-b881-46cc-84c5-aafaaad11366\">\n",
              "    <div class=\"colab-df-container\">\n",
              "      <div>\n",
              "<style scoped>\n",
              "    .dataframe tbody tr th:only-of-type {\n",
              "        vertical-align: middle;\n",
              "    }\n",
              "\n",
              "    .dataframe tbody tr th {\n",
              "        vertical-align: top;\n",
              "    }\n",
              "\n",
              "    .dataframe thead th {\n",
              "        text-align: right;\n",
              "    }\n",
              "</style>\n",
              "<table border=\"1\" class=\"dataframe\">\n",
              "  <thead>\n",
              "    <tr style=\"text-align: right;\">\n",
              "      <th></th>\n",
              "      <th>encounter_id</th>\n",
              "      <th>patient_nbr</th>\n",
              "      <th>race</th>\n",
              "      <th>gender</th>\n",
              "      <th>age</th>\n",
              "      <th>weight</th>\n",
              "      <th>admission_type_id</th>\n",
              "      <th>discharge_disposition_id</th>\n",
              "      <th>admission_source_id</th>\n",
              "      <th>time_in_hospital</th>\n",
              "      <th>...</th>\n",
              "      <th>citoglipton</th>\n",
              "      <th>insulin</th>\n",
              "      <th>glyburide-metformin</th>\n",
              "      <th>glipizide-metformin</th>\n",
              "      <th>glimepiride-pioglitazone</th>\n",
              "      <th>metformin-rosiglitazone</th>\n",
              "      <th>metformin-pioglitazone</th>\n",
              "      <th>change</th>\n",
              "      <th>diabetesMed</th>\n",
              "      <th>readmitted</th>\n",
              "    </tr>\n",
              "  </thead>\n",
              "  <tbody>\n",
              "    <tr>\n",
              "      <th>0</th>\n",
              "      <td>2278392</td>\n",
              "      <td>8222157</td>\n",
              "      <td>Caucasian</td>\n",
              "      <td>Female</td>\n",
              "      <td>[0-10)</td>\n",
              "      <td>NaN</td>\n",
              "      <td>6</td>\n",
              "      <td>25</td>\n",
              "      <td>1</td>\n",
              "      <td>1</td>\n",
              "      <td>...</td>\n",
              "      <td>No</td>\n",
              "      <td>No</td>\n",
              "      <td>No</td>\n",
              "      <td>No</td>\n",
              "      <td>No</td>\n",
              "      <td>No</td>\n",
              "      <td>No</td>\n",
              "      <td>No</td>\n",
              "      <td>No</td>\n",
              "      <td>NO</td>\n",
              "    </tr>\n",
              "    <tr>\n",
              "      <th>1</th>\n",
              "      <td>149190</td>\n",
              "      <td>55629189</td>\n",
              "      <td>Caucasian</td>\n",
              "      <td>Female</td>\n",
              "      <td>[10-20)</td>\n",
              "      <td>NaN</td>\n",
              "      <td>1</td>\n",
              "      <td>1</td>\n",
              "      <td>7</td>\n",
              "      <td>3</td>\n",
              "      <td>...</td>\n",
              "      <td>No</td>\n",
              "      <td>Up</td>\n",
              "      <td>No</td>\n",
              "      <td>No</td>\n",
              "      <td>No</td>\n",
              "      <td>No</td>\n",
              "      <td>No</td>\n",
              "      <td>Ch</td>\n",
              "      <td>Yes</td>\n",
              "      <td>&gt;30</td>\n",
              "    </tr>\n",
              "    <tr>\n",
              "      <th>2</th>\n",
              "      <td>64410</td>\n",
              "      <td>86047875</td>\n",
              "      <td>AfricanAmerican</td>\n",
              "      <td>Female</td>\n",
              "      <td>[20-30)</td>\n",
              "      <td>NaN</td>\n",
              "      <td>1</td>\n",
              "      <td>1</td>\n",
              "      <td>7</td>\n",
              "      <td>2</td>\n",
              "      <td>...</td>\n",
              "      <td>No</td>\n",
              "      <td>No</td>\n",
              "      <td>No</td>\n",
              "      <td>No</td>\n",
              "      <td>No</td>\n",
              "      <td>No</td>\n",
              "      <td>No</td>\n",
              "      <td>No</td>\n",
              "      <td>Yes</td>\n",
              "      <td>NO</td>\n",
              "    </tr>\n",
              "    <tr>\n",
              "      <th>3</th>\n",
              "      <td>500364</td>\n",
              "      <td>82442376</td>\n",
              "      <td>Caucasian</td>\n",
              "      <td>Male</td>\n",
              "      <td>[30-40)</td>\n",
              "      <td>NaN</td>\n",
              "      <td>1</td>\n",
              "      <td>1</td>\n",
              "      <td>7</td>\n",
              "      <td>2</td>\n",
              "      <td>...</td>\n",
              "      <td>No</td>\n",
              "      <td>Up</td>\n",
              "      <td>No</td>\n",
              "      <td>No</td>\n",
              "      <td>No</td>\n",
              "      <td>No</td>\n",
              "      <td>No</td>\n",
              "      <td>Ch</td>\n",
              "      <td>Yes</td>\n",
              "      <td>NO</td>\n",
              "    </tr>\n",
              "    <tr>\n",
              "      <th>4</th>\n",
              "      <td>16680</td>\n",
              "      <td>42519267</td>\n",
              "      <td>Caucasian</td>\n",
              "      <td>Male</td>\n",
              "      <td>[40-50)</td>\n",
              "      <td>NaN</td>\n",
              "      <td>1</td>\n",
              "      <td>1</td>\n",
              "      <td>7</td>\n",
              "      <td>1</td>\n",
              "      <td>...</td>\n",
              "      <td>No</td>\n",
              "      <td>Steady</td>\n",
              "      <td>No</td>\n",
              "      <td>No</td>\n",
              "      <td>No</td>\n",
              "      <td>No</td>\n",
              "      <td>No</td>\n",
              "      <td>Ch</td>\n",
              "      <td>Yes</td>\n",
              "      <td>NO</td>\n",
              "    </tr>\n",
              "  </tbody>\n",
              "</table>\n",
              "<p>5 rows × 50 columns</p>\n",
              "</div>\n",
              "      <button class=\"colab-df-convert\" onclick=\"convertToInteractive('df-dfe767ee-b881-46cc-84c5-aafaaad11366')\"\n",
              "              title=\"Convert this dataframe to an interactive table.\"\n",
              "              style=\"display:none;\">\n",
              "        \n",
              "  <svg xmlns=\"http://www.w3.org/2000/svg\" height=\"24px\"viewBox=\"0 0 24 24\"\n",
              "       width=\"24px\">\n",
              "    <path d=\"M0 0h24v24H0V0z\" fill=\"none\"/>\n",
              "    <path d=\"M18.56 5.44l.94 2.06.94-2.06 2.06-.94-2.06-.94-.94-2.06-.94 2.06-2.06.94zm-11 1L8.5 8.5l.94-2.06 2.06-.94-2.06-.94L8.5 2.5l-.94 2.06-2.06.94zm10 10l.94 2.06.94-2.06 2.06-.94-2.06-.94-.94-2.06-.94 2.06-2.06.94z\"/><path d=\"M17.41 7.96l-1.37-1.37c-.4-.4-.92-.59-1.43-.59-.52 0-1.04.2-1.43.59L10.3 9.45l-7.72 7.72c-.78.78-.78 2.05 0 2.83L4 21.41c.39.39.9.59 1.41.59.51 0 1.02-.2 1.41-.59l7.78-7.78 2.81-2.81c.8-.78.8-2.07 0-2.86zM5.41 20L4 18.59l7.72-7.72 1.47 1.35L5.41 20z\"/>\n",
              "  </svg>\n",
              "      </button>\n",
              "      \n",
              "  <style>\n",
              "    .colab-df-container {\n",
              "      display:flex;\n",
              "      flex-wrap:wrap;\n",
              "      gap: 12px;\n",
              "    }\n",
              "\n",
              "    .colab-df-convert {\n",
              "      background-color: #E8F0FE;\n",
              "      border: none;\n",
              "      border-radius: 50%;\n",
              "      cursor: pointer;\n",
              "      display: none;\n",
              "      fill: #1967D2;\n",
              "      height: 32px;\n",
              "      padding: 0 0 0 0;\n",
              "      width: 32px;\n",
              "    }\n",
              "\n",
              "    .colab-df-convert:hover {\n",
              "      background-color: #E2EBFA;\n",
              "      box-shadow: 0px 1px 2px rgba(60, 64, 67, 0.3), 0px 1px 3px 1px rgba(60, 64, 67, 0.15);\n",
              "      fill: #174EA6;\n",
              "    }\n",
              "\n",
              "    [theme=dark] .colab-df-convert {\n",
              "      background-color: #3B4455;\n",
              "      fill: #D2E3FC;\n",
              "    }\n",
              "\n",
              "    [theme=dark] .colab-df-convert:hover {\n",
              "      background-color: #434B5C;\n",
              "      box-shadow: 0px 1px 3px 1px rgba(0, 0, 0, 0.15);\n",
              "      filter: drop-shadow(0px 1px 2px rgba(0, 0, 0, 0.3));\n",
              "      fill: #FFFFFF;\n",
              "    }\n",
              "  </style>\n",
              "\n",
              "      <script>\n",
              "        const buttonEl =\n",
              "          document.querySelector('#df-dfe767ee-b881-46cc-84c5-aafaaad11366 button.colab-df-convert');\n",
              "        buttonEl.style.display =\n",
              "          google.colab.kernel.accessAllowed ? 'block' : 'none';\n",
              "\n",
              "        async function convertToInteractive(key) {\n",
              "          const element = document.querySelector('#df-dfe767ee-b881-46cc-84c5-aafaaad11366');\n",
              "          const dataTable =\n",
              "            await google.colab.kernel.invokeFunction('convertToInteractive',\n",
              "                                                     [key], {});\n",
              "          if (!dataTable) return;\n",
              "\n",
              "          const docLinkHtml = 'Like what you see? Visit the ' +\n",
              "            '<a target=\"_blank\" href=https://colab.research.google.com/notebooks/data_table.ipynb>data table notebook</a>'\n",
              "            + ' to learn more about interactive tables.';\n",
              "          element.innerHTML = '';\n",
              "          dataTable['output_type'] = 'display_data';\n",
              "          await google.colab.output.renderOutput(dataTable, element);\n",
              "          const docLink = document.createElement('div');\n",
              "          docLink.innerHTML = docLinkHtml;\n",
              "          element.appendChild(docLink);\n",
              "        }\n",
              "      </script>\n",
              "    </div>\n",
              "  </div>\n",
              "  "
            ]
          },
          "metadata": {},
          "execution_count": 27
        }
      ],
      "source": [
        "dataset.head()   # \"?\" is replace by \"NaN\""
      ]
    },
    {
      "cell_type": "code",
      "execution_count": null,
      "metadata": {
        "colab": {
          "base_uri": "https://localhost:8080/"
        },
        "id": "bufO51we48WZ",
        "outputId": "ee1d914b-f2a8-4416-ad12-b2e939c3196d"
      },
      "outputs": [
        {
          "output_type": "stream",
          "name": "stdout",
          "text": [
            "encounter_id                    0\n",
            "patient_nbr                     0\n",
            "race                         2273\n",
            "gender                          3\n",
            "age                             0\n",
            "weight                      98569\n",
            "admission_type_id               0\n",
            "discharge_disposition_id        0\n",
            "admission_source_id             0\n",
            "time_in_hospital                0\n",
            "payer_code                  40256\n",
            "medical_specialty           49949\n",
            "num_lab_procedures              0\n",
            "num_procedures                  0\n",
            "num_medications                 0\n",
            "number_outpatient               0\n",
            "number_emergency                0\n",
            "number_inpatient                0\n",
            "diag_1                         21\n",
            "diag_2                        358\n",
            "diag_3                       1423\n",
            "number_diagnoses                0\n",
            "max_glu_serum                   0\n",
            "A1Cresult                       0\n",
            "metformin                       0\n",
            "repaglinide                     0\n",
            "nateglinide                     0\n",
            "chlorpropamide                  0\n",
            "glimepiride                     0\n",
            "acetohexamide                   0\n",
            "glipizide                       0\n",
            "glyburide                       0\n",
            "tolbutamide                     0\n",
            "pioglitazone                    0\n",
            "rosiglitazone                   0\n",
            "acarbose                        0\n",
            "miglitol                        0\n",
            "troglitazone                    0\n",
            "tolazamide                      0\n",
            "examide                         0\n",
            "citoglipton                     0\n",
            "insulin                         0\n",
            "glyburide-metformin             0\n",
            "glipizide-metformin             0\n",
            "glimepiride-pioglitazone        0\n",
            "metformin-rosiglitazone         0\n",
            "metformin-pioglitazone          0\n",
            "change                          0\n",
            "diabetesMed                     0\n",
            "readmitted                      0\n",
            "dtype: int64\n"
          ]
        }
      ],
      "source": [
        "#finding the number of null values in each column \n",
        "print(dataset.isnull().sum())"
      ]
    },
    {
      "cell_type": "code",
      "execution_count": null,
      "metadata": {
        "colab": {
          "base_uri": "https://localhost:8080/"
        },
        "id": "mkOnZqgWhaL7",
        "outputId": "9fcdc7ec-f3c3-490c-e373-170ccd3ba69f"
      },
      "outputs": [
        {
          "output_type": "execute_result",
          "data": {
            "text/plain": [
              "(101766, 50)"
            ]
          },
          "metadata": {},
          "execution_count": 29
        }
      ],
      "source": [
        "dataset.shape"
      ]
    },
    {
      "cell_type": "code",
      "execution_count": null,
      "metadata": {
        "id": "rCowe-TQ0w0N"
      },
      "outputs": [],
      "source": [
        "dataset['admission_type_id']=dataset['admission_type_id'].astype('object')\n",
        "dataset['discharge_disposition_id']=dataset['discharge_disposition_id'].astype('object')\n",
        "dataset['admission_source_id']=dataset['admission_source_id'].astype('object')\n",
        "#changeing the datatype\n",
        "#from 'object' to 'int64'"
      ]
    },
    {
      "cell_type": "code",
      "execution_count": null,
      "metadata": {
        "id": "ovY_H0p_iyRk"
      },
      "outputs": [],
      "source": [
        "dataset.age = dataset.age.replace({\"[70-80)\" : 75,\n",
        "                               \"[60-70)\": 65,\n",
        "                               \"[80-90)\": 85,\n",
        "                               \"[40-50)\": 45,\n",
        "                               \"[50-60)\" :55,\n",
        "                               \"[30-40)\": 35,\n",
        "                               \"[90-100)\": 95,\n",
        "                               \"[20-30)\": 25,\n",
        "                               \"[10-20)\": 15,\n",
        "                               \"[0-10)\": 5})\n"
      ]
    },
    {
      "cell_type": "code",
      "execution_count": null,
      "metadata": {
        "id": "TDyI36Tu1Ka5"
      },
      "outputs": [],
      "source": [
        "dataset['age']=dataset['age'].astype('int64')"
      ]
    },
    {
      "cell_type": "code",
      "execution_count": null,
      "metadata": {
        "colab": {
          "base_uri": "https://localhost:8080/"
        },
        "id": "Fj8T1asC1Sdk",
        "outputId": "a7f9e5a4-e697-44a7-9447-405d89477899"
      },
      "outputs": [
        {
          "output_type": "stream",
          "name": "stdout",
          "text": [
            "<class 'pandas.core.frame.DataFrame'>\n",
            "RangeIndex: 101766 entries, 0 to 101765\n",
            "Data columns (total 50 columns):\n",
            " #   Column                    Non-Null Count   Dtype \n",
            "---  ------                    --------------   ----- \n",
            " 0   encounter_id              101766 non-null  int64 \n",
            " 1   patient_nbr               101766 non-null  int64 \n",
            " 2   race                      99493 non-null   object\n",
            " 3   gender                    101763 non-null  object\n",
            " 4   age                       101766 non-null  int64 \n",
            " 5   weight                    3197 non-null    object\n",
            " 6   admission_type_id         101766 non-null  object\n",
            " 7   discharge_disposition_id  101766 non-null  object\n",
            " 8   admission_source_id       101766 non-null  object\n",
            " 9   time_in_hospital          101766 non-null  int64 \n",
            " 10  payer_code                61510 non-null   object\n",
            " 11  medical_specialty         51817 non-null   object\n",
            " 12  num_lab_procedures        101766 non-null  int64 \n",
            " 13  num_procedures            101766 non-null  int64 \n",
            " 14  num_medications           101766 non-null  int64 \n",
            " 15  number_outpatient         101766 non-null  int64 \n",
            " 16  number_emergency          101766 non-null  int64 \n",
            " 17  number_inpatient          101766 non-null  int64 \n",
            " 18  diag_1                    101745 non-null  object\n",
            " 19  diag_2                    101408 non-null  object\n",
            " 20  diag_3                    100343 non-null  object\n",
            " 21  number_diagnoses          101766 non-null  int64 \n",
            " 22  max_glu_serum             101766 non-null  object\n",
            " 23  A1Cresult                 101766 non-null  object\n",
            " 24  metformin                 101766 non-null  object\n",
            " 25  repaglinide               101766 non-null  object\n",
            " 26  nateglinide               101766 non-null  object\n",
            " 27  chlorpropamide            101766 non-null  object\n",
            " 28  glimepiride               101766 non-null  object\n",
            " 29  acetohexamide             101766 non-null  object\n",
            " 30  glipizide                 101766 non-null  object\n",
            " 31  glyburide                 101766 non-null  object\n",
            " 32  tolbutamide               101766 non-null  object\n",
            " 33  pioglitazone              101766 non-null  object\n",
            " 34  rosiglitazone             101766 non-null  object\n",
            " 35  acarbose                  101766 non-null  object\n",
            " 36  miglitol                  101766 non-null  object\n",
            " 37  troglitazone              101766 non-null  object\n",
            " 38  tolazamide                101766 non-null  object\n",
            " 39  examide                   101766 non-null  object\n",
            " 40  citoglipton               101766 non-null  object\n",
            " 41  insulin                   101766 non-null  object\n",
            " 42  glyburide-metformin       101766 non-null  object\n",
            " 43  glipizide-metformin       101766 non-null  object\n",
            " 44  glimepiride-pioglitazone  101766 non-null  object\n",
            " 45  metformin-rosiglitazone   101766 non-null  object\n",
            " 46  metformin-pioglitazone    101766 non-null  object\n",
            " 47  change                    101766 non-null  object\n",
            " 48  diabetesMed               101766 non-null  object\n",
            " 49  readmitted                101766 non-null  object\n",
            "dtypes: int64(11), object(39)\n",
            "memory usage: 38.8+ MB\n"
          ]
        }
      ],
      "source": [
        "dataset.info()"
      ]
    },
    {
      "cell_type": "code",
      "execution_count": null,
      "metadata": {
        "colab": {
          "base_uri": "https://localhost:8080/"
        },
        "id": "E3LyV9Ds1YhO",
        "outputId": "8db85997-4342-4c3d-82a4-87c4f6c5a34a"
      },
      "outputs": [
        {
          "output_type": "execute_result",
          "data": {
            "text/plain": [
              "['encounter_id',\n",
              " 'patient_nbr',\n",
              " 'age',\n",
              " 'time_in_hospital',\n",
              " 'num_lab_procedures',\n",
              " 'num_procedures',\n",
              " 'num_medications',\n",
              " 'number_outpatient',\n",
              " 'number_emergency',\n",
              " 'number_inpatient',\n",
              " 'number_diagnoses']"
            ]
          },
          "metadata": {},
          "execution_count": 37
        }
      ],
      "source": [
        "# Numerical Features\n",
        "column_numrical = ['encounter_id','patient_nbr','age','time_in_hospital','num_lab_procedures', 'num_procedures', 'num_medications','number_outpatient', 'number_emergency','number_inpatient','number_diagnoses']\n",
        "column_numrical"
      ]
    },
    {
      "cell_type": "code",
      "execution_count": null,
      "metadata": {
        "colab": {
          "base_uri": "https://localhost:8080/"
        },
        "id": "uheZZ4IF1dI-",
        "outputId": "7fdd5e1c-8ee2-4fce-8d60-e0018ab6de7c"
      },
      "outputs": [
        {
          "output_type": "execute_result",
          "data": {
            "text/plain": [
              "encounter_id          0\n",
              "patient_nbr           0\n",
              "age                   0\n",
              "time_in_hospital      0\n",
              "num_lab_procedures    0\n",
              "num_procedures        0\n",
              "num_medications       0\n",
              "number_outpatient     0\n",
              "number_emergency      0\n",
              "number_inpatient      0\n",
              "number_diagnoses      0\n",
              "dtype: int64"
            ]
          },
          "metadata": {},
          "execution_count": 38
        }
      ],
      "source": [
        "dataset[column_numrical].isnull().sum()"
      ]
    },
    {
      "cell_type": "code",
      "execution_count": null,
      "metadata": {
        "colab": {
          "base_uri": "https://localhost:8080/"
        },
        "id": "kJd471dQ1i2r",
        "outputId": "19d402e0-35ab-4c9d-cbd2-a9fa2a2990d3"
      },
      "outputs": [
        {
          "output_type": "execute_result",
          "data": {
            "text/plain": [
              "['race',\n",
              " 'gender',\n",
              " 'max_glu_serum',\n",
              " 'A1Cresult',\n",
              " 'metformin',\n",
              " 'repaglinide',\n",
              " 'nateglinide',\n",
              " 'chlorpropamide',\n",
              " 'glimepiride',\n",
              " 'acetohexamide',\n",
              " 'glipizide',\n",
              " 'glyburide',\n",
              " 'tolbutamide',\n",
              " 'pioglitazone',\n",
              " 'rosiglitazone',\n",
              " 'acarbose',\n",
              " 'miglitol',\n",
              " 'troglitazone',\n",
              " 'tolazamide',\n",
              " 'insulin',\n",
              " 'glyburide-metformin',\n",
              " 'glipizide-metformin',\n",
              " 'glimepiride-pioglitazone',\n",
              " 'metformin-rosiglitazone',\n",
              " 'metformin-pioglitazone',\n",
              " 'change',\n",
              " 'diabetesMed',\n",
              " 'payer_code',\n",
              " 'readmitted']"
            ]
          },
          "metadata": {},
          "execution_count": 39
        }
      ],
      "source": [
        "#Categorical Features\n",
        "column_categorical = ['race', 'gender', \n",
        "       'max_glu_serum', 'A1Cresult',\n",
        "       'metformin', 'repaglinide', 'nateglinide', 'chlorpropamide',\n",
        "       'glimepiride', 'acetohexamide', 'glipizide', 'glyburide', 'tolbutamide',\n",
        "       'pioglitazone', 'rosiglitazone', 'acarbose', 'miglitol', 'troglitazone',\n",
        "       'tolazamide', 'insulin',\n",
        "       'glyburide-metformin', 'glipizide-metformin',\n",
        "       'glimepiride-pioglitazone', 'metformin-rosiglitazone',\n",
        "       'metformin-pioglitazone', 'change', 'diabetesMed','payer_code','readmitted']\n",
        "column_categorical"
      ]
    },
    {
      "cell_type": "code",
      "execution_count": null,
      "metadata": {
        "colab": {
          "base_uri": "https://localhost:8080/"
        },
        "id": "GYA6Cuya1m4x",
        "outputId": "ff4bf736-afb1-4771-9fbc-72ad69eee950"
      },
      "outputs": [
        {
          "output_type": "execute_result",
          "data": {
            "text/plain": [
              "race                         2273\n",
              "gender                          3\n",
              "max_glu_serum                   0\n",
              "A1Cresult                       0\n",
              "metformin                       0\n",
              "repaglinide                     0\n",
              "nateglinide                     0\n",
              "chlorpropamide                  0\n",
              "glimepiride                     0\n",
              "acetohexamide                   0\n",
              "glipizide                       0\n",
              "glyburide                       0\n",
              "tolbutamide                     0\n",
              "pioglitazone                    0\n",
              "rosiglitazone                   0\n",
              "acarbose                        0\n",
              "miglitol                        0\n",
              "troglitazone                    0\n",
              "tolazamide                      0\n",
              "insulin                         0\n",
              "glyburide-metformin             0\n",
              "glipizide-metformin             0\n",
              "glimepiride-pioglitazone        0\n",
              "metformin-rosiglitazone         0\n",
              "metformin-pioglitazone          0\n",
              "change                          0\n",
              "diabetesMed                     0\n",
              "payer_code                  40256\n",
              "readmitted                      0\n",
              "dtype: int64"
            ]
          },
          "metadata": {},
          "execution_count": 40
        }
      ],
      "source": [
        "dataset[column_categorical].isnull().sum()\n",
        "#check null value of categorical data"
      ]
    },
    {
      "cell_type": "code",
      "source": [
        "dataset.head()"
      ],
      "metadata": {
        "colab": {
          "base_uri": "https://localhost:8080/",
          "height": 317
        },
        "id": "2FJ3sFzeiMlC",
        "outputId": "48f99352-a6a0-4408-a8ee-b1c0397b9f36"
      },
      "execution_count": null,
      "outputs": [
        {
          "output_type": "execute_result",
          "data": {
            "text/plain": [
              "   encounter_id  patient_nbr             race  gender  age weight  \\\n",
              "0       2278392      8222157        Caucasian  Female    5    NaN   \n",
              "1        149190     55629189        Caucasian  Female   15    NaN   \n",
              "2         64410     86047875  AfricanAmerican  Female   25    NaN   \n",
              "3        500364     82442376        Caucasian    Male   35    NaN   \n",
              "4         16680     42519267        Caucasian    Male   45    NaN   \n",
              "\n",
              "  admission_type_id discharge_disposition_id admission_source_id  \\\n",
              "0                 6                       25                   1   \n",
              "1                 1                        1                   7   \n",
              "2                 1                        1                   7   \n",
              "3                 1                        1                   7   \n",
              "4                 1                        1                   7   \n",
              "\n",
              "   time_in_hospital  ... citoglipton insulin  glyburide-metformin  \\\n",
              "0                 1  ...          No      No                   No   \n",
              "1                 3  ...          No      Up                   No   \n",
              "2                 2  ...          No      No                   No   \n",
              "3                 2  ...          No      Up                   No   \n",
              "4                 1  ...          No  Steady                   No   \n",
              "\n",
              "   glipizide-metformin  glimepiride-pioglitazone  metformin-rosiglitazone  \\\n",
              "0                   No                        No                       No   \n",
              "1                   No                        No                       No   \n",
              "2                   No                        No                       No   \n",
              "3                   No                        No                       No   \n",
              "4                   No                        No                       No   \n",
              "\n",
              "   metformin-pioglitazone  change diabetesMed readmitted  \n",
              "0                      No      No          No         NO  \n",
              "1                      No      Ch         Yes        >30  \n",
              "2                      No      No         Yes         NO  \n",
              "3                      No      Ch         Yes         NO  \n",
              "4                      No      Ch         Yes         NO  \n",
              "\n",
              "[5 rows x 50 columns]"
            ],
            "text/html": [
              "\n",
              "  <div id=\"df-48329cab-ec45-4c66-8853-fa5beb2c848a\">\n",
              "    <div class=\"colab-df-container\">\n",
              "      <div>\n",
              "<style scoped>\n",
              "    .dataframe tbody tr th:only-of-type {\n",
              "        vertical-align: middle;\n",
              "    }\n",
              "\n",
              "    .dataframe tbody tr th {\n",
              "        vertical-align: top;\n",
              "    }\n",
              "\n",
              "    .dataframe thead th {\n",
              "        text-align: right;\n",
              "    }\n",
              "</style>\n",
              "<table border=\"1\" class=\"dataframe\">\n",
              "  <thead>\n",
              "    <tr style=\"text-align: right;\">\n",
              "      <th></th>\n",
              "      <th>encounter_id</th>\n",
              "      <th>patient_nbr</th>\n",
              "      <th>race</th>\n",
              "      <th>gender</th>\n",
              "      <th>age</th>\n",
              "      <th>weight</th>\n",
              "      <th>admission_type_id</th>\n",
              "      <th>discharge_disposition_id</th>\n",
              "      <th>admission_source_id</th>\n",
              "      <th>time_in_hospital</th>\n",
              "      <th>...</th>\n",
              "      <th>citoglipton</th>\n",
              "      <th>insulin</th>\n",
              "      <th>glyburide-metformin</th>\n",
              "      <th>glipizide-metformin</th>\n",
              "      <th>glimepiride-pioglitazone</th>\n",
              "      <th>metformin-rosiglitazone</th>\n",
              "      <th>metformin-pioglitazone</th>\n",
              "      <th>change</th>\n",
              "      <th>diabetesMed</th>\n",
              "      <th>readmitted</th>\n",
              "    </tr>\n",
              "  </thead>\n",
              "  <tbody>\n",
              "    <tr>\n",
              "      <th>0</th>\n",
              "      <td>2278392</td>\n",
              "      <td>8222157</td>\n",
              "      <td>Caucasian</td>\n",
              "      <td>Female</td>\n",
              "      <td>5</td>\n",
              "      <td>NaN</td>\n",
              "      <td>6</td>\n",
              "      <td>25</td>\n",
              "      <td>1</td>\n",
              "      <td>1</td>\n",
              "      <td>...</td>\n",
              "      <td>No</td>\n",
              "      <td>No</td>\n",
              "      <td>No</td>\n",
              "      <td>No</td>\n",
              "      <td>No</td>\n",
              "      <td>No</td>\n",
              "      <td>No</td>\n",
              "      <td>No</td>\n",
              "      <td>No</td>\n",
              "      <td>NO</td>\n",
              "    </tr>\n",
              "    <tr>\n",
              "      <th>1</th>\n",
              "      <td>149190</td>\n",
              "      <td>55629189</td>\n",
              "      <td>Caucasian</td>\n",
              "      <td>Female</td>\n",
              "      <td>15</td>\n",
              "      <td>NaN</td>\n",
              "      <td>1</td>\n",
              "      <td>1</td>\n",
              "      <td>7</td>\n",
              "      <td>3</td>\n",
              "      <td>...</td>\n",
              "      <td>No</td>\n",
              "      <td>Up</td>\n",
              "      <td>No</td>\n",
              "      <td>No</td>\n",
              "      <td>No</td>\n",
              "      <td>No</td>\n",
              "      <td>No</td>\n",
              "      <td>Ch</td>\n",
              "      <td>Yes</td>\n",
              "      <td>&gt;30</td>\n",
              "    </tr>\n",
              "    <tr>\n",
              "      <th>2</th>\n",
              "      <td>64410</td>\n",
              "      <td>86047875</td>\n",
              "      <td>AfricanAmerican</td>\n",
              "      <td>Female</td>\n",
              "      <td>25</td>\n",
              "      <td>NaN</td>\n",
              "      <td>1</td>\n",
              "      <td>1</td>\n",
              "      <td>7</td>\n",
              "      <td>2</td>\n",
              "      <td>...</td>\n",
              "      <td>No</td>\n",
              "      <td>No</td>\n",
              "      <td>No</td>\n",
              "      <td>No</td>\n",
              "      <td>No</td>\n",
              "      <td>No</td>\n",
              "      <td>No</td>\n",
              "      <td>No</td>\n",
              "      <td>Yes</td>\n",
              "      <td>NO</td>\n",
              "    </tr>\n",
              "    <tr>\n",
              "      <th>3</th>\n",
              "      <td>500364</td>\n",
              "      <td>82442376</td>\n",
              "      <td>Caucasian</td>\n",
              "      <td>Male</td>\n",
              "      <td>35</td>\n",
              "      <td>NaN</td>\n",
              "      <td>1</td>\n",
              "      <td>1</td>\n",
              "      <td>7</td>\n",
              "      <td>2</td>\n",
              "      <td>...</td>\n",
              "      <td>No</td>\n",
              "      <td>Up</td>\n",
              "      <td>No</td>\n",
              "      <td>No</td>\n",
              "      <td>No</td>\n",
              "      <td>No</td>\n",
              "      <td>No</td>\n",
              "      <td>Ch</td>\n",
              "      <td>Yes</td>\n",
              "      <td>NO</td>\n",
              "    </tr>\n",
              "    <tr>\n",
              "      <th>4</th>\n",
              "      <td>16680</td>\n",
              "      <td>42519267</td>\n",
              "      <td>Caucasian</td>\n",
              "      <td>Male</td>\n",
              "      <td>45</td>\n",
              "      <td>NaN</td>\n",
              "      <td>1</td>\n",
              "      <td>1</td>\n",
              "      <td>7</td>\n",
              "      <td>1</td>\n",
              "      <td>...</td>\n",
              "      <td>No</td>\n",
              "      <td>Steady</td>\n",
              "      <td>No</td>\n",
              "      <td>No</td>\n",
              "      <td>No</td>\n",
              "      <td>No</td>\n",
              "      <td>No</td>\n",
              "      <td>Ch</td>\n",
              "      <td>Yes</td>\n",
              "      <td>NO</td>\n",
              "    </tr>\n",
              "  </tbody>\n",
              "</table>\n",
              "<p>5 rows × 50 columns</p>\n",
              "</div>\n",
              "      <button class=\"colab-df-convert\" onclick=\"convertToInteractive('df-48329cab-ec45-4c66-8853-fa5beb2c848a')\"\n",
              "              title=\"Convert this dataframe to an interactive table.\"\n",
              "              style=\"display:none;\">\n",
              "        \n",
              "  <svg xmlns=\"http://www.w3.org/2000/svg\" height=\"24px\"viewBox=\"0 0 24 24\"\n",
              "       width=\"24px\">\n",
              "    <path d=\"M0 0h24v24H0V0z\" fill=\"none\"/>\n",
              "    <path d=\"M18.56 5.44l.94 2.06.94-2.06 2.06-.94-2.06-.94-.94-2.06-.94 2.06-2.06.94zm-11 1L8.5 8.5l.94-2.06 2.06-.94-2.06-.94L8.5 2.5l-.94 2.06-2.06.94zm10 10l.94 2.06.94-2.06 2.06-.94-2.06-.94-.94-2.06-.94 2.06-2.06.94z\"/><path d=\"M17.41 7.96l-1.37-1.37c-.4-.4-.92-.59-1.43-.59-.52 0-1.04.2-1.43.59L10.3 9.45l-7.72 7.72c-.78.78-.78 2.05 0 2.83L4 21.41c.39.39.9.59 1.41.59.51 0 1.02-.2 1.41-.59l7.78-7.78 2.81-2.81c.8-.78.8-2.07 0-2.86zM5.41 20L4 18.59l7.72-7.72 1.47 1.35L5.41 20z\"/>\n",
              "  </svg>\n",
              "      </button>\n",
              "      \n",
              "  <style>\n",
              "    .colab-df-container {\n",
              "      display:flex;\n",
              "      flex-wrap:wrap;\n",
              "      gap: 12px;\n",
              "    }\n",
              "\n",
              "    .colab-df-convert {\n",
              "      background-color: #E8F0FE;\n",
              "      border: none;\n",
              "      border-radius: 50%;\n",
              "      cursor: pointer;\n",
              "      display: none;\n",
              "      fill: #1967D2;\n",
              "      height: 32px;\n",
              "      padding: 0 0 0 0;\n",
              "      width: 32px;\n",
              "    }\n",
              "\n",
              "    .colab-df-convert:hover {\n",
              "      background-color: #E2EBFA;\n",
              "      box-shadow: 0px 1px 2px rgba(60, 64, 67, 0.3), 0px 1px 3px 1px rgba(60, 64, 67, 0.15);\n",
              "      fill: #174EA6;\n",
              "    }\n",
              "\n",
              "    [theme=dark] .colab-df-convert {\n",
              "      background-color: #3B4455;\n",
              "      fill: #D2E3FC;\n",
              "    }\n",
              "\n",
              "    [theme=dark] .colab-df-convert:hover {\n",
              "      background-color: #434B5C;\n",
              "      box-shadow: 0px 1px 3px 1px rgba(0, 0, 0, 0.15);\n",
              "      filter: drop-shadow(0px 1px 2px rgba(0, 0, 0, 0.3));\n",
              "      fill: #FFFFFF;\n",
              "    }\n",
              "  </style>\n",
              "\n",
              "      <script>\n",
              "        const buttonEl =\n",
              "          document.querySelector('#df-48329cab-ec45-4c66-8853-fa5beb2c848a button.colab-df-convert');\n",
              "        buttonEl.style.display =\n",
              "          google.colab.kernel.accessAllowed ? 'block' : 'none';\n",
              "\n",
              "        async function convertToInteractive(key) {\n",
              "          const element = document.querySelector('#df-48329cab-ec45-4c66-8853-fa5beb2c848a');\n",
              "          const dataTable =\n",
              "            await google.colab.kernel.invokeFunction('convertToInteractive',\n",
              "                                                     [key], {});\n",
              "          if (!dataTable) return;\n",
              "\n",
              "          const docLinkHtml = 'Like what you see? Visit the ' +\n",
              "            '<a target=\"_blank\" href=https://colab.research.google.com/notebooks/data_table.ipynb>data table notebook</a>'\n",
              "            + ' to learn more about interactive tables.';\n",
              "          element.innerHTML = '';\n",
              "          dataTable['output_type'] = 'display_data';\n",
              "          await google.colab.output.renderOutput(dataTable, element);\n",
              "          const docLink = document.createElement('div');\n",
              "          docLink.innerHTML = docLinkHtml;\n",
              "          element.appendChild(docLink);\n",
              "        }\n",
              "      </script>\n",
              "    </div>\n",
              "  </div>\n",
              "  "
            ]
          },
          "metadata": {},
          "execution_count": 41
        }
      ]
    },
    {
      "cell_type": "markdown",
      "metadata": {
        "id": "jcL_1WsK1twt"
      },
      "source": [
        "#race, payer_code, and medical_specialty have missing data. Since these are categorical data, the best thing to do is to just add another categorical type for unknown using the fillna function."
      ]
    },
    {
      "cell_type": "code",
      "execution_count": null,
      "metadata": {
        "id": "Q1adsHG21zuV"
      },
      "outputs": [],
      "source": [
        "dataset['race'] = dataset['race'].fillna('Unknown')\n",
        "dataset['payer_code'] = dataset['payer_code'].fillna('Unknown')\n",
        "dataset['medical_specialty'] = dataset['medical_specialty'].fillna('Unknown')\n",
        "#fillna will fill null space with 'unknown' here"
      ]
    },
    {
      "cell_type": "code",
      "execution_count": null,
      "metadata": {
        "colab": {
          "base_uri": "https://localhost:8080/"
        },
        "id": "MweCNIc7Gk0T",
        "outputId": "a81282a7-7c9e-4d23-ffc3-91c820272d1b"
      },
      "outputs": [
        {
          "output_type": "stream",
          "name": "stdout",
          "text": [
            "Number medical specialty: 73\n"
          ]
        },
        {
          "output_type": "execute_result",
          "data": {
            "text/plain": [
              "medical_specialty\n",
              "Unknown                             49949\n",
              "InternalMedicine                    14635\n",
              "Emergency/Trauma                     7565\n",
              "Family/GeneralPractice               7440\n",
              "Cardiology                           5352\n",
              "                                    ...  \n",
              "Surgery-PlasticwithinHeadandNeck        1\n",
              "Dermatology                             1\n",
              "Proctology                              1\n",
              "Psychiatry-Addictive                    1\n",
              "Speech                                  1\n",
              "Length: 73, dtype: int64"
            ]
          },
          "metadata": {},
          "execution_count": 44
        }
      ],
      "source": [
        "print('Number medical specialty:', dataset.medical_specialty.nunique())\n",
        "dataset.groupby('medical_specialty').size().sort_values(ascending = False)\n",
        "#overview of value from decending order"
      ]
    },
    {
      "cell_type": "code",
      "execution_count": null,
      "metadata": {
        "id": "Qcud6xhfcw4W",
        "outputId": "97fd57c3-ce69-484f-ed57-0f3384eb629b",
        "colab": {
          "base_uri": "https://localhost:8080/"
        }
      },
      "outputs": [
        {
          "output_type": "execute_result",
          "data": {
            "text/plain": [
              "Unknown                          49949\n",
              "InternalMedicine                 14635\n",
              "Emergency/Trauma                  7565\n",
              "Family/GeneralPractice            7440\n",
              "Cardiology                        5352\n",
              "                                 ...  \n",
              "SportsMedicine                       1\n",
              "Speech                               1\n",
              "Perinatology                         1\n",
              "Neurophysiology                      1\n",
              "Pediatrics-InfectiousDiseases        1\n",
              "Name: medical_specialty, Length: 73, dtype: int64"
            ]
          },
          "metadata": {},
          "execution_count": 45
        }
      ],
      "source": [
        "dataset['medical_specialty'].value_counts()"
      ]
    },
    {
      "cell_type": "markdown",
      "metadata": {
        "id": "-0Ydz0VgGsFC"
      },
      "source": [
        "#We can see that most of them are unknown and that the count drops off pretty quickly. We don't want to add 73 new variables since some of them only have a few samples. As an alternative, we can create a new variable that only has 11 options (the top 10 specialities and then an other category). Obviously, there are other options for bucketing, but this is one of the easiest methods"
      ]
    },
    {
      "cell_type": "code",
      "execution_count": null,
      "metadata": {
        "colab": {
          "base_uri": "https://localhost:8080/"
        },
        "id": "qlcJcaWTtzxE",
        "outputId": "3fc98184-3ae2-4f03-fe56-2e582b7d3ffe"
      },
      "outputs": [
        {
          "output_type": "execute_result",
          "data": {
            "text/plain": [
              "?                             49949\n",
              "InternalMedicine              14635\n",
              "Emergency/Trauma               7565\n",
              "Family/GeneralPractice         7440\n",
              "Cardiology                     5352\n",
              "Surgery-General                3099\n",
              "Nephrology                     1613\n",
              "Orthopedics                    1400\n",
              "Orthopedics-Reconstructive     1233\n",
              "Radiologist                    1140\n",
              "Name: medical_specialty, dtype: int64"
            ]
          },
          "metadata": {},
          "execution_count": 49
        }
      ],
      "source": [
        "dataset[\"medical_specialty\"].value_counts().nlargest(10)\n",
        "#through this it fill find the top 10 repeating values of \"medical_specialty\" of dataset"
      ]
    },
    {
      "cell_type": "code",
      "execution_count": null,
      "metadata": {
        "id": "M3VXnP7aGwAV"
      },
      "outputs": [],
      "source": [
        "top_10 = ['Unknown','InternalMedicine','Emergency/Trauma',\\\n",
        "          'Family/GeneralPractice', 'Cardiology','Surgery-General' ,\\\n",
        "          'Nephrology','Orthopedics',\\\n",
        "          'Orthopedics-Reconstructive','Radiologist']\n",
        "\n",
        "# make a new column with duplicated data\n",
        "dataset['med_spec'] = dataset['medical_specialty'].copy()\n",
        "#then we will make a replica of the \"medical_specialty\" \n",
        "\n",
        "# replace all specialties not in top 10 with 'Other'\n",
        "dataset.loc[~dataset.med_spec.isin(top_10),'med_spec'] = 'Other'\n",
        "#then select only Top10 variable and other then that we will set == 'other' \n",
        "\n",
        "#after checking the whole \"medical_specialty\" column then we will get that Top 10 variables which are comes countinously more and more"
      ]
    },
    {
      "cell_type": "code",
      "source": [
        "dataset.head()"
      ],
      "metadata": {
        "colab": {
          "base_uri": "https://localhost:8080/",
          "height": 403
        },
        "id": "p_rx6J44nBBy",
        "outputId": "a178e73d-0278-489b-c619-6bcd9c89befe"
      },
      "execution_count": null,
      "outputs": [
        {
          "output_type": "execute_result",
          "data": {
            "text/plain": [
              "   encounter_id  patient_nbr             race  gender      age weight  \\\n",
              "0       2278392      8222157        Caucasian  Female   [0-10)      ?   \n",
              "1        149190     55629189        Caucasian  Female  [10-20)      ?   \n",
              "2         64410     86047875  AfricanAmerican  Female  [20-30)      ?   \n",
              "3        500364     82442376        Caucasian    Male  [30-40)      ?   \n",
              "4         16680     42519267        Caucasian    Male  [40-50)      ?   \n",
              "\n",
              "   admission_type_id  discharge_disposition_id  admission_source_id  \\\n",
              "0                  6                        25                    1   \n",
              "1                  1                         1                    7   \n",
              "2                  1                         1                    7   \n",
              "3                  1                         1                    7   \n",
              "4                  1                         1                    7   \n",
              "\n",
              "   time_in_hospital  ... insulin glyburide-metformin  glipizide-metformin  \\\n",
              "0                 1  ...      No                  No                   No   \n",
              "1                 3  ...      Up                  No                   No   \n",
              "2                 2  ...      No                  No                   No   \n",
              "3                 2  ...      Up                  No                   No   \n",
              "4                 1  ...  Steady                  No                   No   \n",
              "\n",
              "   glimepiride-pioglitazone  metformin-rosiglitazone  metformin-pioglitazone  \\\n",
              "0                        No                       No                      No   \n",
              "1                        No                       No                      No   \n",
              "2                        No                       No                      No   \n",
              "3                        No                       No                      No   \n",
              "4                        No                       No                      No   \n",
              "\n",
              "   change  diabetesMed readmitted med_spec  \n",
              "0      No           No         NO    Other  \n",
              "1      Ch          Yes        >30    Other  \n",
              "2      No          Yes         NO    Other  \n",
              "3      Ch          Yes         NO    Other  \n",
              "4      Ch          Yes         NO    Other  \n",
              "\n",
              "[5 rows x 51 columns]"
            ],
            "text/html": [
              "\n",
              "  <div id=\"df-6d2515c4-925c-48e3-a388-8358666166f1\">\n",
              "    <div class=\"colab-df-container\">\n",
              "      <div>\n",
              "<style scoped>\n",
              "    .dataframe tbody tr th:only-of-type {\n",
              "        vertical-align: middle;\n",
              "    }\n",
              "\n",
              "    .dataframe tbody tr th {\n",
              "        vertical-align: top;\n",
              "    }\n",
              "\n",
              "    .dataframe thead th {\n",
              "        text-align: right;\n",
              "    }\n",
              "</style>\n",
              "<table border=\"1\" class=\"dataframe\">\n",
              "  <thead>\n",
              "    <tr style=\"text-align: right;\">\n",
              "      <th></th>\n",
              "      <th>encounter_id</th>\n",
              "      <th>patient_nbr</th>\n",
              "      <th>race</th>\n",
              "      <th>gender</th>\n",
              "      <th>age</th>\n",
              "      <th>weight</th>\n",
              "      <th>admission_type_id</th>\n",
              "      <th>discharge_disposition_id</th>\n",
              "      <th>admission_source_id</th>\n",
              "      <th>time_in_hospital</th>\n",
              "      <th>...</th>\n",
              "      <th>insulin</th>\n",
              "      <th>glyburide-metformin</th>\n",
              "      <th>glipizide-metformin</th>\n",
              "      <th>glimepiride-pioglitazone</th>\n",
              "      <th>metformin-rosiglitazone</th>\n",
              "      <th>metformin-pioglitazone</th>\n",
              "      <th>change</th>\n",
              "      <th>diabetesMed</th>\n",
              "      <th>readmitted</th>\n",
              "      <th>med_spec</th>\n",
              "    </tr>\n",
              "  </thead>\n",
              "  <tbody>\n",
              "    <tr>\n",
              "      <th>0</th>\n",
              "      <td>2278392</td>\n",
              "      <td>8222157</td>\n",
              "      <td>Caucasian</td>\n",
              "      <td>Female</td>\n",
              "      <td>[0-10)</td>\n",
              "      <td>?</td>\n",
              "      <td>6</td>\n",
              "      <td>25</td>\n",
              "      <td>1</td>\n",
              "      <td>1</td>\n",
              "      <td>...</td>\n",
              "      <td>No</td>\n",
              "      <td>No</td>\n",
              "      <td>No</td>\n",
              "      <td>No</td>\n",
              "      <td>No</td>\n",
              "      <td>No</td>\n",
              "      <td>No</td>\n",
              "      <td>No</td>\n",
              "      <td>NO</td>\n",
              "      <td>Other</td>\n",
              "    </tr>\n",
              "    <tr>\n",
              "      <th>1</th>\n",
              "      <td>149190</td>\n",
              "      <td>55629189</td>\n",
              "      <td>Caucasian</td>\n",
              "      <td>Female</td>\n",
              "      <td>[10-20)</td>\n",
              "      <td>?</td>\n",
              "      <td>1</td>\n",
              "      <td>1</td>\n",
              "      <td>7</td>\n",
              "      <td>3</td>\n",
              "      <td>...</td>\n",
              "      <td>Up</td>\n",
              "      <td>No</td>\n",
              "      <td>No</td>\n",
              "      <td>No</td>\n",
              "      <td>No</td>\n",
              "      <td>No</td>\n",
              "      <td>Ch</td>\n",
              "      <td>Yes</td>\n",
              "      <td>&gt;30</td>\n",
              "      <td>Other</td>\n",
              "    </tr>\n",
              "    <tr>\n",
              "      <th>2</th>\n",
              "      <td>64410</td>\n",
              "      <td>86047875</td>\n",
              "      <td>AfricanAmerican</td>\n",
              "      <td>Female</td>\n",
              "      <td>[20-30)</td>\n",
              "      <td>?</td>\n",
              "      <td>1</td>\n",
              "      <td>1</td>\n",
              "      <td>7</td>\n",
              "      <td>2</td>\n",
              "      <td>...</td>\n",
              "      <td>No</td>\n",
              "      <td>No</td>\n",
              "      <td>No</td>\n",
              "      <td>No</td>\n",
              "      <td>No</td>\n",
              "      <td>No</td>\n",
              "      <td>No</td>\n",
              "      <td>Yes</td>\n",
              "      <td>NO</td>\n",
              "      <td>Other</td>\n",
              "    </tr>\n",
              "    <tr>\n",
              "      <th>3</th>\n",
              "      <td>500364</td>\n",
              "      <td>82442376</td>\n",
              "      <td>Caucasian</td>\n",
              "      <td>Male</td>\n",
              "      <td>[30-40)</td>\n",
              "      <td>?</td>\n",
              "      <td>1</td>\n",
              "      <td>1</td>\n",
              "      <td>7</td>\n",
              "      <td>2</td>\n",
              "      <td>...</td>\n",
              "      <td>Up</td>\n",
              "      <td>No</td>\n",
              "      <td>No</td>\n",
              "      <td>No</td>\n",
              "      <td>No</td>\n",
              "      <td>No</td>\n",
              "      <td>Ch</td>\n",
              "      <td>Yes</td>\n",
              "      <td>NO</td>\n",
              "      <td>Other</td>\n",
              "    </tr>\n",
              "    <tr>\n",
              "      <th>4</th>\n",
              "      <td>16680</td>\n",
              "      <td>42519267</td>\n",
              "      <td>Caucasian</td>\n",
              "      <td>Male</td>\n",
              "      <td>[40-50)</td>\n",
              "      <td>?</td>\n",
              "      <td>1</td>\n",
              "      <td>1</td>\n",
              "      <td>7</td>\n",
              "      <td>1</td>\n",
              "      <td>...</td>\n",
              "      <td>Steady</td>\n",
              "      <td>No</td>\n",
              "      <td>No</td>\n",
              "      <td>No</td>\n",
              "      <td>No</td>\n",
              "      <td>No</td>\n",
              "      <td>Ch</td>\n",
              "      <td>Yes</td>\n",
              "      <td>NO</td>\n",
              "      <td>Other</td>\n",
              "    </tr>\n",
              "  </tbody>\n",
              "</table>\n",
              "<p>5 rows × 51 columns</p>\n",
              "</div>\n",
              "      <button class=\"colab-df-convert\" onclick=\"convertToInteractive('df-6d2515c4-925c-48e3-a388-8358666166f1')\"\n",
              "              title=\"Convert this dataframe to an interactive table.\"\n",
              "              style=\"display:none;\">\n",
              "        \n",
              "  <svg xmlns=\"http://www.w3.org/2000/svg\" height=\"24px\"viewBox=\"0 0 24 24\"\n",
              "       width=\"24px\">\n",
              "    <path d=\"M0 0h24v24H0V0z\" fill=\"none\"/>\n",
              "    <path d=\"M18.56 5.44l.94 2.06.94-2.06 2.06-.94-2.06-.94-.94-2.06-.94 2.06-2.06.94zm-11 1L8.5 8.5l.94-2.06 2.06-.94-2.06-.94L8.5 2.5l-.94 2.06-2.06.94zm10 10l.94 2.06.94-2.06 2.06-.94-2.06-.94-.94-2.06-.94 2.06-2.06.94z\"/><path d=\"M17.41 7.96l-1.37-1.37c-.4-.4-.92-.59-1.43-.59-.52 0-1.04.2-1.43.59L10.3 9.45l-7.72 7.72c-.78.78-.78 2.05 0 2.83L4 21.41c.39.39.9.59 1.41.59.51 0 1.02-.2 1.41-.59l7.78-7.78 2.81-2.81c.8-.78.8-2.07 0-2.86zM5.41 20L4 18.59l7.72-7.72 1.47 1.35L5.41 20z\"/>\n",
              "  </svg>\n",
              "      </button>\n",
              "      \n",
              "  <style>\n",
              "    .colab-df-container {\n",
              "      display:flex;\n",
              "      flex-wrap:wrap;\n",
              "      gap: 12px;\n",
              "    }\n",
              "\n",
              "    .colab-df-convert {\n",
              "      background-color: #E8F0FE;\n",
              "      border: none;\n",
              "      border-radius: 50%;\n",
              "      cursor: pointer;\n",
              "      display: none;\n",
              "      fill: #1967D2;\n",
              "      height: 32px;\n",
              "      padding: 0 0 0 0;\n",
              "      width: 32px;\n",
              "    }\n",
              "\n",
              "    .colab-df-convert:hover {\n",
              "      background-color: #E2EBFA;\n",
              "      box-shadow: 0px 1px 2px rgba(60, 64, 67, 0.3), 0px 1px 3px 1px rgba(60, 64, 67, 0.15);\n",
              "      fill: #174EA6;\n",
              "    }\n",
              "\n",
              "    [theme=dark] .colab-df-convert {\n",
              "      background-color: #3B4455;\n",
              "      fill: #D2E3FC;\n",
              "    }\n",
              "\n",
              "    [theme=dark] .colab-df-convert:hover {\n",
              "      background-color: #434B5C;\n",
              "      box-shadow: 0px 1px 3px 1px rgba(0, 0, 0, 0.15);\n",
              "      filter: drop-shadow(0px 1px 2px rgba(0, 0, 0, 0.3));\n",
              "      fill: #FFFFFF;\n",
              "    }\n",
              "  </style>\n",
              "\n",
              "      <script>\n",
              "        const buttonEl =\n",
              "          document.querySelector('#df-6d2515c4-925c-48e3-a388-8358666166f1 button.colab-df-convert');\n",
              "        buttonEl.style.display =\n",
              "          google.colab.kernel.accessAllowed ? 'block' : 'none';\n",
              "\n",
              "        async function convertToInteractive(key) {\n",
              "          const element = document.querySelector('#df-6d2515c4-925c-48e3-a388-8358666166f1');\n",
              "          const dataTable =\n",
              "            await google.colab.kernel.invokeFunction('convertToInteractive',\n",
              "                                                     [key], {});\n",
              "          if (!dataTable) return;\n",
              "\n",
              "          const docLinkHtml = 'Like what you see? Visit the ' +\n",
              "            '<a target=\"_blank\" href=https://colab.research.google.com/notebooks/data_table.ipynb>data table notebook</a>'\n",
              "            + ' to learn more about interactive tables.';\n",
              "          element.innerHTML = '';\n",
              "          dataTable['output_type'] = 'display_data';\n",
              "          await google.colab.output.renderOutput(dataTable, element);\n",
              "          const docLink = document.createElement('div');\n",
              "          docLink.innerHTML = docLinkHtml;\n",
              "          element.appendChild(docLink);\n",
              "        }\n",
              "      </script>\n",
              "    </div>\n",
              "  </div>\n",
              "  "
            ]
          },
          "metadata": {},
          "execution_count": 52
        }
      ]
    },
    {
      "cell_type": "code",
      "execution_count": null,
      "metadata": {
        "colab": {
          "base_uri": "https://localhost:8080/"
        },
        "id": "p4ZBCt3eG8Gg",
        "outputId": "c2fb4bf1-1337-4b49-d0b1-921c6374518a"
      },
      "outputs": [
        {
          "output_type": "execute_result",
          "data": {
            "text/plain": [
              "med_spec\n",
              "Cardiology                     5352\n",
              "Emergency/Trauma               7565\n",
              "Family/GeneralPractice         7440\n",
              "InternalMedicine              14635\n",
              "Nephrology                     1613\n",
              "Orthopedics                    1400\n",
              "Orthopedics-Reconstructive     1233\n",
              "Other                         58289\n",
              "Radiologist                    1140\n",
              "Surgery-General                3099\n",
              "dtype: int64"
            ]
          },
          "metadata": {},
          "execution_count": 54
        }
      ],
      "source": [
        "dataset.groupby('med_spec').size()\n"
      ]
    },
    {
      "cell_type": "code",
      "execution_count": null,
      "metadata": {
        "id": "xsECk1ejHDor"
      },
      "outputs": [],
      "source": [
        "# plt.figure(figsize=(10,5))\n",
        "# sns.countplot(dataset['weight'])"
      ]
    },
    {
      "cell_type": "markdown",
      "metadata": {
        "id": "dhCQT97JWdiC"
      },
      "source": [
        "#Correlation Heatmap\n",
        "Correlation heatmaps are a type of plot that visualize the strength of relationships between numerical variables. Correlation plots are used to understand which variables are related to each other and the strength of this relationship"
      ]
    },
    {
      "cell_type": "code",
      "execution_count": null,
      "metadata": {
        "colab": {
          "base_uri": "https://localhost:8080/",
          "height": 993
        },
        "id": "3x778AvdsM-8",
        "outputId": "378b236e-fd7f-40d2-a0ef-67987ac1dda5"
      },
      "outputs": [
        {
          "data": {
            "text/plain": [
              "<Axes: >"
            ]
          },
          "execution_count": 133,
          "metadata": {},
          "output_type": "execute_result"
        },
        {
          "data": {
            "image/png": "[encoded data removed]",
            "text/plain": [
              "<Figure size 1800x1500 with 2 Axes>"
            ]
          },
          "metadata": {},
          "output_type": "display_data"
        }
      ],
      "source": [
        "#Correlation between different variables\n",
        "\n",
        "corr = dataset.corr()\n",
        "\n",
        "#Set up the matplotlib plot configuration\n",
        "\n",
        "fig, axis = plt.subplots(figsize=(18, 15))\n",
        "\n",
        "#Generate a mask for upper traingle\n",
        "\n",
        "mask = np.triu(np.ones_like(corr, dtype=bool))\n",
        "\n",
        "cmap = sns.diverging_palette(230, 20, as_cmap=True)\n",
        "\n",
        "# Draw the heatmap\n",
        "\n",
        "sns.heatmap(corr, annot = True, mask = mask, cmap=cmap, annot_kws={'size': 8} , linewidth=.5)\n",
        "\n",
        "\n"
      ]
    },
    {
      "cell_type": "code",
      "execution_count": null,
      "metadata": {
        "colab": {
          "base_uri": "https://localhost:8080/"
        },
        "id": "IAHp0BsfHKrD",
        "outputId": "7af24db5-be83-49e9-b14e-c009eda3fd5f"
      },
      "outputs": [
        {
          "data": {
            "text/plain": [
              "[75-100)     1336\n",
              "[50-75)       897\n",
              "[100-125)     625\n",
              "[125-150)     145\n",
              "[25-50)        97\n",
              "[0-25)         48\n",
              "[150-175)      35\n",
              "[175-200)      11\n",
              ">200            3\n",
              "Name: weight, dtype: int64"
            ]
          },
          "execution_count": 134,
          "metadata": {},
          "output_type": "execute_result"
        }
      ],
      "source": [
        "dataset['weight'].value_counts()\n"
      ]
    },
    {
      "cell_type": "code",
      "execution_count": null,
      "metadata": {
        "colab": {
          "base_uri": "https://localhost:8080/"
        },
        "id": "MOCenOiAHPZh",
        "outputId": "5a02907f-a785-4097-91a7-4bcccb529906"
      },
      "outputs": [
        {
          "data": {
            "text/plain": [
              "98569"
            ]
          },
          "execution_count": 135,
          "metadata": {},
          "output_type": "execute_result"
        }
      ],
      "source": [
        "dataset['weight'].isnull().sum()\n"
      ]
    },
    {
      "cell_type": "code",
      "execution_count": null,
      "metadata": {
        "id": "rVr05QC8HTVZ"
      },
      "outputs": [],
      "source": [
        "# dataset['weight']=dataset['weight'].fillna('?')\n",
        "\n",
        "# plt.figure(figsize=(10,5))\n",
        "# sns.countplot(dataset['weight'])\n",
        "# plt.show()"
      ]
    },
    {
      "cell_type": "markdown",
      "metadata": {
        "id": "8xxxJd8OHbhJ"
      },
      "source": [
        "We observed that “weight” is missing in 98% of the records. So, we will to drop this feature from the dataset."
      ]
    },
    {
      "cell_type": "code",
      "execution_count": null,
      "metadata": {
        "id": "MxmL3p2bHfJJ"
      },
      "outputs": [],
      "source": [
        "dataset=dataset.drop('weight',axis=1) # weight Columns has been dropped.\n"
      ]
    },
    {
      "cell_type": "code",
      "execution_count": null,
      "metadata": {
        "colab": {
          "base_uri": "https://localhost:8080/",
          "height": 522
        },
        "id": "nOaQV51QHqX6",
        "outputId": "0294a5d2-949d-4e1c-9142-19f55468c5e0"
      },
      "outputs": [
        {
          "data": {
            "text/html": [
              "<div>\n",
              "<style scoped>\n",
              "    .dataframe tbody tr th:only-of-type {\n",
              "        vertical-align: middle;\n",
              "    }\n",
              "\n",
              "    .dataframe tbody tr th {\n",
              "        vertical-align: top;\n",
              "    }\n",
              "\n",
              "    .dataframe thead th {\n",
              "        text-align: right;\n",
              "    }\n",
              "</style>\n",
              "<table border=\"1\" class=\"dataframe\">\n",
              "  <thead>\n",
              "    <tr style=\"text-align: right;\">\n",
              "      <th></th>\n",
              "      <th>encounter_id</th>\n",
              "      <th>patient_nbr</th>\n",
              "      <th>race</th>\n",
              "      <th>gender</th>\n",
              "      <th>age</th>\n",
              "      <th>admission_type_id</th>\n",
              "      <th>discharge_disposition_id</th>\n",
              "      <th>admission_source_id</th>\n",
              "      <th>time_in_hospital</th>\n",
              "      <th>payer_code</th>\n",
              "      <th>...</th>\n",
              "      <th>insulin</th>\n",
              "      <th>glyburide-metformin</th>\n",
              "      <th>glipizide-metformin</th>\n",
              "      <th>glimepiride-pioglitazone</th>\n",
              "      <th>metformin-rosiglitazone</th>\n",
              "      <th>metformin-pioglitazone</th>\n",
              "      <th>change</th>\n",
              "      <th>diabetesMed</th>\n",
              "      <th>readmitted</th>\n",
              "      <th>med_spec</th>\n",
              "    </tr>\n",
              "  </thead>\n",
              "  <tbody>\n",
              "    <tr>\n",
              "      <th>0</th>\n",
              "      <td>2278392</td>\n",
              "      <td>8222157</td>\n",
              "      <td>Caucasian</td>\n",
              "      <td>Female</td>\n",
              "      <td>5</td>\n",
              "      <td>6</td>\n",
              "      <td>25</td>\n",
              "      <td>1</td>\n",
              "      <td>1</td>\n",
              "      <td>Unknown</td>\n",
              "      <td>...</td>\n",
              "      <td>No</td>\n",
              "      <td>No</td>\n",
              "      <td>No</td>\n",
              "      <td>No</td>\n",
              "      <td>No</td>\n",
              "      <td>No</td>\n",
              "      <td>No</td>\n",
              "      <td>No</td>\n",
              "      <td>NO</td>\n",
              "      <td>Other</td>\n",
              "    </tr>\n",
              "    <tr>\n",
              "      <th>1</th>\n",
              "      <td>149190</td>\n",
              "      <td>55629189</td>\n",
              "      <td>Caucasian</td>\n",
              "      <td>Female</td>\n",
              "      <td>15</td>\n",
              "      <td>1</td>\n",
              "      <td>1</td>\n",
              "      <td>7</td>\n",
              "      <td>3</td>\n",
              "      <td>Unknown</td>\n",
              "      <td>...</td>\n",
              "      <td>Up</td>\n",
              "      <td>No</td>\n",
              "      <td>No</td>\n",
              "      <td>No</td>\n",
              "      <td>No</td>\n",
              "      <td>No</td>\n",
              "      <td>Ch</td>\n",
              "      <td>Yes</td>\n",
              "      <td>&gt;30</td>\n",
              "      <td>Unknown</td>\n",
              "    </tr>\n",
              "    <tr>\n",
              "      <th>2</th>\n",
              "      <td>64410</td>\n",
              "      <td>86047875</td>\n",
              "      <td>AfricanAmerican</td>\n",
              "      <td>Female</td>\n",
              "      <td>25</td>\n",
              "      <td>1</td>\n",
              "      <td>1</td>\n",
              "      <td>7</td>\n",
              "      <td>2</td>\n",
              "      <td>Unknown</td>\n",
              "      <td>...</td>\n",
              "      <td>No</td>\n",
              "      <td>No</td>\n",
              "      <td>No</td>\n",
              "      <td>No</td>\n",
              "      <td>No</td>\n",
              "      <td>No</td>\n",
              "      <td>No</td>\n",
              "      <td>Yes</td>\n",
              "      <td>NO</td>\n",
              "      <td>Unknown</td>\n",
              "    </tr>\n",
              "    <tr>\n",
              "      <th>3</th>\n",
              "      <td>500364</td>\n",
              "      <td>82442376</td>\n",
              "      <td>Caucasian</td>\n",
              "      <td>Male</td>\n",
              "      <td>35</td>\n",
              "      <td>1</td>\n",
              "      <td>1</td>\n",
              "      <td>7</td>\n",
              "      <td>2</td>\n",
              "      <td>Unknown</td>\n",
              "      <td>...</td>\n",
              "      <td>Up</td>\n",
              "      <td>No</td>\n",
              "      <td>No</td>\n",
              "      <td>No</td>\n",
              "      <td>No</td>\n",
              "      <td>No</td>\n",
              "      <td>Ch</td>\n",
              "      <td>Yes</td>\n",
              "      <td>NO</td>\n",
              "      <td>Unknown</td>\n",
              "    </tr>\n",
              "    <tr>\n",
              "      <th>4</th>\n",
              "      <td>16680</td>\n",
              "      <td>42519267</td>\n",
              "      <td>Caucasian</td>\n",
              "      <td>Male</td>\n",
              "      <td>45</td>\n",
              "      <td>1</td>\n",
              "      <td>1</td>\n",
              "      <td>7</td>\n",
              "      <td>1</td>\n",
              "      <td>Unknown</td>\n",
              "      <td>...</td>\n",
              "      <td>Steady</td>\n",
              "      <td>No</td>\n",
              "      <td>No</td>\n",
              "      <td>No</td>\n",
              "      <td>No</td>\n",
              "      <td>No</td>\n",
              "      <td>Ch</td>\n",
              "      <td>Yes</td>\n",
              "      <td>NO</td>\n",
              "      <td>Unknown</td>\n",
              "    </tr>\n",
              "    <tr>\n",
              "      <th>...</th>\n",
              "      <td>...</td>\n",
              "      <td>...</td>\n",
              "      <td>...</td>\n",
              "      <td>...</td>\n",
              "      <td>...</td>\n",
              "      <td>...</td>\n",
              "      <td>...</td>\n",
              "      <td>...</td>\n",
              "      <td>...</td>\n",
              "      <td>...</td>\n",
              "      <td>...</td>\n",
              "      <td>...</td>\n",
              "      <td>...</td>\n",
              "      <td>...</td>\n",
              "      <td>...</td>\n",
              "      <td>...</td>\n",
              "      <td>...</td>\n",
              "      <td>...</td>\n",
              "      <td>...</td>\n",
              "      <td>...</td>\n",
              "      <td>...</td>\n",
              "    </tr>\n",
              "    <tr>\n",
              "      <th>101761</th>\n",
              "      <td>443847548</td>\n",
              "      <td>100162476</td>\n",
              "      <td>AfricanAmerican</td>\n",
              "      <td>Male</td>\n",
              "      <td>75</td>\n",
              "      <td>1</td>\n",
              "      <td>3</td>\n",
              "      <td>7</td>\n",
              "      <td>3</td>\n",
              "      <td>MC</td>\n",
              "      <td>...</td>\n",
              "      <td>Down</td>\n",
              "      <td>No</td>\n",
              "      <td>No</td>\n",
              "      <td>No</td>\n",
              "      <td>No</td>\n",
              "      <td>No</td>\n",
              "      <td>Ch</td>\n",
              "      <td>Yes</td>\n",
              "      <td>&gt;30</td>\n",
              "      <td>Unknown</td>\n",
              "    </tr>\n",
              "    <tr>\n",
              "      <th>101762</th>\n",
              "      <td>443847782</td>\n",
              "      <td>74694222</td>\n",
              "      <td>AfricanAmerican</td>\n",
              "      <td>Female</td>\n",
              "      <td>85</td>\n",
              "      <td>1</td>\n",
              "      <td>4</td>\n",
              "      <td>5</td>\n",
              "      <td>5</td>\n",
              "      <td>MC</td>\n",
              "      <td>...</td>\n",
              "      <td>Steady</td>\n",
              "      <td>No</td>\n",
              "      <td>No</td>\n",
              "      <td>No</td>\n",
              "      <td>No</td>\n",
              "      <td>No</td>\n",
              "      <td>No</td>\n",
              "      <td>Yes</td>\n",
              "      <td>NO</td>\n",
              "      <td>Unknown</td>\n",
              "    </tr>\n",
              "    <tr>\n",
              "      <th>101763</th>\n",
              "      <td>443854148</td>\n",
              "      <td>41088789</td>\n",
              "      <td>Caucasian</td>\n",
              "      <td>Male</td>\n",
              "      <td>75</td>\n",
              "      <td>1</td>\n",
              "      <td>1</td>\n",
              "      <td>7</td>\n",
              "      <td>1</td>\n",
              "      <td>MC</td>\n",
              "      <td>...</td>\n",
              "      <td>Down</td>\n",
              "      <td>No</td>\n",
              "      <td>No</td>\n",
              "      <td>No</td>\n",
              "      <td>No</td>\n",
              "      <td>No</td>\n",
              "      <td>Ch</td>\n",
              "      <td>Yes</td>\n",
              "      <td>NO</td>\n",
              "      <td>Unknown</td>\n",
              "    </tr>\n",
              "    <tr>\n",
              "      <th>101764</th>\n",
              "      <td>443857166</td>\n",
              "      <td>31693671</td>\n",
              "      <td>Caucasian</td>\n",
              "      <td>Female</td>\n",
              "      <td>85</td>\n",
              "      <td>2</td>\n",
              "      <td>3</td>\n",
              "      <td>7</td>\n",
              "      <td>10</td>\n",
              "      <td>MC</td>\n",
              "      <td>...</td>\n",
              "      <td>Up</td>\n",
              "      <td>No</td>\n",
              "      <td>No</td>\n",
              "      <td>No</td>\n",
              "      <td>No</td>\n",
              "      <td>No</td>\n",
              "      <td>Ch</td>\n",
              "      <td>Yes</td>\n",
              "      <td>NO</td>\n",
              "      <td>Surgery-General</td>\n",
              "    </tr>\n",
              "    <tr>\n",
              "      <th>101765</th>\n",
              "      <td>443867222</td>\n",
              "      <td>175429310</td>\n",
              "      <td>Caucasian</td>\n",
              "      <td>Male</td>\n",
              "      <td>75</td>\n",
              "      <td>1</td>\n",
              "      <td>1</td>\n",
              "      <td>7</td>\n",
              "      <td>6</td>\n",
              "      <td>Unknown</td>\n",
              "      <td>...</td>\n",
              "      <td>No</td>\n",
              "      <td>No</td>\n",
              "      <td>No</td>\n",
              "      <td>No</td>\n",
              "      <td>No</td>\n",
              "      <td>No</td>\n",
              "      <td>No</td>\n",
              "      <td>No</td>\n",
              "      <td>NO</td>\n",
              "      <td>Unknown</td>\n",
              "    </tr>\n",
              "  </tbody>\n",
              "</table>\n",
              "<p>101766 rows × 50 columns</p>\n",
              "</div>"
            ],
            "text/plain": [
              "        encounter_id  patient_nbr             race  gender  age  \\\n",
              "0            2278392      8222157        Caucasian  Female    5   \n",
              "1             149190     55629189        Caucasian  Female   15   \n",
              "2              64410     86047875  AfricanAmerican  Female   25   \n",
              "3             500364     82442376        Caucasian    Male   35   \n",
              "4              16680     42519267        Caucasian    Male   45   \n",
              "...              ...          ...              ...     ...  ...   \n",
              "101761     443847548    100162476  AfricanAmerican    Male   75   \n",
              "101762     443847782     74694222  AfricanAmerican  Female   85   \n",
              "101763     443854148     41088789        Caucasian    Male   75   \n",
              "101764     443857166     31693671        Caucasian  Female   85   \n",
              "101765     443867222    175429310        Caucasian    Male   75   \n",
              "\n",
              "       admission_type_id discharge_disposition_id admission_source_id  \\\n",
              "0                      6                       25                   1   \n",
              "1                      1                        1                   7   \n",
              "2                      1                        1                   7   \n",
              "3                      1                        1                   7   \n",
              "4                      1                        1                   7   \n",
              "...                  ...                      ...                 ...   \n",
              "101761                 1                        3                   7   \n",
              "101762                 1                        4                   5   \n",
              "101763                 1                        1                   7   \n",
              "101764                 2                        3                   7   \n",
              "101765                 1                        1                   7   \n",
              "\n",
              "        time_in_hospital payer_code  ... insulin  glyburide-metformin  \\\n",
              "0                      1    Unknown  ...      No                   No   \n",
              "1                      3    Unknown  ...      Up                   No   \n",
              "2                      2    Unknown  ...      No                   No   \n",
              "3                      2    Unknown  ...      Up                   No   \n",
              "4                      1    Unknown  ...  Steady                   No   \n",
              "...                  ...        ...  ...     ...                  ...   \n",
              "101761                 3         MC  ...    Down                   No   \n",
              "101762                 5         MC  ...  Steady                   No   \n",
              "101763                 1         MC  ...    Down                   No   \n",
              "101764                10         MC  ...      Up                   No   \n",
              "101765                 6    Unknown  ...      No                   No   \n",
              "\n",
              "        glipizide-metformin  glimepiride-pioglitazone  \\\n",
              "0                        No                        No   \n",
              "1                        No                        No   \n",
              "2                        No                        No   \n",
              "3                        No                        No   \n",
              "4                        No                        No   \n",
              "...                     ...                       ...   \n",
              "101761                   No                        No   \n",
              "101762                   No                        No   \n",
              "101763                   No                        No   \n",
              "101764                   No                        No   \n",
              "101765                   No                        No   \n",
              "\n",
              "        metformin-rosiglitazone  metformin-pioglitazone  change diabetesMed  \\\n",
              "0                            No                      No      No          No   \n",
              "1                            No                      No      Ch         Yes   \n",
              "2                            No                      No      No         Yes   \n",
              "3                            No                      No      Ch         Yes   \n",
              "4                            No                      No      Ch         Yes   \n",
              "...                         ...                     ...     ...         ...   \n",
              "101761                       No                      No      Ch         Yes   \n",
              "101762                       No                      No      No         Yes   \n",
              "101763                       No                      No      Ch         Yes   \n",
              "101764                       No                      No      Ch         Yes   \n",
              "101765                       No                      No      No          No   \n",
              "\n",
              "       readmitted         med_spec  \n",
              "0              NO            Other  \n",
              "1             >30          Unknown  \n",
              "2              NO          Unknown  \n",
              "3              NO          Unknown  \n",
              "4              NO          Unknown  \n",
              "...           ...              ...  \n",
              "101761        >30          Unknown  \n",
              "101762         NO          Unknown  \n",
              "101763         NO          Unknown  \n",
              "101764         NO  Surgery-General  \n",
              "101765         NO          Unknown  \n",
              "\n",
              "[101766 rows x 50 columns]"
            ]
          },
          "execution_count": 138,
          "metadata": {},
          "output_type": "execute_result"
        }
      ],
      "source": [
        "dataset"
      ]
    },
    {
      "cell_type": "markdown",
      "metadata": {
        "id": "28HUW1_ZHvhT"
      },
      "source": [
        "#Univariate analysis\n",
        "Univariate analysis is basically the simplest form to analyze data. Uni means one and this means that the data has only one kind of variable.\n",
        "Univariate analysis explores each variable in a data set, separately."
      ]
    },
    {
      "cell_type": "code",
      "execution_count": null,
      "metadata": {
        "colab": {
          "base_uri": "https://localhost:8080/",
          "height": 280
        },
        "id": "UbcYBBcxHpuL",
        "outputId": "61df81db-b7d5-4700-b0ad-589a2a74d6ed"
      },
      "outputs": [
        {
          "data": {
            "image/png": "[encoded data removed]",
            "text/plain": [
              "<Figure size 640x480 with 1 Axes>"
            ]
          },
          "metadata": {},
          "output_type": "display_data"
        }
      ],
      "source": [
        "sns.kdeplot(dataset['time_in_hospital'],gridsize=10,cut=1)   #Majority of the patient spends 2–5 days in hospital\n",
        "plt.show()"
      ]
    },
    {
      "cell_type": "code",
      "execution_count": null,
      "metadata": {
        "colab": {
          "base_uri": "https://localhost:8080/",
          "height": 498
        },
        "id": "9m2L3-CfH5eM",
        "outputId": "b2c1b81c-4172-4f43-e63a-faf41a484764"
      },
      "outputs": [
        {
          "data": {
            "image/png": "[encoded data removed]",
            "text/plain": [
              "<Figure size 1000x800 with 1 Axes>"
            ]
          },
          "metadata": {},
          "output_type": "display_data"
        }
      ],
      "source": [
        "plt.figure(figsize=(10,8))\n",
        "sns.countplot(dataset['time_in_hospital'])\n",
        "plt.show()"
      ]
    },
    {
      "cell_type": "code",
      "execution_count": null,
      "metadata": {
        "colab": {
          "base_uri": "https://localhost:8080/",
          "height": 280
        },
        "id": "kyuS8bzCH-DN",
        "outputId": "af66d8f0-ef47-4b65-d409-fdee5c96d52f"
      },
      "outputs": [
        {
          "data": {
            "image/png": "[encoded data removed]",
            "text/plain": [
              "<Figure size 640x480 with 1 Axes>"
            ]
          },
          "metadata": {},
          "output_type": "display_data"
        }
      ],
      "source": [
        "sns.countplot(dataset['num_procedures'])   # Majority of the patients being operated with no procedure or 1 at max.\n",
        "plt.show()"
      ]
    },
    {
      "cell_type": "code",
      "execution_count": null,
      "metadata": {
        "colab": {
          "base_uri": "https://localhost:8080/",
          "height": 498
        },
        "id": "duL7XeTcICtQ",
        "outputId": "2bb83b82-ea7a-4845-b509-a013fdbaf84d"
      },
      "outputs": [
        {
          "data": {
            "image/png": "[encoded data removed]",
            "text/plain": [
              "<Figure size 1000x800 with 1 Axes>"
            ]
          },
          "metadata": {},
          "output_type": "display_data"
        }
      ],
      "source": [
        "plt.figure(figsize=(10,8))          # Majority of patients are having 10–25 medications being given.\n",
        "sns.kdeplot(dataset['num_medications'])   \n",
        "plt.show()"
      ]
    },
    {
      "cell_type": "code",
      "execution_count": null,
      "metadata": {
        "colab": {
          "base_uri": "https://localhost:8080/",
          "height": 280
        },
        "id": "V904CMDiIHTk",
        "outputId": "bd8d9e6f-3963-472b-a400-84d0ef2cf655"
      },
      "outputs": [
        {
          "data": {
            "image/png": "[encoded data removed]",
            "text/plain": [
              "<Figure size 1500x400 with 1 Axes>"
            ]
          },
          "metadata": {},
          "output_type": "display_data"
        }
      ],
      "source": [
        "plt.figure(figsize=(15,4))                  #Majority of patients are NOT consuming outpatient facilities\n",
        "sns.countplot(dataset['number_outpatient'])   \n",
        "plt.show()"
      ]
    },
    {
      "cell_type": "code",
      "execution_count": null,
      "metadata": {
        "colab": {
          "base_uri": "https://localhost:8080/",
          "height": 335
        },
        "id": "E5wH5jpQILf6",
        "outputId": "02d21fac-cba3-40c3-b967-e2cf0f50fa57"
      },
      "outputs": [
        {
          "data": {
            "image/png": "[encoded data removed]",
            "text/plain": [
              "<Figure size 500x500 with 1 Axes>"
            ]
          },
          "metadata": {},
          "output_type": "display_data"
        }
      ],
      "source": [
        "plt.figure(figsize=(5,5)) \n",
        "sns.countplot(dataset['number_emergency'])   #Some portions of patients are consuming emergency facilities\n",
        "plt.show()"
      ]
    },
    {
      "cell_type": "code",
      "execution_count": null,
      "metadata": {
        "colab": {
          "base_uri": "https://localhost:8080/",
          "height": 335
        },
        "id": "mjyMpUVRIPrr",
        "outputId": "5cb0234f-5637-466b-b6a0-02e8d94ddaa4"
      },
      "outputs": [
        {
          "data": {
            "image/png": "[encoded data removed]",
            "text/plain": [
              "<Figure size 1500x500 with 1 Axes>"
            ]
          },
          "metadata": {},
          "output_type": "display_data"
        }
      ],
      "source": [
        "plt.figure(figsize=(15,5)) \n",
        "sns.countplot(dataset['number_inpatient']) #Some portions of patients are consuming outpatient facilities  \n",
        "plt.show()"
      ]
    },
    {
      "cell_type": "code",
      "execution_count": null,
      "metadata": {
        "colab": {
          "base_uri": "https://localhost:8080/",
          "height": 335
        },
        "id": "DucAbhCMIUNI",
        "outputId": "2441dd16-fad1-40a0-f021-8c3bfd59570a"
      },
      "outputs": [
        {
          "data": {
            "image/png": "[encoded data removed]",
            "text/plain": [
              "<Figure size 1500x500 with 1 Axes>"
            ]
          },
          "metadata": {},
          "output_type": "display_data"
        }
      ],
      "source": [
        "plt.figure(figsize=(15,5))\n",
        "sns.countplot(dataset['number_diagnoses'])  # Average of 5-9 diagnoses was entered for the majority of the patients.\n",
        "plt.show()"
      ]
    },
    {
      "cell_type": "code",
      "execution_count": null,
      "metadata": {
        "colab": {
          "base_uri": "https://localhost:8080/",
          "height": 317
        },
        "id": "Hv9pbI7eIXmK",
        "outputId": "98f105e3-f1ed-46a2-c13f-13fd86579278"
      },
      "outputs": [
        {
          "data": {
            "text/html": [
              "<div>\n",
              "<style scoped>\n",
              "    .dataframe tbody tr th:only-of-type {\n",
              "        vertical-align: middle;\n",
              "    }\n",
              "\n",
              "    .dataframe tbody tr th {\n",
              "        vertical-align: top;\n",
              "    }\n",
              "\n",
              "    .dataframe thead th {\n",
              "        text-align: right;\n",
              "    }\n",
              "</style>\n",
              "<table border=\"1\" class=\"dataframe\">\n",
              "  <thead>\n",
              "    <tr style=\"text-align: right;\">\n",
              "      <th></th>\n",
              "      <th>encounter_id</th>\n",
              "      <th>patient_nbr</th>\n",
              "      <th>race</th>\n",
              "      <th>gender</th>\n",
              "      <th>age</th>\n",
              "      <th>admission_type_id</th>\n",
              "      <th>discharge_disposition_id</th>\n",
              "      <th>admission_source_id</th>\n",
              "      <th>time_in_hospital</th>\n",
              "      <th>payer_code</th>\n",
              "      <th>...</th>\n",
              "      <th>insulin</th>\n",
              "      <th>glyburide-metformin</th>\n",
              "      <th>glipizide-metformin</th>\n",
              "      <th>glimepiride-pioglitazone</th>\n",
              "      <th>metformin-rosiglitazone</th>\n",
              "      <th>metformin-pioglitazone</th>\n",
              "      <th>change</th>\n",
              "      <th>diabetesMed</th>\n",
              "      <th>readmitted</th>\n",
              "      <th>med_spec</th>\n",
              "    </tr>\n",
              "  </thead>\n",
              "  <tbody>\n",
              "    <tr>\n",
              "      <th>0</th>\n",
              "      <td>2278392</td>\n",
              "      <td>8222157</td>\n",
              "      <td>Caucasian</td>\n",
              "      <td>Female</td>\n",
              "      <td>5</td>\n",
              "      <td>6</td>\n",
              "      <td>25</td>\n",
              "      <td>1</td>\n",
              "      <td>1</td>\n",
              "      <td>Unknown</td>\n",
              "      <td>...</td>\n",
              "      <td>No</td>\n",
              "      <td>No</td>\n",
              "      <td>No</td>\n",
              "      <td>No</td>\n",
              "      <td>No</td>\n",
              "      <td>No</td>\n",
              "      <td>No</td>\n",
              "      <td>No</td>\n",
              "      <td>NO</td>\n",
              "      <td>Other</td>\n",
              "    </tr>\n",
              "    <tr>\n",
              "      <th>1</th>\n",
              "      <td>149190</td>\n",
              "      <td>55629189</td>\n",
              "      <td>Caucasian</td>\n",
              "      <td>Female</td>\n",
              "      <td>15</td>\n",
              "      <td>1</td>\n",
              "      <td>1</td>\n",
              "      <td>7</td>\n",
              "      <td>3</td>\n",
              "      <td>Unknown</td>\n",
              "      <td>...</td>\n",
              "      <td>Up</td>\n",
              "      <td>No</td>\n",
              "      <td>No</td>\n",
              "      <td>No</td>\n",
              "      <td>No</td>\n",
              "      <td>No</td>\n",
              "      <td>Ch</td>\n",
              "      <td>Yes</td>\n",
              "      <td>&gt;30</td>\n",
              "      <td>Unknown</td>\n",
              "    </tr>\n",
              "    <tr>\n",
              "      <th>2</th>\n",
              "      <td>64410</td>\n",
              "      <td>86047875</td>\n",
              "      <td>AfricanAmerican</td>\n",
              "      <td>Female</td>\n",
              "      <td>25</td>\n",
              "      <td>1</td>\n",
              "      <td>1</td>\n",
              "      <td>7</td>\n",
              "      <td>2</td>\n",
              "      <td>Unknown</td>\n",
              "      <td>...</td>\n",
              "      <td>No</td>\n",
              "      <td>No</td>\n",
              "      <td>No</td>\n",
              "      <td>No</td>\n",
              "      <td>No</td>\n",
              "      <td>No</td>\n",
              "      <td>No</td>\n",
              "      <td>Yes</td>\n",
              "      <td>NO</td>\n",
              "      <td>Unknown</td>\n",
              "    </tr>\n",
              "    <tr>\n",
              "      <th>3</th>\n",
              "      <td>500364</td>\n",
              "      <td>82442376</td>\n",
              "      <td>Caucasian</td>\n",
              "      <td>Male</td>\n",
              "      <td>35</td>\n",
              "      <td>1</td>\n",
              "      <td>1</td>\n",
              "      <td>7</td>\n",
              "      <td>2</td>\n",
              "      <td>Unknown</td>\n",
              "      <td>...</td>\n",
              "      <td>Up</td>\n",
              "      <td>No</td>\n",
              "      <td>No</td>\n",
              "      <td>No</td>\n",
              "      <td>No</td>\n",
              "      <td>No</td>\n",
              "      <td>Ch</td>\n",
              "      <td>Yes</td>\n",
              "      <td>NO</td>\n",
              "      <td>Unknown</td>\n",
              "    </tr>\n",
              "    <tr>\n",
              "      <th>4</th>\n",
              "      <td>16680</td>\n",
              "      <td>42519267</td>\n",
              "      <td>Caucasian</td>\n",
              "      <td>Male</td>\n",
              "      <td>45</td>\n",
              "      <td>1</td>\n",
              "      <td>1</td>\n",
              "      <td>7</td>\n",
              "      <td>1</td>\n",
              "      <td>Unknown</td>\n",
              "      <td>...</td>\n",
              "      <td>Steady</td>\n",
              "      <td>No</td>\n",
              "      <td>No</td>\n",
              "      <td>No</td>\n",
              "      <td>No</td>\n",
              "      <td>No</td>\n",
              "      <td>Ch</td>\n",
              "      <td>Yes</td>\n",
              "      <td>NO</td>\n",
              "      <td>Unknown</td>\n",
              "    </tr>\n",
              "  </tbody>\n",
              "</table>\n",
              "<p>5 rows × 50 columns</p>\n",
              "</div>"
            ],
            "text/plain": [
              "   encounter_id  patient_nbr             race  gender  age admission_type_id  \\\n",
              "0       2278392      8222157        Caucasian  Female    5                 6   \n",
              "1        149190     55629189        Caucasian  Female   15                 1   \n",
              "2         64410     86047875  AfricanAmerican  Female   25                 1   \n",
              "3        500364     82442376        Caucasian    Male   35                 1   \n",
              "4         16680     42519267        Caucasian    Male   45                 1   \n",
              "\n",
              "  discharge_disposition_id admission_source_id  time_in_hospital payer_code  \\\n",
              "0                       25                   1                 1    Unknown   \n",
              "1                        1                   7                 3    Unknown   \n",
              "2                        1                   7                 2    Unknown   \n",
              "3                        1                   7                 2    Unknown   \n",
              "4                        1                   7                 1    Unknown   \n",
              "\n",
              "   ... insulin  glyburide-metformin  glipizide-metformin  \\\n",
              "0  ...      No                   No                   No   \n",
              "1  ...      Up                   No                   No   \n",
              "2  ...      No                   No                   No   \n",
              "3  ...      Up                   No                   No   \n",
              "4  ...  Steady                   No                   No   \n",
              "\n",
              "   glimepiride-pioglitazone  metformin-rosiglitazone  metformin-pioglitazone  \\\n",
              "0                        No                       No                      No   \n",
              "1                        No                       No                      No   \n",
              "2                        No                       No                      No   \n",
              "3                        No                       No                      No   \n",
              "4                        No                       No                      No   \n",
              "\n",
              "   change diabetesMed readmitted med_spec  \n",
              "0      No          No         NO    Other  \n",
              "1      Ch         Yes        >30  Unknown  \n",
              "2      No         Yes         NO  Unknown  \n",
              "3      Ch         Yes         NO  Unknown  \n",
              "4      Ch         Yes         NO  Unknown  \n",
              "\n",
              "[5 rows x 50 columns]"
            ]
          },
          "execution_count": 147,
          "metadata": {},
          "output_type": "execute_result"
        }
      ],
      "source": [
        "dataset.head()"
      ]
    },
    {
      "cell_type": "markdown",
      "metadata": {
        "id": "4ZXwz8J-Id7z"
      },
      "source": [
        "#Bi-Variate Analysis (Numerical And Numerical)\n",
        "Bivariate analysis is stated to be an analysis of any concurrent relation between two variables or attributes."
      ]
    },
    {
      "cell_type": "code",
      "execution_count": null,
      "metadata": {
        "colab": {
          "base_uri": "https://localhost:8080/"
        },
        "id": "HdKO_R9VIhzF",
        "outputId": "23bd9a76-5b26-407e-c504-258a798dfb0d"
      },
      "outputs": [
        {
          "name": "stdout",
          "output_type": "stream",
          "text": [
            "<class 'pandas.core.frame.DataFrame'>\n",
            "RangeIndex: 101766 entries, 0 to 101765\n",
            "Data columns (total 50 columns):\n",
            " #   Column                    Non-Null Count   Dtype \n",
            "---  ------                    --------------   ----- \n",
            " 0   encounter_id              101766 non-null  int64 \n",
            " 1   patient_nbr               101766 non-null  int64 \n",
            " 2   race                      101766 non-null  object\n",
            " 3   gender                    101763 non-null  object\n",
            " 4   age                       101766 non-null  int64 \n",
            " 5   admission_type_id         101766 non-null  object\n",
            " 6   discharge_disposition_id  101766 non-null  object\n",
            " 7   admission_source_id       101766 non-null  object\n",
            " 8   time_in_hospital          101766 non-null  int64 \n",
            " 9   payer_code                101766 non-null  object\n",
            " 10  medical_specialty         101766 non-null  object\n",
            " 11  num_lab_procedures        101766 non-null  int64 \n",
            " 12  num_procedures            101766 non-null  int64 \n",
            " 13  num_medications           101766 non-null  int64 \n",
            " 14  number_outpatient         101766 non-null  int64 \n",
            " 15  number_emergency          101766 non-null  int64 \n",
            " 16  number_inpatient          101766 non-null  int64 \n",
            " 17  diag_1                    101745 non-null  object\n",
            " 18  diag_2                    101408 non-null  object\n",
            " 19  diag_3                    100343 non-null  object\n",
            " 20  number_diagnoses          101766 non-null  int64 \n",
            " 21  max_glu_serum             101766 non-null  object\n",
            " 22  A1Cresult                 101766 non-null  object\n",
            " 23  metformin                 101766 non-null  object\n",
            " 24  repaglinide               101766 non-null  object\n",
            " 25  nateglinide               101766 non-null  object\n",
            " 26  chlorpropamide            101766 non-null  object\n",
            " 27  glimepiride               101766 non-null  object\n",
            " 28  acetohexamide             101766 non-null  object\n",
            " 29  glipizide                 101766 non-null  object\n",
            " 30  glyburide                 101766 non-null  object\n",
            " 31  tolbutamide               101766 non-null  object\n",
            " 32  pioglitazone              101766 non-null  object\n",
            " 33  rosiglitazone             101766 non-null  object\n",
            " 34  acarbose                  101766 non-null  object\n",
            " 35  miglitol                  101766 non-null  object\n",
            " 36  troglitazone              101766 non-null  object\n",
            " 37  tolazamide                101766 non-null  object\n",
            " 38  examide                   101766 non-null  object\n",
            " 39  citoglipton               101766 non-null  object\n",
            " 40  insulin                   101766 non-null  object\n",
            " 41  glyburide-metformin       101766 non-null  object\n",
            " 42  glipizide-metformin       101766 non-null  object\n",
            " 43  glimepiride-pioglitazone  101766 non-null  object\n",
            " 44  metformin-rosiglitazone   101766 non-null  object\n",
            " 45  metformin-pioglitazone    101766 non-null  object\n",
            " 46  change                    101766 non-null  object\n",
            " 47  diabetesMed               101766 non-null  object\n",
            " 48  readmitted                101766 non-null  object\n",
            " 49  med_spec                  101766 non-null  object\n",
            "dtypes: int64(11), object(39)\n",
            "memory usage: 38.8+ MB\n"
          ]
        }
      ],
      "source": [
        "dataset.info()"
      ]
    },
    {
      "cell_type": "code",
      "execution_count": null,
      "metadata": {
        "colab": {
          "base_uri": "https://localhost:8080/",
          "height": 568
        },
        "id": "WRlTJXgzIn8O",
        "outputId": "9d0eab0f-0d33-458b-b201-b1d9365dd9d7"
      },
      "outputs": [
        {
          "ename": "TypeError",
          "evalue": "violinplot() takes from 0 to 1 positional arguments but 2 positional arguments (and 1 keyword-only argument) were given",
          "output_type": "error",
          "traceback": [
            "\u001b[1;31m---------------------------------------------------------------------------\u001b[0m",
            "\u001b[1;31mTypeError\u001b[0m                                 Traceback (most recent call last)",
            "Cell \u001b[1;32mIn [149], line 2\u001b[0m\n\u001b[0;32m      1\u001b[0m plt\u001b[38;5;241m.\u001b[39mfigure(figsize\u001b[38;5;241m=\u001b[39m(\u001b[38;5;241m15\u001b[39m,\u001b[38;5;241m9\u001b[39m))\n\u001b[1;32m----> 2\u001b[0m \u001b[43msns\u001b[49m\u001b[38;5;241;43m.\u001b[39;49m\u001b[43mviolinplot\u001b[49m\u001b[43m(\u001b[49m\u001b[43mdataset\u001b[49m\u001b[43m[\u001b[49m\u001b[38;5;124;43m'\u001b[39;49m\u001b[38;5;124;43mage\u001b[39;49m\u001b[38;5;124;43m'\u001b[39;49m\u001b[43m]\u001b[49m\u001b[43m,\u001b[49m\u001b[43mdataset\u001b[49m\u001b[43m[\u001b[49m\u001b[38;5;124;43m'\u001b[39;49m\u001b[38;5;124;43mtime_in_hospital\u001b[39;49m\u001b[38;5;124;43m'\u001b[39;49m\u001b[43m]\u001b[49m\u001b[43m,\u001b[49m\u001b[43mhue\u001b[49m\u001b[38;5;241;43m=\u001b[39;49m\u001b[43mdataset\u001b[49m\u001b[43m[\u001b[49m\u001b[38;5;124;43m'\u001b[39;49m\u001b[38;5;124;43mreadmitted\u001b[39;49m\u001b[38;5;124;43m'\u001b[39;49m\u001b[43m]\u001b[49m\u001b[43m)\u001b[49m\n",
            "\u001b[1;31mTypeError\u001b[0m: violinplot() takes from 0 to 1 positional arguments but 2 positional arguments (and 1 keyword-only argument) were given"
          ]
        },
        {
          "data": {
            "text/plain": [
              "<Figure size 1500x900 with 0 Axes>"
            ]
          },
          "metadata": {},
          "output_type": "display_data"
        }
      ],
      "source": [
        "plt.figure(figsize=(15,9))\n",
        "sns.violinplot(dataset['age'],dataset['time_in_hospital'],hue=dataset['readmitted'])"
      ]
    },
    {
      "cell_type": "markdown",
      "metadata": {
        "id": "WjiwTRoKI1HB"
      },
      "source": [
        "#For people in the age group 50–70 (represented by ‘55’ and ‘65’) we can clearly see a pattern where patients that stay longer are more likely to be readmitted. This is evident from the median stay value represented by white dot insidde the boxplot in violin plot. Similarly, people above 55 years of age that stay longer are more likely to be readmitted."
      ]
    },
    {
      "cell_type": "code",
      "execution_count": null,
      "metadata": {
        "colab": {
          "base_uri": "https://localhost:8080/",
          "height": 568
        },
        "id": "DK3Swrn3I5s1",
        "outputId": "ddb8229c-1179-4c1d-cfc4-6ec774cabd0b"
      },
      "outputs": [
        {
          "ename": "TypeError",
          "evalue": "violinplot() takes from 0 to 1 positional arguments but 2 positional arguments (and 1 keyword-only argument) were given",
          "output_type": "error",
          "traceback": [
            "\u001b[1;31m---------------------------------------------------------------------------\u001b[0m",
            "\u001b[1;31mTypeError\u001b[0m                                 Traceback (most recent call last)",
            "Cell \u001b[1;32mIn [150], line 2\u001b[0m\n\u001b[0;32m      1\u001b[0m plt\u001b[38;5;241m.\u001b[39mfigure(figsize\u001b[38;5;241m=\u001b[39m(\u001b[38;5;241m15\u001b[39m,\u001b[38;5;241m9\u001b[39m))\n\u001b[1;32m----> 2\u001b[0m \u001b[43msns\u001b[49m\u001b[38;5;241;43m.\u001b[39;49m\u001b[43mviolinplot\u001b[49m\u001b[43m(\u001b[49m\u001b[43mdataset\u001b[49m\u001b[43m[\u001b[49m\u001b[38;5;124;43m'\u001b[39;49m\u001b[38;5;124;43mgender\u001b[39;49m\u001b[38;5;124;43m'\u001b[39;49m\u001b[43m]\u001b[49m\u001b[43m,\u001b[49m\u001b[43mdataset\u001b[49m\u001b[43m[\u001b[49m\u001b[38;5;124;43m'\u001b[39;49m\u001b[38;5;124;43mtime_in_hospital\u001b[39;49m\u001b[38;5;124;43m'\u001b[39;49m\u001b[43m]\u001b[49m\u001b[43m,\u001b[49m\u001b[43mhue\u001b[49m\u001b[38;5;241;43m=\u001b[39;49m\u001b[43mdataset\u001b[49m\u001b[43m[\u001b[49m\u001b[38;5;124;43m'\u001b[39;49m\u001b[38;5;124;43mreadmitted\u001b[39;49m\u001b[38;5;124;43m'\u001b[39;49m\u001b[43m]\u001b[49m\u001b[43m)\u001b[49m\n",
            "\u001b[1;31mTypeError\u001b[0m: violinplot() takes from 0 to 1 positional arguments but 2 positional arguments (and 1 keyword-only argument) were given"
          ]
        },
        {
          "data": {
            "text/plain": [
              "<Figure size 1500x900 with 0 Axes>"
            ]
          },
          "metadata": {},
          "output_type": "display_data"
        }
      ],
      "source": [
        "plt.figure(figsize=(15,9))\n",
        "sns.violinplot(dataset['gender'],dataset['time_in_hospital'],hue=dataset['readmitted'])"
      ]
    },
    {
      "cell_type": "markdown",
      "metadata": {
        "id": "z0t2XDlQQ2tt"
      },
      "source": [
        "#Chisquare Test\n",
        "A chi-squared test is basically a data analysis on the basis of observations of a random set of variables\n",
        "\n",
        "It  is used to compare observed and expected results. "
      ]
    },
    {
      "cell_type": "code",
      "execution_count": null,
      "metadata": {
        "colab": {
          "base_uri": "https://localhost:8080/"
        },
        "id": "YOcUhW1TQ2aw",
        "outputId": "67e1abd9-d8e9-4a95-9717-84ea8c0e1d05"
      },
      "outputs": [
        {
          "data": {
            "text/plain": [
              "['race',\n",
              " 'gender',\n",
              " 'max_glu_serum',\n",
              " 'A1Cresult',\n",
              " 'metformin',\n",
              " 'repaglinide',\n",
              " 'nateglinide',\n",
              " 'chlorpropamide',\n",
              " 'glimepiride',\n",
              " 'acetohexamide',\n",
              " 'glipizide',\n",
              " 'glyburide',\n",
              " 'tolbutamide',\n",
              " 'pioglitazone',\n",
              " 'rosiglitazone',\n",
              " 'acarbose',\n",
              " 'miglitol',\n",
              " 'troglitazone',\n",
              " 'tolazamide',\n",
              " 'insulin',\n",
              " 'glyburide-metformin',\n",
              " 'glipizide-metformin',\n",
              " 'glimepiride-pioglitazone',\n",
              " 'metformin-rosiglitazone',\n",
              " 'metformin-pioglitazone',\n",
              " 'change',\n",
              " 'diabetesMed',\n",
              " 'payer_code',\n",
              " 'readmitted']"
            ]
          },
          "execution_count": 151,
          "metadata": {},
          "output_type": "execute_result"
        }
      ],
      "source": [
        "column_categorical"
      ]
    },
    {
      "cell_type": "code",
      "execution_count": null,
      "metadata": {
        "id": "eEY1OgOIRuEa"
      },
      "outputs": [],
      "source": [
        "dataset=dataset.drop(columns=['diag_1','diag_2','diag_3'],axis=1)\n"
      ]
    },
    {
      "cell_type": "code",
      "execution_count": null,
      "metadata": {
        "id": "npmt7ocVRyvx"
      },
      "outputs": [],
      "source": [
        "dataset['admission_type_id']=dataset['admission_type_id'].astype('int64')\n",
        "dataset['discharge_disposition_id']=dataset['discharge_disposition_id'].astype('int64')\n",
        "dataset['admission_source_id']=dataset['admission_source_id'].astype('int64')"
      ]
    },
    {
      "cell_type": "markdown",
      "metadata": {
        "id": "yIuXlOqlroxV"
      },
      "source": [
        "#Label Encoding\n",
        "Label Encoding refers to converting the labels into a numeric form so as to convert them into the machine-readable form. Machine learning algorithms can then decide in a better way how those labels must be operated. It is an important pre-processing step for the structured dataset in supervised learning."
      ]
    },
    {
      "cell_type": "code",
      "execution_count": null,
      "metadata": {
        "id": "Sj2XpVd2BhBy"
      },
      "outputs": [],
      "source": [
        "from sklearn.preprocessing import LabelEncoder\n",
        "LE=LabelEncoder()\n",
        "\n",
        "dataset['race']=LE.fit_transform(dataset['race'])\n",
        "dataset['gender']=LE.fit_transform(dataset['gender'])\n",
        "dataset['payer_code']=LE.fit_transform(dataset['payer_code'])\n",
        "dataset['medical_specialty']=LE.fit_transform(dataset['medical_specialty'])\n",
        "dataset['max_glu_serum']=LE.fit_transform(dataset['max_glu_serum'])\n",
        "dataset['A1Cresult']=LE.fit_transform(dataset['A1Cresult'])\n",
        "dataset['metformin']=LE.fit_transform(dataset['metformin'])\n",
        "dataset['repaglinide']=LE.fit_transform(dataset['repaglinide'])\n",
        "dataset['nateglinide']=LE.fit_transform(dataset['nateglinide'])\n",
        "dataset['chlorpropamide']=LE.fit_transform(dataset['chlorpropamide'])\n",
        "dataset['glimepiride']=LE.fit_transform(dataset['glimepiride'])\n",
        "dataset['acetohexamide']=LE.fit_transform(dataset['acetohexamide'])\n",
        "dataset['glipizide']=LE.fit_transform(dataset['glipizide'])\n",
        "dataset['glyburide']=LE.fit_transform(dataset['glyburide'])\n",
        "dataset['tolbutamide']=LE.fit_transform(dataset['tolbutamide'])\n",
        "dataset['pioglitazone']=LE.fit_transform(dataset['pioglitazone'])\n",
        "dataset['rosiglitazone']=LE.fit_transform(dataset['rosiglitazone'])\n",
        "dataset['acarbose']=LE.fit_transform(dataset['acarbose'])\n",
        "dataset['miglitol']=LE.fit_transform(dataset['miglitol'])\n",
        "dataset['troglitazone']=LE.fit_transform(dataset['troglitazone'])\n",
        "dataset['tolazamide']=LE.fit_transform(dataset['tolazamide'])\n",
        "dataset['examide']=LE.fit_transform(dataset['examide'])\n",
        "dataset['citoglipton']=LE.fit_transform(dataset['citoglipton'])\n",
        "dataset['insulin']=LE.fit_transform(dataset['insulin'])\n",
        "dataset['glyburide-metformin']=LE.fit_transform(dataset['glyburide-metformin'])\n",
        "dataset['glipizide-metformin']=LE.fit_transform(dataset['glipizide-metformin'])\n",
        "dataset['glimepiride-pioglitazone']=LE.fit_transform(dataset['glimepiride-pioglitazone'])\n",
        "dataset['metformin-rosiglitazone']=LE.fit_transform(dataset['metformin-rosiglitazone'])\n",
        "dataset['metformin-pioglitazone']=LE.fit_transform(dataset['metformin-pioglitazone'])\n",
        "dataset['change']=LE.fit_transform(dataset['change'])\n",
        "dataset['med_spec']=LE.fit_transform(dataset['med_spec'])\n",
        "dataset['diabetesMed']=LE.fit_transform(dataset['diabetesMed'])\n",
        "dataset['readmitted']=LE.fit_transform(dataset['readmitted'])"
      ]
    },
    {
      "cell_type": "code",
      "execution_count": null,
      "metadata": {
        "id": "5RM4RXM7cw4s"
      },
      "outputs": [],
      "source": [
        "# new feature creation"
      ]
    },
    {
      "cell_type": "code",
      "execution_count": null,
      "metadata": {
        "id": "LDv21EXpR9WY"
      },
      "outputs": [],
      "source": [
        "dataset['Service Utilization'] = dataset['number_inpatient']+dataset['number_outpatient']"
      ]
    },
    {
      "cell_type": "code",
      "execution_count": null,
      "metadata": {
        "id": "yBGR1IrQcw4u"
      },
      "outputs": [],
      "source": [
        "# reducing unique features"
      ]
    },
    {
      "cell_type": "code",
      "execution_count": null,
      "metadata": {
        "id": "qK_ZtNcWS4PE"
      },
      "outputs": [],
      "source": [
        "def fun(x):\n",
        "    if (x==1) | (x==2) | (x==7) :\n",
        "        return 1\n",
        "    if (x==5) | (x==6) | (x==8) :\n",
        "        return 2\n",
        "    else:\n",
        "        return x"
      ]
    },
    {
      "cell_type": "code",
      "execution_count": null,
      "metadata": {
        "id": "iK4ZfNUwS6np"
      },
      "outputs": [],
      "source": [
        "dataset['admission_type_id'] = dataset['admission_type_id'].apply(fun)\n"
      ]
    },
    {
      "cell_type": "code",
      "execution_count": null,
      "metadata": {
        "colab": {
          "base_uri": "https://localhost:8080/"
        },
        "id": "8r5Nh6TgS_7J",
        "outputId": "11f55d16-4f0b-4429-9124-734a625b72f2"
      },
      "outputs": [
        {
          "data": {
            "text/plain": [
              "array([2, 1, 3, 4], dtype=int64)"
            ]
          },
          "execution_count": 158,
          "metadata": {},
          "output_type": "execute_result"
        }
      ],
      "source": [
        "dataset['admission_type_id'].unique()"
      ]
    },
    {
      "cell_type": "code",
      "execution_count": null,
      "metadata": {
        "colab": {
          "base_uri": "https://localhost:8080/"
        },
        "id": "JraR7BaRTFS3",
        "outputId": "44635c33-46bb-4cf6-da3a-6a86aa718f02"
      },
      "outputs": [
        {
          "data": {
            "text/plain": [
              "array([25, 1, 3, 6, 2, 5, 11, 7, 10, 4, 14, 18, 8, 13, 12, 16, 17, 22, 23,\n",
              "       9, 20, 15, 24, 28, 19, 27], dtype=object)"
            ]
          },
          "execution_count": 159,
          "metadata": {},
          "output_type": "execute_result"
        }
      ],
      "source": [
        "dataset['discharge_disposition_id'].unique()\n",
        "# "
      ]
    },
    {
      "cell_type": "code",
      "execution_count": null,
      "metadata": {
        "id": "VolmEA1jcw4z",
        "outputId": "99ba4912-643b-4f1c-9c89-97eeb27f9d2b"
      },
      "outputs": [
        {
          "data": {
            "text/plain": [
              "1     73664\n",
              "2     20906\n",
              "4      4680\n",
              "11     1642\n",
              "7       623\n",
              "28      139\n",
              "3        97\n",
              "19        8\n",
              "27        5\n",
              "20        2\n",
              "Name: discharge_disposition_id, dtype: int64"
            ]
          },
          "execution_count": 175,
          "metadata": {},
          "output_type": "execute_result"
        }
      ],
      "source": [
        "dataset['discharge_disposition_id'].value_counts()"
      ]
    },
    {
      "cell_type": "code",
      "execution_count": null,
      "metadata": {
        "id": "gP8vZKqBcw40",
        "outputId": "389c66f0-6374-4e8e-c70f-65c2c3fe3001"
      },
      "outputs": [
        {
          "data": {
            "text/html": [
              "<div>\n",
              "<style scoped>\n",
              "    .dataframe tbody tr th:only-of-type {\n",
              "        vertical-align: middle;\n",
              "    }\n",
              "\n",
              "    .dataframe tbody tr th {\n",
              "        vertical-align: top;\n",
              "    }\n",
              "\n",
              "    .dataframe thead th {\n",
              "        text-align: right;\n",
              "    }\n",
              "</style>\n",
              "<table border=\"1\" class=\"dataframe\">\n",
              "  <thead>\n",
              "    <tr style=\"text-align: right;\">\n",
              "      <th></th>\n",
              "      <th>encounter_id</th>\n",
              "      <th>patient_nbr</th>\n",
              "      <th>race</th>\n",
              "      <th>gender</th>\n",
              "      <th>age</th>\n",
              "      <th>admission_type_id</th>\n",
              "      <th>discharge_disposition_id</th>\n",
              "      <th>admission_source_id</th>\n",
              "      <th>time_in_hospital</th>\n",
              "      <th>payer_code</th>\n",
              "      <th>...</th>\n",
              "      <th>glyburide-metformin</th>\n",
              "      <th>glipizide-metformin</th>\n",
              "      <th>glimepiride-pioglitazone</th>\n",
              "      <th>metformin-rosiglitazone</th>\n",
              "      <th>metformin-pioglitazone</th>\n",
              "      <th>change</th>\n",
              "      <th>diabetesMed</th>\n",
              "      <th>readmitted</th>\n",
              "      <th>med_spec</th>\n",
              "      <th>Service Utilization</th>\n",
              "    </tr>\n",
              "  </thead>\n",
              "  <tbody>\n",
              "    <tr>\n",
              "      <th>0</th>\n",
              "      <td>2278392</td>\n",
              "      <td>8222157</td>\n",
              "      <td>2</td>\n",
              "      <td>0</td>\n",
              "      <td>5</td>\n",
              "      <td>2</td>\n",
              "      <td>4</td>\n",
              "      <td>1</td>\n",
              "      <td>1</td>\n",
              "      <td>16</td>\n",
              "      <td>...</td>\n",
              "      <td>1</td>\n",
              "      <td>0</td>\n",
              "      <td>0</td>\n",
              "      <td>0</td>\n",
              "      <td>0</td>\n",
              "      <td>1</td>\n",
              "      <td>0</td>\n",
              "      <td>2</td>\n",
              "      <td>7</td>\n",
              "      <td>0</td>\n",
              "    </tr>\n",
              "    <tr>\n",
              "      <th>1</th>\n",
              "      <td>149190</td>\n",
              "      <td>55629189</td>\n",
              "      <td>2</td>\n",
              "      <td>0</td>\n",
              "      <td>15</td>\n",
              "      <td>1</td>\n",
              "      <td>1</td>\n",
              "      <td>7</td>\n",
              "      <td>3</td>\n",
              "      <td>16</td>\n",
              "      <td>...</td>\n",
              "      <td>1</td>\n",
              "      <td>0</td>\n",
              "      <td>0</td>\n",
              "      <td>0</td>\n",
              "      <td>0</td>\n",
              "      <td>0</td>\n",
              "      <td>1</td>\n",
              "      <td>1</td>\n",
              "      <td>10</td>\n",
              "      <td>0</td>\n",
              "    </tr>\n",
              "    <tr>\n",
              "      <th>2</th>\n",
              "      <td>64410</td>\n",
              "      <td>86047875</td>\n",
              "      <td>0</td>\n",
              "      <td>0</td>\n",
              "      <td>25</td>\n",
              "      <td>1</td>\n",
              "      <td>1</td>\n",
              "      <td>7</td>\n",
              "      <td>2</td>\n",
              "      <td>16</td>\n",
              "      <td>...</td>\n",
              "      <td>1</td>\n",
              "      <td>0</td>\n",
              "      <td>0</td>\n",
              "      <td>0</td>\n",
              "      <td>0</td>\n",
              "      <td>1</td>\n",
              "      <td>1</td>\n",
              "      <td>2</td>\n",
              "      <td>10</td>\n",
              "      <td>3</td>\n",
              "    </tr>\n",
              "    <tr>\n",
              "      <th>3</th>\n",
              "      <td>500364</td>\n",
              "      <td>82442376</td>\n",
              "      <td>2</td>\n",
              "      <td>1</td>\n",
              "      <td>35</td>\n",
              "      <td>1</td>\n",
              "      <td>1</td>\n",
              "      <td>7</td>\n",
              "      <td>2</td>\n",
              "      <td>16</td>\n",
              "      <td>...</td>\n",
              "      <td>1</td>\n",
              "      <td>0</td>\n",
              "      <td>0</td>\n",
              "      <td>0</td>\n",
              "      <td>0</td>\n",
              "      <td>0</td>\n",
              "      <td>1</td>\n",
              "      <td>2</td>\n",
              "      <td>10</td>\n",
              "      <td>0</td>\n",
              "    </tr>\n",
              "    <tr>\n",
              "      <th>4</th>\n",
              "      <td>16680</td>\n",
              "      <td>42519267</td>\n",
              "      <td>2</td>\n",
              "      <td>1</td>\n",
              "      <td>45</td>\n",
              "      <td>1</td>\n",
              "      <td>1</td>\n",
              "      <td>7</td>\n",
              "      <td>1</td>\n",
              "      <td>16</td>\n",
              "      <td>...</td>\n",
              "      <td>1</td>\n",
              "      <td>0</td>\n",
              "      <td>0</td>\n",
              "      <td>0</td>\n",
              "      <td>0</td>\n",
              "      <td>0</td>\n",
              "      <td>1</td>\n",
              "      <td>2</td>\n",
              "      <td>10</td>\n",
              "      <td>0</td>\n",
              "    </tr>\n",
              "  </tbody>\n",
              "</table>\n",
              "<p>5 rows × 51 columns</p>\n",
              "</div>"
            ],
            "text/plain": [
              "   encounter_id  patient_nbr  race  gender  age  admission_type_id  \\\n",
              "0       2278392      8222157     2       0    5                  2   \n",
              "1        149190     55629189     2       0   15                  1   \n",
              "2         64410     86047875     0       0   25                  1   \n",
              "3        500364     82442376     2       1   35                  1   \n",
              "4         16680     42519267     2       1   45                  1   \n",
              "\n",
              "   discharge_disposition_id admission_source_id  time_in_hospital  payer_code  \\\n",
              "0                         4                   1                 1          16   \n",
              "1                         1                   7                 3          16   \n",
              "2                         1                   7                 2          16   \n",
              "3                         1                   7                 2          16   \n",
              "4                         1                   7                 1          16   \n",
              "\n",
              "   ...  glyburide-metformin  glipizide-metformin  glimepiride-pioglitazone  \\\n",
              "0  ...                    1                    0                         0   \n",
              "1  ...                    1                    0                         0   \n",
              "2  ...                    1                    0                         0   \n",
              "3  ...                    1                    0                         0   \n",
              "4  ...                    1                    0                         0   \n",
              "\n",
              "   metformin-rosiglitazone  metformin-pioglitazone  change  diabetesMed  \\\n",
              "0                        0                       0       1            0   \n",
              "1                        0                       0       0            1   \n",
              "2                        0                       0       1            1   \n",
              "3                        0                       0       0            1   \n",
              "4                        0                       0       0            1   \n",
              "\n",
              "  readmitted med_spec Service Utilization  \n",
              "0          2        7                   0  \n",
              "1          1       10                   0  \n",
              "2          2       10                   3  \n",
              "3          2       10                   0  \n",
              "4          2       10                   0  \n",
              "\n",
              "[5 rows x 51 columns]"
            ]
          },
          "execution_count": 178,
          "metadata": {},
          "output_type": "execute_result"
        }
      ],
      "source": [
        "dataset.head()"
      ]
    },
    {
      "cell_type": "code",
      "execution_count": null,
      "metadata": {
        "id": "o95BszQgcw41"
      },
      "outputs": [],
      "source": []
    },
    {
      "cell_type": "code",
      "execution_count": null,
      "metadata": {
        "id": "gp-7rPS7TJCp"
      },
      "outputs": [],
      "source": [
        "def myFun(x):\n",
        "    if (x==1) | (x==6) | (x==8) | (x==9) | (x==13):\n",
        "        return 1\n",
        "    if (x==2) | (x==3) | (x==4) | (x==5) | (x==14) | (x==22) | (x==23) | (x==24):\n",
        "        return 2\n",
        "    if (x==10) | (x==12) | (x==15) | (x==16) | (x==17) :\n",
        "        return 3\n",
        "    if (x==18) | (x==25) | (x==26) :\n",
        "        return 4\n",
        "    else:\n",
        "        return x"
      ]
    },
    {
      "cell_type": "code",
      "execution_count": null,
      "metadata": {
        "id": "L7sl9p-fTNUB"
      },
      "outputs": [],
      "source": [
        "dataset['discharge_disposition_id'] = dataset['discharge_disposition_id'].apply(myFun)"
      ]
    },
    {
      "cell_type": "code",
      "execution_count": null,
      "metadata": {
        "id": "rIgms6mrTZon"
      },
      "outputs": [],
      "source": [
        "data_final = dataset[dataset['patient_nbr'].duplicated(keep='first')==False]"
      ]
    },
    {
      "cell_type": "code",
      "execution_count": null,
      "metadata": {
        "colab": {
          "base_uri": "https://localhost:8080/"
        },
        "id": "xUvJjNgLTeXp",
        "outputId": "68da03cb-491b-4ae1-800b-52bcc0a4b8e7"
      },
      "outputs": [
        {
          "data": {
            "text/plain": [
              "(71518, 51)"
            ]
          },
          "execution_count": 163,
          "metadata": {},
          "output_type": "execute_result"
        }
      ],
      "source": [
        "data_final.shape\n"
      ]
    },
    {
      "cell_type": "code",
      "execution_count": null,
      "metadata": {
        "id": "wdPrE8SvThv-"
      },
      "outputs": [],
      "source": [
        "t = dataset['patient_nbr'].value_counts()"
      ]
    },
    {
      "cell_type": "code",
      "execution_count": null,
      "metadata": {
        "id": "6QvjxCY5TliA"
      },
      "outputs": [],
      "source": [
        "visit = pd.DataFrame()\n",
        "visit['number'] = t.index\n",
        "visit['no of times'] = t.values"
      ]
    },
    {
      "cell_type": "code",
      "execution_count": null,
      "metadata": {
        "colab": {
          "base_uri": "https://localhost:8080/",
          "height": 423
        },
        "id": "l_SLTwnKTn3N",
        "outputId": "1202c55e-7b1f-4f5d-d9b7-385135aff993"
      },
      "outputs": [
        {
          "data": {
            "text/html": [
              "<div>\n",
              "<style scoped>\n",
              "    .dataframe tbody tr th:only-of-type {\n",
              "        vertical-align: middle;\n",
              "    }\n",
              "\n",
              "    .dataframe tbody tr th {\n",
              "        vertical-align: top;\n",
              "    }\n",
              "\n",
              "    .dataframe thead th {\n",
              "        text-align: right;\n",
              "    }\n",
              "</style>\n",
              "<table border=\"1\" class=\"dataframe\">\n",
              "  <thead>\n",
              "    <tr style=\"text-align: right;\">\n",
              "      <th></th>\n",
              "      <th>number</th>\n",
              "      <th>no of times</th>\n",
              "    </tr>\n",
              "  </thead>\n",
              "  <tbody>\n",
              "    <tr>\n",
              "      <th>0</th>\n",
              "      <td>88785891</td>\n",
              "      <td>40</td>\n",
              "    </tr>\n",
              "    <tr>\n",
              "      <th>1</th>\n",
              "      <td>43140906</td>\n",
              "      <td>28</td>\n",
              "    </tr>\n",
              "    <tr>\n",
              "      <th>2</th>\n",
              "      <td>1660293</td>\n",
              "      <td>23</td>\n",
              "    </tr>\n",
              "    <tr>\n",
              "      <th>3</th>\n",
              "      <td>88227540</td>\n",
              "      <td>23</td>\n",
              "    </tr>\n",
              "    <tr>\n",
              "      <th>4</th>\n",
              "      <td>23199021</td>\n",
              "      <td>23</td>\n",
              "    </tr>\n",
              "    <tr>\n",
              "      <th>...</th>\n",
              "      <td>...</td>\n",
              "      <td>...</td>\n",
              "    </tr>\n",
              "    <tr>\n",
              "      <th>71513</th>\n",
              "      <td>11005362</td>\n",
              "      <td>1</td>\n",
              "    </tr>\n",
              "    <tr>\n",
              "      <th>71514</th>\n",
              "      <td>98252496</td>\n",
              "      <td>1</td>\n",
              "    </tr>\n",
              "    <tr>\n",
              "      <th>71515</th>\n",
              "      <td>1019673</td>\n",
              "      <td>1</td>\n",
              "    </tr>\n",
              "    <tr>\n",
              "      <th>71516</th>\n",
              "      <td>13396320</td>\n",
              "      <td>1</td>\n",
              "    </tr>\n",
              "    <tr>\n",
              "      <th>71517</th>\n",
              "      <td>175429310</td>\n",
              "      <td>1</td>\n",
              "    </tr>\n",
              "  </tbody>\n",
              "</table>\n",
              "<p>71518 rows × 2 columns</p>\n",
              "</div>"
            ],
            "text/plain": [
              "          number  no of times\n",
              "0       88785891           40\n",
              "1       43140906           28\n",
              "2        1660293           23\n",
              "3       88227540           23\n",
              "4       23199021           23\n",
              "...          ...          ...\n",
              "71513   11005362            1\n",
              "71514   98252496            1\n",
              "71515    1019673            1\n",
              "71516   13396320            1\n",
              "71517  175429310            1\n",
              "\n",
              "[71518 rows x 2 columns]"
            ]
          },
          "execution_count": 166,
          "metadata": {},
          "output_type": "execute_result"
        }
      ],
      "source": [
        "visit\n"
      ]
    },
    {
      "cell_type": "code",
      "execution_count": null,
      "metadata": {
        "id": "GT8ssRXvTq8y"
      },
      "outputs": [],
      "source": [
        "final = pd.merge(dataset,visit,how='inner',left_on='patient_nbr',right_on='number')\n"
      ]
    },
    {
      "cell_type": "code",
      "execution_count": null,
      "metadata": {
        "id": "oWW0pfH_Tvzo"
      },
      "outputs": [],
      "source": [
        "final.drop('number',axis=1,inplace=True)\n"
      ]
    },
    {
      "cell_type": "code",
      "execution_count": null,
      "metadata": {
        "colab": {
          "base_uri": "https://localhost:8080/"
        },
        "id": "UIL2jLpJTyzl",
        "outputId": "d30409e3-aec5-4129-f0fe-77b5cf7337fd"
      },
      "outputs": [
        {
          "data": {
            "text/plain": [
              "(101766, 52)"
            ]
          },
          "execution_count": 169,
          "metadata": {},
          "output_type": "execute_result"
        }
      ],
      "source": [
        "final.shape\n"
      ]
    },
    {
      "cell_type": "code",
      "execution_count": null,
      "metadata": {
        "id": "q60-q1bNcw48",
        "outputId": "b3181403-3845-41c3-b179-3f7806e03faf"
      },
      "outputs": [
        {
          "data": {
            "text/html": [
              "<div>\n",
              "<style scoped>\n",
              "    .dataframe tbody tr th:only-of-type {\n",
              "        vertical-align: middle;\n",
              "    }\n",
              "\n",
              "    .dataframe tbody tr th {\n",
              "        vertical-align: top;\n",
              "    }\n",
              "\n",
              "    .dataframe thead th {\n",
              "        text-align: right;\n",
              "    }\n",
              "</style>\n",
              "<table border=\"1\" class=\"dataframe\">\n",
              "  <thead>\n",
              "    <tr style=\"text-align: right;\">\n",
              "      <th></th>\n",
              "      <th>encounter_id</th>\n",
              "      <th>patient_nbr</th>\n",
              "      <th>race</th>\n",
              "      <th>gender</th>\n",
              "      <th>age</th>\n",
              "      <th>admission_type_id</th>\n",
              "      <th>discharge_disposition_id</th>\n",
              "      <th>admission_source_id</th>\n",
              "      <th>time_in_hospital</th>\n",
              "      <th>payer_code</th>\n",
              "      <th>...</th>\n",
              "      <th>glyburide-metformin</th>\n",
              "      <th>glipizide-metformin</th>\n",
              "      <th>glimepiride-pioglitazone</th>\n",
              "      <th>metformin-rosiglitazone</th>\n",
              "      <th>metformin-pioglitazone</th>\n",
              "      <th>change</th>\n",
              "      <th>diabetesMed</th>\n",
              "      <th>readmitted</th>\n",
              "      <th>med_spec</th>\n",
              "      <th>Service Utilization</th>\n",
              "    </tr>\n",
              "  </thead>\n",
              "  <tbody>\n",
              "    <tr>\n",
              "      <th>0</th>\n",
              "      <td>2278392</td>\n",
              "      <td>8222157</td>\n",
              "      <td>2</td>\n",
              "      <td>0</td>\n",
              "      <td>5</td>\n",
              "      <td>2</td>\n",
              "      <td>4</td>\n",
              "      <td>1</td>\n",
              "      <td>1</td>\n",
              "      <td>16</td>\n",
              "      <td>...</td>\n",
              "      <td>1</td>\n",
              "      <td>0</td>\n",
              "      <td>0</td>\n",
              "      <td>0</td>\n",
              "      <td>0</td>\n",
              "      <td>1</td>\n",
              "      <td>0</td>\n",
              "      <td>2</td>\n",
              "      <td>7</td>\n",
              "      <td>0</td>\n",
              "    </tr>\n",
              "    <tr>\n",
              "      <th>1</th>\n",
              "      <td>149190</td>\n",
              "      <td>55629189</td>\n",
              "      <td>2</td>\n",
              "      <td>0</td>\n",
              "      <td>15</td>\n",
              "      <td>1</td>\n",
              "      <td>1</td>\n",
              "      <td>7</td>\n",
              "      <td>3</td>\n",
              "      <td>16</td>\n",
              "      <td>...</td>\n",
              "      <td>1</td>\n",
              "      <td>0</td>\n",
              "      <td>0</td>\n",
              "      <td>0</td>\n",
              "      <td>0</td>\n",
              "      <td>0</td>\n",
              "      <td>1</td>\n",
              "      <td>1</td>\n",
              "      <td>10</td>\n",
              "      <td>0</td>\n",
              "    </tr>\n",
              "    <tr>\n",
              "      <th>2</th>\n",
              "      <td>64410</td>\n",
              "      <td>86047875</td>\n",
              "      <td>0</td>\n",
              "      <td>0</td>\n",
              "      <td>25</td>\n",
              "      <td>1</td>\n",
              "      <td>1</td>\n",
              "      <td>7</td>\n",
              "      <td>2</td>\n",
              "      <td>16</td>\n",
              "      <td>...</td>\n",
              "      <td>1</td>\n",
              "      <td>0</td>\n",
              "      <td>0</td>\n",
              "      <td>0</td>\n",
              "      <td>0</td>\n",
              "      <td>1</td>\n",
              "      <td>1</td>\n",
              "      <td>2</td>\n",
              "      <td>10</td>\n",
              "      <td>3</td>\n",
              "    </tr>\n",
              "    <tr>\n",
              "      <th>3</th>\n",
              "      <td>500364</td>\n",
              "      <td>82442376</td>\n",
              "      <td>2</td>\n",
              "      <td>1</td>\n",
              "      <td>35</td>\n",
              "      <td>1</td>\n",
              "      <td>1</td>\n",
              "      <td>7</td>\n",
              "      <td>2</td>\n",
              "      <td>16</td>\n",
              "      <td>...</td>\n",
              "      <td>1</td>\n",
              "      <td>0</td>\n",
              "      <td>0</td>\n",
              "      <td>0</td>\n",
              "      <td>0</td>\n",
              "      <td>0</td>\n",
              "      <td>1</td>\n",
              "      <td>2</td>\n",
              "      <td>10</td>\n",
              "      <td>0</td>\n",
              "    </tr>\n",
              "    <tr>\n",
              "      <th>4</th>\n",
              "      <td>16680</td>\n",
              "      <td>42519267</td>\n",
              "      <td>2</td>\n",
              "      <td>1</td>\n",
              "      <td>45</td>\n",
              "      <td>1</td>\n",
              "      <td>1</td>\n",
              "      <td>7</td>\n",
              "      <td>1</td>\n",
              "      <td>16</td>\n",
              "      <td>...</td>\n",
              "      <td>1</td>\n",
              "      <td>0</td>\n",
              "      <td>0</td>\n",
              "      <td>0</td>\n",
              "      <td>0</td>\n",
              "      <td>0</td>\n",
              "      <td>1</td>\n",
              "      <td>2</td>\n",
              "      <td>10</td>\n",
              "      <td>0</td>\n",
              "    </tr>\n",
              "  </tbody>\n",
              "</table>\n",
              "<p>5 rows × 51 columns</p>\n",
              "</div>"
            ],
            "text/plain": [
              "   encounter_id  patient_nbr  race  gender  age  admission_type_id  \\\n",
              "0       2278392      8222157     2       0    5                  2   \n",
              "1        149190     55629189     2       0   15                  1   \n",
              "2         64410     86047875     0       0   25                  1   \n",
              "3        500364     82442376     2       1   35                  1   \n",
              "4         16680     42519267     2       1   45                  1   \n",
              "\n",
              "   discharge_disposition_id admission_source_id  time_in_hospital  payer_code  \\\n",
              "0                         4                   1                 1          16   \n",
              "1                         1                   7                 3          16   \n",
              "2                         1                   7                 2          16   \n",
              "3                         1                   7                 2          16   \n",
              "4                         1                   7                 1          16   \n",
              "\n",
              "   ...  glyburide-metformin  glipizide-metformin  glimepiride-pioglitazone  \\\n",
              "0  ...                    1                    0                         0   \n",
              "1  ...                    1                    0                         0   \n",
              "2  ...                    1                    0                         0   \n",
              "3  ...                    1                    0                         0   \n",
              "4  ...                    1                    0                         0   \n",
              "\n",
              "   metformin-rosiglitazone  metformin-pioglitazone  change  diabetesMed  \\\n",
              "0                        0                       0       1            0   \n",
              "1                        0                       0       0            1   \n",
              "2                        0                       0       1            1   \n",
              "3                        0                       0       0            1   \n",
              "4                        0                       0       0            1   \n",
              "\n",
              "  readmitted med_spec Service Utilization  \n",
              "0          2        7                   0  \n",
              "1          1       10                   0  \n",
              "2          2       10                   3  \n",
              "3          2       10                   0  \n",
              "4          2       10                   0  \n",
              "\n",
              "[5 rows x 51 columns]"
            ]
          },
          "execution_count": 170,
          "metadata": {},
          "output_type": "execute_result"
        }
      ],
      "source": [
        "dataset.head()"
      ]
    },
    {
      "cell_type": "code",
      "execution_count": null,
      "metadata": {
        "id": "qXDLgLk8cw49"
      },
      "outputs": [],
      "source": []
    },
    {
      "cell_type": "code",
      "execution_count": null,
      "metadata": {
        "colab": {
          "base_uri": "https://localhost:8080/"
        },
        "id": "t_2UWxeKT1KO",
        "outputId": "60698a2d-c2a3-4e66-8310-0d0e15436c1f"
      },
      "outputs": [
        {
          "name": "stdout",
          "output_type": "stream",
          "text": [
            "Requirement already satisfied: mlxtend in c:\\users\\admin\\appdata\\local\\programs\\python\\python39\\lib\\site-packages (0.21.0)\n",
            "Requirement already satisfied: scipy>=1.2.1 in c:\\users\\admin\\appdata\\local\\programs\\python\\python39\\lib\\site-packages (from mlxtend) (1.10.0)\n",
            "Requirement already satisfied: pandas>=0.24.2 in c:\\users\\admin\\appdata\\local\\programs\\python\\python39\\lib\\site-packages (from mlxtend) (1.5.1)\n",
            "Requirement already satisfied: joblib>=0.13.2 in c:\\users\\admin\\appdata\\local\\programs\\python\\python39\\lib\\site-packages (from mlxtend) (1.2.0)\n",
            "Requirement already satisfied: numpy>=1.16.2 in c:\\users\\admin\\appdata\\local\\programs\\python\\python39\\lib\\site-packages (from mlxtend) (1.23.3)\n",
            "Requirement already satisfied: setuptools in c:\\users\\admin\\appdata\\local\\programs\\python\\python39\\lib\\site-packages (from mlxtend) (58.1.0)\n",
            "Requirement already satisfied: matplotlib>=3.0.0 in c:\\users\\admin\\appdata\\local\\programs\\python\\python39\\lib\\site-packages (from mlxtend) (3.7.0)\n",
            "Requirement already satisfied: scikit-learn>=1.0.2 in c:\\users\\admin\\appdata\\local\\programs\\python\\python39\\lib\\site-packages (from mlxtend) (1.2.1)\n",
            "Requirement already satisfied: pillow>=6.2.0 in c:\\users\\admin\\appdata\\local\\programs\\python\\python39\\lib\\site-packages (from matplotlib>=3.0.0->mlxtend) (9.4.0)\n",
            "Requirement already satisfied: kiwisolver>=1.0.1 in c:\\users\\admin\\appdata\\local\\programs\\python\\python39\\lib\\site-packages (from matplotlib>=3.0.0->mlxtend) (1.4.4)\n",
            "Requirement already satisfied: python-dateutil>=2.7 in c:\\users\\admin\\appdata\\local\\programs\\python\\python39\\lib\\site-packages (from matplotlib>=3.0.0->mlxtend) (2.8.2)\n",
            "Requirement already satisfied: cycler>=0.10 in c:\\users\\admin\\appdata\\local\\programs\\python\\python39\\lib\\site-packages (from matplotlib>=3.0.0->mlxtend) (0.11.0)\n",
            "Requirement already satisfied: pyparsing>=2.3.1 in c:\\users\\admin\\appdata\\local\\programs\\python\\python39\\lib\\site-packages (from matplotlib>=3.0.0->mlxtend) (3.0.9)\n",
            "Requirement already satisfied: importlib-resources>=3.2.0 in c:\\users\\admin\\appdata\\local\\programs\\python\\python39\\lib\\site-packages (from matplotlib>=3.0.0->mlxtend) (5.10.2)\n",
            "Requirement already satisfied: packaging>=20.0 in c:\\users\\admin\\appdata\\local\\programs\\python\\python39\\lib\\site-packages (from matplotlib>=3.0.0->mlxtend) (21.3)\n",
            "Requirement already satisfied: fonttools>=4.22.0 in c:\\users\\admin\\appdata\\local\\programs\\python\\python39\\lib\\site-packages (from matplotlib>=3.0.0->mlxtend) (4.38.0)\n",
            "Requirement already satisfied: contourpy>=1.0.1 in c:\\users\\admin\\appdata\\local\\programs\\python\\python39\\lib\\site-packages (from matplotlib>=3.0.0->mlxtend) (1.0.7)\n",
            "Requirement already satisfied: pytz>=2020.1 in c:\\users\\admin\\appdata\\local\\programs\\python\\python39\\lib\\site-packages (from pandas>=0.24.2->mlxtend) (2022.6)\n",
            "Requirement already satisfied: threadpoolctl>=2.0.0 in c:\\users\\admin\\appdata\\local\\programs\\python\\python39\\lib\\site-packages (from scikit-learn>=1.0.2->mlxtend) (3.1.0)\n",
            "Requirement already satisfied: zipp>=3.1.0 in c:\\users\\admin\\appdata\\local\\programs\\python\\python39\\lib\\site-packages (from importlib-resources>=3.2.0->matplotlib>=3.0.0->mlxtend) (3.10.0)\n",
            "Requirement already satisfied: six>=1.5 in c:\\users\\admin\\appdata\\local\\programs\\python\\python39\\lib\\site-packages (from python-dateutil>=2.7->matplotlib>=3.0.0->mlxtend) (1.16.0)\n",
            "Note: you may need to restart the kernel to use updated packages.\n"
          ]
        },
        {
          "name": "stderr",
          "output_type": "stream",
          "text": [
            "\n",
            "[notice] A new release of pip is available: 23.0 -> 23.0.1\n",
            "[notice] To update, run: python.exe -m pip install --upgrade pip\n"
          ]
        }
      ],
      "source": [
        "pip install mlxtend  "
      ]
    },
    {
      "cell_type": "markdown",
      "metadata": {
        "id": "tNTb1Kn6hVNC"
      },
      "source": [
        "Joblib is a set of tools to provide lightweight pipelining in Python.\n",
        "\n",
        "Joblib provides functions that can be used to dump and load easily"
      ]
    },
    {
      "cell_type": "code",
      "execution_count": null,
      "metadata": {
        "id": "F-CdxiPKT4om"
      },
      "outputs": [],
      "source": [
        "import joblib\n",
        "\n",
        "sys.modules['sklearn.externals.joblib'] = joblib"
      ]
    },
    {
      "cell_type": "code",
      "execution_count": null,
      "metadata": {
        "id": "2ruy22MNT6lc"
      },
      "outputs": [],
      "source": [
        "from mlxtend.feature_selection import SequentialFeatureSelector\n",
        "from sklearn.model_selection import train_test_split\n",
        "from sklearn.ensemble import RandomForestClassifier\n",
        "rf = RandomForestClassifier()\n",
        "sfs = SequentialFeatureSelector(estimator=rf,k_features='best',forward=True,scoring='accuracy',verbose=2,n_jobs=-1)"
      ]
    },
    {
      "cell_type": "code",
      "execution_count": null,
      "metadata": {
        "id": "86CaCuw4T9Cq"
      },
      "outputs": [],
      "source": [
        "X=final.drop('readmitted',axis=1)\n",
        "y=final['readmitted']\n",
        "X_train, X_test, y_train, y_test = train_test_split(X, y, test_size=0.30,random_state=1)"
      ]
    },
    {
      "cell_type": "code",
      "execution_count": null,
      "metadata": {
        "id": "tx85ZNLWcw5B"
      },
      "outputs": [],
      "source": []
    },
    {
      "cell_type": "markdown",
      "metadata": {
        "id": "U2QO99ZoUMeU"
      },
      "source": [
        "#Best features using sequential feature selection"
      ]
    },
    {
      "cell_type": "code",
      "execution_count": null,
      "metadata": {
        "id": "laxJQBtScw5B"
      },
      "outputs": [],
      "source": [
        "from mlxtend.feature_selection import SequentialFeatureSelector\n",
        "from sklearn.model_selection import train_test_split\n",
        "from sklearn.ensemble import RandomForestClassifier\n",
        "rf = RandomForestClassifier()\n",
        "sfs = SequentialFeatureSelector(estimator=rf,k_features='best',forward=True,scoring='accuracy',verbose=2,n_jobs=-1)"
      ]
    },
    {
      "cell_type": "code",
      "execution_count": null,
      "metadata": {
        "id": "H57JXQSOcw5C"
      },
      "outputs": [],
      "source": [
        "X=final.drop('readmitted',axis=1)\n",
        "y=final['readmitted']\n",
        "X_train, X_test, y_train, y_test = train_test_split(X, y, test_size=0.30,random_state=1)"
      ]
    },
    {
      "cell_type": "code",
      "execution_count": null,
      "metadata": {
        "id": "Lut26q7rcw5D",
        "outputId": "28322b69-ecee-4510-e1e2-43278d003009"
      },
      "outputs": [
        {
          "name": "stderr",
          "output_type": "stream",
          "text": [
            "[Parallel(n_jobs=-1)]: Using backend LokyBackend with 4 concurrent workers.\n"
          ]
        }
      ],
      "source": [
        "sfs.fit(X_train,y_train)"
      ]
    },
    {
      "cell_type": "code",
      "execution_count": null,
      "metadata": {
        "id": "Fd0wveawUOu0"
      },
      "outputs": [],
      "source": [
        "finalseq = ['encounter_id',\n",
        " 'patient_nbr',\n",
        " 'race',\n",
        " 'gender',\n",
        " 'age',\n",
        " 'admission_type_id',\n",
        " 'discharge_disposition_id',\n",
        " 'admission_source_id',\n",
        " 'payer_code',\n",
        " 'medical_specialty',\n",
        " 'num_lab_procedures',\n",
        " 'num_medications',\n",
        " 'number_outpatient',\n",
        " 'number_emergency',\n",
        " 'number_inpatient',\n",
        " 'number_diagnoses',\n",
        " 'max_glu_serum',\n",
        " 'A1Cresult',\n",
        " 'metformin',\n",
        " 'repaglinide',\n",
        " 'nateglinide',\n",
        " 'chlorpropamide',\n",
        " 'glimepiride',\n",
        " 'acetohexamide',\n",
        " 'glipizide',\n",
        " 'glyburide',\n",
        " 'tolbutamide',\n",
        " 'pioglitazone',\n",
        " 'rosiglitazone',\n",
        " 'acarbose',\n",
        " 'miglitol',\n",
        " 'troglitazone',\n",
        " 'tolazamide',\n",
        " 'examide',\n",
        " 'citoglipton',\n",
        " 'insulin',\n",
        " 'glyburide-metformin',\n",
        " 'glipizide-metformin',\n",
        " 'glimepiride-pioglitazone',\n",
        " 'metformin-rosiglitazone',\n",
        " 'metformin-pioglitazone',\n",
        " 'change',\n",
        " 'diabetesMed',\n",
        " 'Service Utilization',\n",
        " 'no of times']\n"
      ]
    },
    {
      "cell_type": "code",
      "execution_count": null,
      "metadata": {
        "id": "uNutjSnAcw5E"
      },
      "outputs": [],
      "source": []
    },
    {
      "cell_type": "code",
      "execution_count": null,
      "metadata": {
        "id": "CkeNbRoWUT5Q"
      },
      "outputs": [],
      "source": [
        "finalseq=final.drop(['time_in_hospital','num_procedures','med_spec'],axis=1)\n"
      ]
    },
    {
      "cell_type": "code",
      "execution_count": null,
      "metadata": {
        "id": "zuI3TmIpUV3E"
      },
      "outputs": [],
      "source": [
        "X=finalseq.drop('readmitted',axis=1)\n",
        "y=finalseq['readmitted']\n",
        "\n",
        "\n",
        "X_train, X_test, y_train, y_test = train_test_split(X, y, test_size=0.30,random_state=1)"
      ]
    },
    {
      "cell_type": "markdown",
      "metadata": {
        "id": "p3SJf0ttFIQl"
      },
      "source": [
        "#Model Evaluation using Confusion Matrix:-\n",
        "A confusion matrix is a table that is used to evaluate the performance of a classification model. You can also visualize the performance of an algorithm. The fundamental of a confusion matrix is the number of correct and incorrect predictions are summed up class-wise."
      ]
    },
    {
      "cell_type": "markdown",
      "metadata": {
        "id": "7qFEzH8nhmKL"
      },
      "source": [
        "#Logistic Regression\n",
        "Logistic regression aims to solve classification problems. \n",
        "\n",
        "It does this by predicting categorical outcomes, unlike linear regression that predicts a continuous outcome.\n",
        "\n",
        "Logistic regression is one of the most popular Machine Learning algorithms, which comes under the Supervised Learning technique.\n",
        "\n",
        "It is used for predicting the categorical dependent variable using a given set of independent variables.\n",
        "\n",
        "Logistic regression predicts the output of a categorical dependent variable"
      ]
    },
    {
      "cell_type": "code",
      "execution_count": null,
      "metadata": {
        "colab": {
          "base_uri": "https://localhost:8080/"
        },
        "id": "_j50gefyUYrm",
        "outputId": "62a55ec4-8808-4fa0-be76-17aaa4d7761d"
      },
      "outputs": [
        {
          "name": "stdout",
          "output_type": "stream",
          "text": [
            "What is the Testing Accuracy\n",
            "0.6810678021618081\n",
            "What is the Training Accuracy\n",
            "0.6808214947498455\n",
            "[1 1 2 ... 2 1 1]\n",
            "[[0.16753565 0.48524716 0.34721719]\n",
            " [0.22197342 0.3924372  0.38558938]\n",
            " [0.05367007 0.2103614  0.73596853]\n",
            " ...\n",
            " [0.07004852 0.23768491 0.69226656]\n",
            " [0.20590576 0.51540267 0.27869157]\n",
            " [0.10274028 0.51834279 0.37891693]]\n",
            "[[   57  2014  1301]\n",
            " [   52  5800  4860]\n",
            " [   17  1493 14936]]\n",
            "              precision    recall  f1-score   support\n",
            "\n",
            "           0       0.45      0.02      0.03      3372\n",
            "           1       0.62      0.54      0.58     10712\n",
            "           2       0.71      0.91      0.80     16446\n",
            "\n",
            "    accuracy                           0.68     30530\n",
            "   macro avg       0.59      0.49      0.47     30530\n",
            "weighted avg       0.65      0.68      0.64     30530\n",
            "\n"
          ]
        }
      ],
      "source": [
        "from sklearn.linear_model import LogisticRegression\n",
        "from sklearn.preprocessing import StandardScaler\n",
        "\n",
        "lr1=LogisticRegression()\n",
        "sc=StandardScaler()\n",
        "sc.fit(X_train)\n",
        "scaledX_train = sc.transform(X_train)\n",
        "scaledX_test = sc.transform(X_test)\n",
        "lr1.fit(scaledX_train,y_train)\n",
        "print(\"What is the Testing Accuracy\")\n",
        "print(lr1.score(scaledX_test,y_test))\n",
        "print(\"What is the Training Accuracy\")\n",
        "print(lr1.score(scaledX_train,y_train))\n",
        "\n",
        "predicted = lr1.predict(scaledX_test)\n",
        "print(predicted)\n",
        "print(lr1.predict_proba(scaledX_test))\n",
        "\n",
        "from sklearn.metrics import classification_report,confusion_matrix\n",
        "print(confusion_matrix(y_test,predicted))\n",
        "print(classification_report(y_test,predicted))"
      ]
    },
    {
      "cell_type": "markdown",
      "metadata": {
        "id": "8f97oKEViLpr"
      },
      "source": [
        "#Decision Tree\n",
        "Decision Tree is a Supervised learning technique that can be used for both classification and Regression problems, but mostly it is preferred for solving Classification problems. \n",
        "\n",
        "It is a tree-structured classifier, where internal nodes represent the features of a dataset, branches represent the decision rules and each leaf node represents the outcome."
      ]
    },
    {
      "cell_type": "code",
      "execution_count": null,
      "metadata": {
        "colab": {
          "base_uri": "https://localhost:8080/"
        },
        "id": "hI0X3hryUdKQ",
        "outputId": "c1dfc653-8889-4a84-c599-665c5be4e1cc"
      },
      "outputs": [
        {
          "name": "stdout",
          "output_type": "stream",
          "text": [
            "Classification report:\n",
            "              precision    recall  f1-score   support\n",
            "\n",
            "           0       0.25      0.25      0.25      3372\n",
            "           1       0.55      0.56      0.55     10712\n",
            "           2       0.78      0.77      0.78     16446\n",
            "\n",
            "    accuracy                           0.64     30530\n",
            "   macro avg       0.53      0.53      0.53     30530\n",
            "weighted avg       0.64      0.64      0.64     30530\n",
            "\n"
          ]
        }
      ],
      "source": [
        "from sklearn.tree import DecisionTreeClassifier\n",
        "from sklearn.metrics import accuracy_score\n",
        "from sklearn.metrics import classification_report,confusion_matrix,roc_auc_score,cohen_kappa_score\n",
        "\n",
        "DT1 = DecisionTreeClassifier(min_samples_leaf=5,min_samples_split=10)\n",
        "DT1.fit(X_train,y_train)\n",
        "y_prediction = DT1.predict(X_test)\n",
        "print('Classification report:')\n",
        "print(classification_report(y_test,y_prediction))"
      ]
    },
    {
      "cell_type": "markdown",
      "metadata": {
        "id": "VGMSbatyeO3Z"
      },
      "source": [
        "#Random Forest:-\n",
        "Random forest (RF) is an ensemble classifier that uses multiple models of several Decision Trees to obtain a better prediction performance. \n",
        "\n",
        "It is a learning method in which a number of decision trees are constructed at the time of training in parallel with bootstrapping followed by aggregation, jointly referred to as bagging and outputs of the model predicted by the individual trees.\n",
        "\n",
        "This algorithm acts as a tree predictor where every tree depends on the random vector values. It is one of the best algorithms for classification and has the ability to classify large data with good accuracy.\n",
        "\n"
      ]
    },
    {
      "cell_type": "code",
      "execution_count": null,
      "metadata": {
        "colab": {
          "base_uri": "https://localhost:8080/"
        },
        "id": "K5rJgGtjUgVH",
        "outputId": "143cbac9-73da-4b4a-9b88-60daf8f06c81"
      },
      "outputs": [
        {
          "name": "stdout",
          "output_type": "stream",
          "text": [
            "Accuracy Train : 1.0\n",
            "Confusion matrix Train : [[ 7985     0     0]\n",
            " [    0 24833     0]\n",
            " [    0     0 38418]]\n",
            "\n",
            "Accuracy Test : 0.7252210940058958\n",
            "Confusion matrix Test : [[  168  2487   717]\n",
            " [  155  7333  3224]\n",
            " [   41  1765 14640]]\n",
            "\n",
            "Calssification Report :\n",
            "              precision    recall  f1-score   support\n",
            "\n",
            "           0       0.46      0.05      0.09      3372\n",
            "           1       0.63      0.68      0.66     10712\n",
            "           2       0.79      0.89      0.84     16446\n",
            "\n",
            "    accuracy                           0.73     30530\n",
            "   macro avg       0.63      0.54      0.53     30530\n",
            "weighted avg       0.70      0.73      0.69     30530\n",
            "\n"
          ]
        }
      ],
      "source": [
        "from sklearn.ensemble import RandomForestClassifier\n",
        "from sklearn.metrics import classification_report,accuracy_score,confusion_matrix,roc_auc_score\n",
        "from warnings import filterwarnings\n",
        "filterwarnings('ignore')\n",
        "\n",
        "RandFC1 = RandomForestClassifier()\n",
        "RandFC1.fit(X_train,y_train)\n",
        "\n",
        "y_tprediction = RandFC1.predict(X_train)\n",
        "\n",
        "print('Accuracy Train :',accuracy_score(y_train,y_tprediction))\n",
        "print('Confusion matrix Train :',confusion_matrix(y_train,y_tprediction))\n",
        "\n",
        "print()\n",
        "\n",
        "y_test_prediction = RandFC1.predict(X_test)\n",
        "\n",
        "RandomForest_Accuracy = accuracy_score(y_test,y_test_prediction)*100\n",
        "print('Accuracy Test :',accuracy_score(y_test,y_test_prediction))\n",
        "print('Confusion matrix Test :',confusion_matrix(y_test,y_test_prediction))\n",
        "\n",
        "print()\n",
        "\n",
        "print('Calssification Report :')\n",
        "print(classification_report(y_test,y_test_prediction))"
      ]
    },
    {
      "cell_type": "markdown",
      "metadata": {
        "id": "gJbz87U6VtT4"
      },
      "source": [
        "#Ada Boost:-\n",
        "Ada-boost or Adaptive Boosting is one of the ensembles boosting classifiers. It is an iterative ensemble method. \n",
        "\n",
        "The basic concept behind Adaboost is to set the weights of classifiers and training the data sample in each iteration. \n",
        "\n",
        "The weight is assigned to each sample in the training set equal to the current error on that sample. These weights can be used to inform the training of the weak learner. \n",
        "\n",
        "We have built the AdaBoost Model using Scikit-learn. It uses Decision Tree Classifier as the default Classifier.\n"
      ]
    },
    {
      "cell_type": "code",
      "execution_count": null,
      "metadata": {
        "colab": {
          "base_uri": "https://localhost:8080/"
        },
        "id": "uyu66W2OUkYp",
        "outputId": "1b619a54-6f05-4bd1-ada2-ea1892a39192"
      },
      "outputs": [
        {
          "name": "stdout",
          "output_type": "stream",
          "text": [
            "Accuracy Train : 0.7030153293278679\n",
            "Confusion matrix Train : [[  324  5771  1890]\n",
            " [  406 16871  7556]\n",
            " [  130  5403 32885]]\n",
            "\n",
            "Accuracy Test : 0.7012446773665247\n",
            "Confusion matrix Test : [[  154  2447   771]\n",
            " [  188  7276  3248]\n",
            " [   67  2400 13979]]\n",
            "\n",
            "Calssification Report :\n",
            "              precision    recall  f1-score   support\n",
            "\n",
            "           0       0.38      0.05      0.08      3372\n",
            "           1       0.60      0.68      0.64     10712\n",
            "           2       0.78      0.85      0.81     16446\n",
            "\n",
            "    accuracy                           0.70     30530\n",
            "   macro avg       0.58      0.52      0.51     30530\n",
            "weighted avg       0.67      0.70      0.67     30530\n",
            "\n"
          ]
        }
      ],
      "source": [
        "from sklearn.ensemble import AdaBoostClassifier\n",
        "from sklearn.metrics import classification_report,accuracy_score,confusion_matrix,roc_auc_score\n",
        "from warnings import filterwarnings\n",
        "filterwarnings('ignore')\n",
        "\n",
        "Adaboost_model1 = AdaBoostClassifier()\n",
        "Adaboost_model1.fit(X_train,y_train)\n",
        "\n",
        "y_tprediction = Adaboost_model1.predict(X_train)\n",
        "\n",
        "print('Accuracy Train :',accuracy_score(y_train,y_tprediction))\n",
        "print('Confusion matrix Train :',confusion_matrix(y_train,y_tprediction))\n",
        "\n",
        "print()\n",
        "\n",
        "y_test_prediction = Adaboost_model1.predict(X_test)\n",
        "\n",
        "AdaBoost_Accuracy = accuracy_score(y_test,y_test_prediction)*100\n",
        "print('Accuracy Test :',accuracy_score(y_test,y_test_prediction))\n",
        "print('Confusion matrix Test :',confusion_matrix(y_test,y_test_prediction))\n",
        "\n",
        "print()\n",
        "\n",
        "print('Calssification Report :')\n",
        "print(classification_report(y_test,y_test_prediction))"
      ]
    },
    {
      "cell_type": "code",
      "execution_count": null,
      "metadata": {
        "colab": {
          "base_uri": "https://localhost:8080/"
        },
        "id": "PzHykEmpUsQW",
        "outputId": "59f4f3d1-6ce2-47e7-c454-90b4fae2e12e"
      },
      "outputs": [
        {
          "name": "stdout",
          "output_type": "stream",
          "text": [
            "AUC score : 0.7238453979692107\n",
            "              precision    recall  f1-score   support\n",
            "\n",
            "           0       0.50      0.02      0.04      3372\n",
            "           1       0.64      0.67      0.65     10712\n",
            "           2       0.78      0.91      0.84     16446\n",
            "\n",
            "    accuracy                           0.72     30530\n",
            "   macro avg       0.64      0.53      0.51     30530\n",
            "weighted avg       0.70      0.72      0.68     30530\n",
            "\n"
          ]
        }
      ],
      "source": [
        "from xgboost import XGBClassifier\n",
        "\n",
        "xgb1 = XGBClassifier(learning_rate = 0.01, gamma = 2)\n",
        "\n",
        "xgb1.fit(X_train, y_train)\n",
        "\n",
        "from sklearn.metrics import roc_auc_score, classification_report\n",
        "\n",
        "y_pred = xgb1.predict(X_test)\n",
        "\n",
        "print('AUC score :', accuracy_score(y_test, y_pred))\n",
        "\n",
        "print(classification_report(y_test, y_pred))"
      ]
    },
    {
      "cell_type": "code",
      "execution_count": null,
      "metadata": {
        "colab": {
          "base_uri": "https://localhost:8080/"
        },
        "id": "0ziJ3KRMUvxi",
        "outputId": "4db0a40d-3766-4a7b-e671-9600549a9247"
      },
      "outputs": [
        {
          "name": "stdout",
          "output_type": "stream",
          "text": [
            "Looking in indexes: https://pypi.org/simple, https://us-python.pkg.dev/colab-wheels/public/simple/\n",
            "Collecting catboost\n",
            "  Downloading catboost-1.1.1-cp38-none-manylinux1_x86_64.whl (76.6 MB)\n",
            "\u001b[2K     \u001b[90m━━━━━━━━━━━━━━━━━━━━━━━━━━━━━━━━━━━━━━━━\u001b[0m \u001b[32m76.6/76.6 MB\u001b[0m \u001b[31m11.0 MB/s\u001b[0m eta \u001b[36m0:00:00\u001b[0m\n",
            "\u001b[?25hRequirement already satisfied: plotly in /usr/local/lib/python3.8/dist-packages (from catboost) (5.5.0)\n",
            "Requirement already satisfied: graphviz in /usr/local/lib/python3.8/dist-packages (from catboost) (0.10.1)\n",
            "Requirement already satisfied: matplotlib in /usr/local/lib/python3.8/dist-packages (from catboost) (3.5.3)\n",
            "Requirement already satisfied: six in /usr/local/lib/python3.8/dist-packages (from catboost) (1.15.0)\n",
            "Requirement already satisfied: pandas>=0.24.0 in /usr/local/lib/python3.8/dist-packages (from catboost) (1.3.5)\n",
            "Requirement already satisfied: scipy in /usr/local/lib/python3.8/dist-packages (from catboost) (1.7.3)\n",
            "Requirement already satisfied: numpy>=1.16.0 in /usr/local/lib/python3.8/dist-packages (from catboost) (1.22.4)\n",
            "Requirement already satisfied: pytz>=2017.3 in /usr/local/lib/python3.8/dist-packages (from pandas>=0.24.0->catboost) (2022.7.1)\n",
            "Requirement already satisfied: python-dateutil>=2.7.3 in /usr/local/lib/python3.8/dist-packages (from pandas>=0.24.0->catboost) (2.8.2)\n",
            "Requirement already satisfied: pyparsing>=2.2.1 in /usr/local/lib/python3.8/dist-packages (from matplotlib->catboost) (3.0.9)\n",
            "Requirement already satisfied: packaging>=20.0 in /usr/local/lib/python3.8/dist-packages (from matplotlib->catboost) (23.0)\n",
            "Requirement already satisfied: fonttools>=4.22.0 in /usr/local/lib/python3.8/dist-packages (from matplotlib->catboost) (4.38.0)\n",
            "Requirement already satisfied: kiwisolver>=1.0.1 in /usr/local/lib/python3.8/dist-packages (from matplotlib->catboost) (1.4.4)\n",
            "Requirement already satisfied: cycler>=0.10 in /usr/local/lib/python3.8/dist-packages (from matplotlib->catboost) (0.11.0)\n",
            "Requirement already satisfied: pillow>=6.2.0 in /usr/local/lib/python3.8/dist-packages (from matplotlib->catboost) (7.1.2)\n",
            "Requirement already satisfied: tenacity>=6.2.0 in /usr/local/lib/python3.8/dist-packages (from plotly->catboost) (8.2.1)\n",
            "Installing collected packages: catboost\n",
            "Successfully installed catboost-1.1.1\n"
          ]
        }
      ],
      "source": [
        "pip install catboost"
      ]
    },
    {
      "cell_type": "markdown",
      "metadata": {
        "id": "KliHJ2W0ixFi"
      },
      "source": [
        "#CatBoost\n",
        "CatBoost is an algorithm for gradient boosting on decision trees."
      ]
    },
    {
      "cell_type": "code",
      "execution_count": null,
      "metadata": {
        "colab": {
          "base_uri": "https://localhost:8080/"
        },
        "id": "GDQZfhnAUz4L",
        "outputId": "6534bb20-b4b8-42b8-fc9e-10ed225bd49a"
      },
      "outputs": [
        {
          "name": "stdout",
          "output_type": "stream",
          "text": [
            "Learning rate set to 0.098358\n",
            "0:\tlearn: 1.0299543\ttotal: 325ms\tremaining: 5m 24s\n",
            "1:\tlearn: 0.9753296\ttotal: 481ms\tremaining: 4m\n",
            "2:\tlearn: 0.9332918\ttotal: 666ms\tremaining: 3m 41s\n",
            "3:\tlearn: 0.8980980\ttotal: 850ms\tremaining: 3m 31s\n",
            "4:\tlearn: 0.8681947\ttotal: 1.02s\tremaining: 3m 23s\n",
            "5:\tlearn: 0.8448641\ttotal: 1.16s\tremaining: 3m 12s\n",
            "6:\tlearn: 0.8229091\ttotal: 1.36s\tremaining: 3m 13s\n",
            "7:\tlearn: 0.8056397\ttotal: 1.52s\tremaining: 3m 8s\n",
            "8:\tlearn: 0.7910360\ttotal: 1.7s\tremaining: 3m 7s\n",
            "9:\tlearn: 0.7777673\ttotal: 1.83s\tremaining: 3m 1s\n",
            "10:\tlearn: 0.7656540\ttotal: 1.99s\tremaining: 2m 59s\n",
            "11:\tlearn: 0.7555849\ttotal: 2.34s\tremaining: 3m 12s\n",
            "12:\tlearn: 0.7471788\ttotal: 2.59s\tremaining: 3m 16s\n",
            "13:\tlearn: 0.7395445\ttotal: 2.77s\tremaining: 3m 14s\n",
            "14:\tlearn: 0.7343296\ttotal: 2.91s\tremaining: 3m 11s\n",
            "15:\tlearn: 0.7285438\ttotal: 3.23s\tremaining: 3m 18s\n",
            "16:\tlearn: 0.7233678\ttotal: 3.33s\tremaining: 3m 12s\n",
            "17:\tlearn: 0.7191128\ttotal: 3.45s\tremaining: 3m 8s\n",
            "18:\tlearn: 0.7151989\ttotal: 3.57s\tremaining: 3m 4s\n",
            "19:\tlearn: 0.7112949\ttotal: 3.67s\tremaining: 2m 59s\n",
            "20:\tlearn: 0.7082013\ttotal: 3.78s\tremaining: 2m 56s\n",
            "21:\tlearn: 0.7053344\ttotal: 4.02s\tremaining: 2m 58s\n",
            "22:\tlearn: 0.7030701\ttotal: 4.12s\tremaining: 2m 55s\n",
            "23:\tlearn: 0.7000743\ttotal: 4.24s\tremaining: 2m 52s\n",
            "24:\tlearn: 0.6981103\ttotal: 4.34s\tremaining: 2m 49s\n",
            "25:\tlearn: 0.6963672\ttotal: 4.42s\tremaining: 2m 45s\n",
            "26:\tlearn: 0.6941428\ttotal: 4.55s\tremaining: 2m 44s\n",
            "27:\tlearn: 0.6930326\ttotal: 4.64s\tremaining: 2m 41s\n",
            "28:\tlearn: 0.6915982\ttotal: 4.73s\tremaining: 2m 38s\n",
            "29:\tlearn: 0.6898032\ttotal: 4.86s\tremaining: 2m 37s\n",
            "30:\tlearn: 0.6884729\ttotal: 4.94s\tremaining: 2m 34s\n",
            "31:\tlearn: 0.6869943\ttotal: 5.03s\tremaining: 2m 32s\n",
            "32:\tlearn: 0.6856137\ttotal: 5.14s\tremaining: 2m 30s\n",
            "33:\tlearn: 0.6847005\ttotal: 5.24s\tremaining: 2m 28s\n",
            "34:\tlearn: 0.6837250\ttotal: 5.33s\tremaining: 2m 27s\n",
            "35:\tlearn: 0.6819862\ttotal: 5.46s\tremaining: 2m 26s\n",
            "36:\tlearn: 0.6810174\ttotal: 5.56s\tremaining: 2m 24s\n",
            "37:\tlearn: 0.6805832\ttotal: 5.65s\tremaining: 2m 22s\n",
            "38:\tlearn: 0.6797127\ttotal: 5.77s\tremaining: 2m 22s\n",
            "39:\tlearn: 0.6782580\ttotal: 5.88s\tremaining: 2m 21s\n",
            "40:\tlearn: 0.6777007\ttotal: 5.95s\tremaining: 2m 19s\n",
            "41:\tlearn: 0.6768848\ttotal: 6.04s\tremaining: 2m 17s\n",
            "42:\tlearn: 0.6759928\ttotal: 6.15s\tremaining: 2m 16s\n",
            "43:\tlearn: 0.6754082\ttotal: 6.23s\tremaining: 2m 15s\n",
            "44:\tlearn: 0.6747185\ttotal: 6.34s\tremaining: 2m 14s\n",
            "45:\tlearn: 0.6743763\ttotal: 6.42s\tremaining: 2m 13s\n",
            "46:\tlearn: 0.6740590\ttotal: 6.5s\tremaining: 2m 11s\n",
            "47:\tlearn: 0.6737001\ttotal: 6.62s\tremaining: 2m 11s\n",
            "48:\tlearn: 0.6730680\ttotal: 6.72s\tremaining: 2m 10s\n",
            "49:\tlearn: 0.6726673\ttotal: 6.91s\tremaining: 2m 11s\n",
            "50:\tlearn: 0.6720873\ttotal: 7.06s\tremaining: 2m 11s\n",
            "51:\tlearn: 0.6717716\ttotal: 7.19s\tremaining: 2m 11s\n",
            "52:\tlearn: 0.6711883\ttotal: 7.29s\tremaining: 2m 10s\n",
            "53:\tlearn: 0.6709999\ttotal: 7.38s\tremaining: 2m 9s\n",
            "54:\tlearn: 0.6705577\ttotal: 7.53s\tremaining: 2m 9s\n",
            "55:\tlearn: 0.6701944\ttotal: 7.69s\tremaining: 2m 9s\n",
            "56:\tlearn: 0.6698058\ttotal: 7.82s\tremaining: 2m 9s\n",
            "57:\tlearn: 0.6694859\ttotal: 7.92s\tremaining: 2m 8s\n",
            "58:\tlearn: 0.6691442\ttotal: 8.03s\tremaining: 2m 8s\n",
            "59:\tlearn: 0.6690014\ttotal: 8.18s\tremaining: 2m 8s\n",
            "60:\tlearn: 0.6681410\ttotal: 8.35s\tremaining: 2m 8s\n",
            "61:\tlearn: 0.6677440\ttotal: 8.44s\tremaining: 2m 7s\n",
            "62:\tlearn: 0.6674630\ttotal: 8.51s\tremaining: 2m 6s\n",
            "63:\tlearn: 0.6667755\ttotal: 8.62s\tremaining: 2m 6s\n",
            "64:\tlearn: 0.6662015\ttotal: 8.72s\tremaining: 2m 5s\n",
            "65:\tlearn: 0.6656426\ttotal: 8.8s\tremaining: 2m 4s\n",
            "66:\tlearn: 0.6654899\ttotal: 8.9s\tremaining: 2m 3s\n",
            "67:\tlearn: 0.6651832\ttotal: 9.01s\tremaining: 2m 3s\n",
            "68:\tlearn: 0.6649542\ttotal: 9.17s\tremaining: 2m 3s\n",
            "69:\tlearn: 0.6642978\ttotal: 9.33s\tremaining: 2m 4s\n",
            "70:\tlearn: 0.6639943\ttotal: 9.45s\tremaining: 2m 3s\n",
            "71:\tlearn: 0.6634806\ttotal: 9.56s\tremaining: 2m 3s\n",
            "72:\tlearn: 0.6632824\ttotal: 9.66s\tremaining: 2m 2s\n",
            "73:\tlearn: 0.6630278\ttotal: 9.79s\tremaining: 2m 2s\n",
            "74:\tlearn: 0.6624666\ttotal: 9.96s\tremaining: 2m 2s\n",
            "75:\tlearn: 0.6622689\ttotal: 10.1s\tremaining: 2m 3s\n",
            "76:\tlearn: 0.6621064\ttotal: 10.3s\tremaining: 2m 2s\n",
            "77:\tlearn: 0.6617137\ttotal: 10.4s\tremaining: 2m 2s\n",
            "78:\tlearn: 0.6613364\ttotal: 10.5s\tremaining: 2m 2s\n",
            "79:\tlearn: 0.6611713\ttotal: 10.6s\tremaining: 2m 1s\n",
            "80:\tlearn: 0.6609535\ttotal: 10.8s\tremaining: 2m 2s\n",
            "81:\tlearn: 0.6606849\ttotal: 10.9s\tremaining: 2m 1s\n",
            "82:\tlearn: 0.6603892\ttotal: 11s\tremaining: 2m 1s\n",
            "83:\tlearn: 0.6601525\ttotal: 11.1s\tremaining: 2m\n",
            "84:\tlearn: 0.6599290\ttotal: 11.2s\tremaining: 2m\n",
            "85:\tlearn: 0.6595085\ttotal: 11.3s\tremaining: 1m 59s\n",
            "86:\tlearn: 0.6591292\ttotal: 11.4s\tremaining: 1m 59s\n",
            "87:\tlearn: 0.6585591\ttotal: 11.5s\tremaining: 1m 59s\n",
            "88:\tlearn: 0.6581789\ttotal: 11.6s\tremaining: 1m 59s\n",
            "89:\tlearn: 0.6579675\ttotal: 11.8s\tremaining: 1m 59s\n",
            "90:\tlearn: 0.6576659\ttotal: 12s\tremaining: 1m 59s\n",
            "91:\tlearn: 0.6574531\ttotal: 12.1s\tremaining: 1m 59s\n",
            "92:\tlearn: 0.6572389\ttotal: 12.3s\tremaining: 1m 59s\n",
            "93:\tlearn: 0.6569430\ttotal: 12.4s\tremaining: 1m 59s\n",
            "94:\tlearn: 0.6567714\ttotal: 12.6s\tremaining: 2m\n",
            "95:\tlearn: 0.6566501\ttotal: 12.8s\tremaining: 2m\n",
            "96:\tlearn: 0.6562787\ttotal: 12.9s\tremaining: 2m\n",
            "97:\tlearn: 0.6561891\ttotal: 13s\tremaining: 1m 59s\n",
            "98:\tlearn: 0.6559725\ttotal: 13.1s\tremaining: 1m 59s\n",
            "99:\tlearn: 0.6558490\ttotal: 13.3s\tremaining: 1m 59s\n",
            "100:\tlearn: 0.6556574\ttotal: 13.4s\tremaining: 1m 59s\n",
            "101:\tlearn: 0.6555323\ttotal: 13.5s\tremaining: 1m 58s\n",
            "102:\tlearn: 0.6554235\ttotal: 13.6s\tremaining: 1m 58s\n",
            "103:\tlearn: 0.6552731\ttotal: 13.6s\tremaining: 1m 57s\n",
            "104:\tlearn: 0.6551372\ttotal: 13.7s\tremaining: 1m 57s\n",
            "105:\tlearn: 0.6550258\ttotal: 13.8s\tremaining: 1m 56s\n",
            "106:\tlearn: 0.6543046\ttotal: 14s\tremaining: 1m 56s\n",
            "107:\tlearn: 0.6538800\ttotal: 14.1s\tremaining: 1m 56s\n",
            "108:\tlearn: 0.6536160\ttotal: 14.2s\tremaining: 1m 55s\n",
            "109:\tlearn: 0.6533418\ttotal: 14.3s\tremaining: 1m 55s\n",
            "110:\tlearn: 0.6532165\ttotal: 14.4s\tremaining: 1m 55s\n",
            "111:\tlearn: 0.6529921\ttotal: 14.5s\tremaining: 1m 55s\n",
            "112:\tlearn: 0.6528783\ttotal: 14.7s\tremaining: 1m 55s\n",
            "113:\tlearn: 0.6525769\ttotal: 14.9s\tremaining: 1m 55s\n",
            "114:\tlearn: 0.6524202\ttotal: 15s\tremaining: 1m 55s\n",
            "115:\tlearn: 0.6522342\ttotal: 15.1s\tremaining: 1m 55s\n",
            "116:\tlearn: 0.6520692\ttotal: 15.3s\tremaining: 1m 55s\n",
            "117:\tlearn: 0.6516199\ttotal: 15.5s\tremaining: 1m 55s\n",
            "118:\tlearn: 0.6513042\ttotal: 15.6s\tremaining: 1m 55s\n",
            "119:\tlearn: 0.6510562\ttotal: 15.7s\tremaining: 1m 55s\n",
            "120:\tlearn: 0.6508122\ttotal: 15.9s\tremaining: 1m 55s\n",
            "121:\tlearn: 0.6506423\ttotal: 16s\tremaining: 1m 55s\n",
            "122:\tlearn: 0.6503956\ttotal: 16.1s\tremaining: 1m 55s\n",
            "123:\tlearn: 0.6500369\ttotal: 16.2s\tremaining: 1m 54s\n",
            "124:\tlearn: 0.6495588\ttotal: 16.4s\tremaining: 1m 54s\n",
            "125:\tlearn: 0.6493925\ttotal: 16.5s\tremaining: 1m 54s\n",
            "126:\tlearn: 0.6492106\ttotal: 16.6s\tremaining: 1m 54s\n",
            "127:\tlearn: 0.6489711\ttotal: 16.8s\tremaining: 1m 54s\n",
            "128:\tlearn: 0.6484847\ttotal: 17s\tremaining: 1m 54s\n",
            "129:\tlearn: 0.6481280\ttotal: 17.1s\tremaining: 1m 54s\n",
            "130:\tlearn: 0.6479007\ttotal: 17.3s\tremaining: 1m 54s\n",
            "131:\tlearn: 0.6477516\ttotal: 17.4s\tremaining: 1m 54s\n",
            "132:\tlearn: 0.6475283\ttotal: 17.6s\tremaining: 1m 54s\n",
            "133:\tlearn: 0.6470915\ttotal: 17.8s\tremaining: 1m 54s\n",
            "134:\tlearn: 0.6470274\ttotal: 17.9s\tremaining: 1m 54s\n",
            "135:\tlearn: 0.6468511\ttotal: 18s\tremaining: 1m 54s\n",
            "136:\tlearn: 0.6465927\ttotal: 18.1s\tremaining: 1m 54s\n",
            "137:\tlearn: 0.6462873\ttotal: 18.2s\tremaining: 1m 53s\n",
            "138:\tlearn: 0.6461316\ttotal: 18.4s\tremaining: 1m 53s\n",
            "139:\tlearn: 0.6460429\ttotal: 18.5s\tremaining: 1m 53s\n",
            "140:\tlearn: 0.6457274\ttotal: 18.6s\tremaining: 1m 53s\n",
            "141:\tlearn: 0.6456036\ttotal: 18.8s\tremaining: 1m 53s\n",
            "142:\tlearn: 0.6454389\ttotal: 18.9s\tremaining: 1m 53s\n",
            "143:\tlearn: 0.6452457\ttotal: 19s\tremaining: 1m 53s\n",
            "144:\tlearn: 0.6450892\ttotal: 19.2s\tremaining: 1m 52s\n",
            "145:\tlearn: 0.6449424\ttotal: 19.3s\tremaining: 1m 52s\n",
            "146:\tlearn: 0.6446788\ttotal: 19.4s\tremaining: 1m 52s\n",
            "147:\tlearn: 0.6444415\ttotal: 19.6s\tremaining: 1m 52s\n",
            "148:\tlearn: 0.6442655\ttotal: 19.7s\tremaining: 1m 52s\n",
            "149:\tlearn: 0.6441453\ttotal: 19.8s\tremaining: 1m 52s\n",
            "150:\tlearn: 0.6438721\ttotal: 20s\tremaining: 1m 52s\n",
            "151:\tlearn: 0.6438090\ttotal: 20.1s\tremaining: 1m 52s\n",
            "152:\tlearn: 0.6433878\ttotal: 20.2s\tremaining: 1m 51s\n",
            "153:\tlearn: 0.6431179\ttotal: 20.4s\tremaining: 1m 51s\n",
            "154:\tlearn: 0.6427501\ttotal: 20.5s\tremaining: 1m 51s\n",
            "155:\tlearn: 0.6425949\ttotal: 20.6s\tremaining: 1m 51s\n",
            "156:\tlearn: 0.6424559\ttotal: 20.7s\tremaining: 1m 51s\n",
            "157:\tlearn: 0.6421968\ttotal: 20.8s\tremaining: 1m 50s\n",
            "158:\tlearn: 0.6419447\ttotal: 20.9s\tremaining: 1m 50s\n"
          ]
        },
        {
          "name": "stdout",
          "output_type": "stream",
          "text": [
            "159:\tlearn: 0.6417413\ttotal: 21s\tremaining: 1m 50s\n",
            "160:\tlearn: 0.6416306\ttotal: 21.1s\tremaining: 1m 49s\n",
            "161:\tlearn: 0.6414929\ttotal: 21.2s\tremaining: 1m 49s\n",
            "162:\tlearn: 0.6413343\ttotal: 21.3s\tremaining: 1m 49s\n",
            "163:\tlearn: 0.6410904\ttotal: 21.4s\tremaining: 1m 49s\n",
            "164:\tlearn: 0.6407829\ttotal: 21.5s\tremaining: 1m 48s\n",
            "165:\tlearn: 0.6406425\ttotal: 21.6s\tremaining: 1m 48s\n",
            "166:\tlearn: 0.6405219\ttotal: 21.7s\tremaining: 1m 48s\n",
            "167:\tlearn: 0.6403921\ttotal: 21.8s\tremaining: 1m 47s\n",
            "168:\tlearn: 0.6402756\ttotal: 21.9s\tremaining: 1m 47s\n",
            "169:\tlearn: 0.6402136\ttotal: 21.9s\tremaining: 1m 47s\n",
            "170:\tlearn: 0.6400504\ttotal: 22.1s\tremaining: 1m 46s\n",
            "171:\tlearn: 0.6398133\ttotal: 22.1s\tremaining: 1m 46s\n",
            "172:\tlearn: 0.6396459\ttotal: 22.2s\tremaining: 1m 46s\n",
            "173:\tlearn: 0.6394659\ttotal: 22.3s\tremaining: 1m 46s\n",
            "174:\tlearn: 0.6393578\ttotal: 22.5s\tremaining: 1m 45s\n",
            "175:\tlearn: 0.6392092\ttotal: 22.6s\tremaining: 1m 45s\n",
            "176:\tlearn: 0.6391088\ttotal: 22.8s\tremaining: 1m 45s\n",
            "177:\tlearn: 0.6389603\ttotal: 22.9s\tremaining: 1m 45s\n",
            "178:\tlearn: 0.6386757\ttotal: 23s\tremaining: 1m 45s\n",
            "179:\tlearn: 0.6384897\ttotal: 23.1s\tremaining: 1m 45s\n",
            "180:\tlearn: 0.6383023\ttotal: 23.2s\tremaining: 1m 44s\n",
            "181:\tlearn: 0.6382293\ttotal: 23.3s\tremaining: 1m 44s\n",
            "182:\tlearn: 0.6380640\ttotal: 23.4s\tremaining: 1m 44s\n",
            "183:\tlearn: 0.6379071\ttotal: 23.5s\tremaining: 1m 44s\n",
            "184:\tlearn: 0.6376871\ttotal: 23.6s\tremaining: 1m 43s\n",
            "185:\tlearn: 0.6372822\ttotal: 23.7s\tremaining: 1m 43s\n",
            "186:\tlearn: 0.6371458\ttotal: 23.8s\tremaining: 1m 43s\n",
            "187:\tlearn: 0.6368740\ttotal: 23.9s\tremaining: 1m 43s\n",
            "188:\tlearn: 0.6368197\ttotal: 23.9s\tremaining: 1m 42s\n",
            "189:\tlearn: 0.6366597\ttotal: 24s\tremaining: 1m 42s\n",
            "190:\tlearn: 0.6365580\ttotal: 24.2s\tremaining: 1m 42s\n",
            "191:\tlearn: 0.6363693\ttotal: 24.4s\tremaining: 1m 42s\n",
            "192:\tlearn: 0.6362723\ttotal: 24.6s\tremaining: 1m 42s\n",
            "193:\tlearn: 0.6361999\ttotal: 24.7s\tremaining: 1m 42s\n",
            "194:\tlearn: 0.6360696\ttotal: 24.9s\tremaining: 1m 42s\n",
            "195:\tlearn: 0.6359183\ttotal: 25.1s\tremaining: 1m 42s\n",
            "196:\tlearn: 0.6358407\ttotal: 25.3s\tremaining: 1m 42s\n",
            "197:\tlearn: 0.6357146\ttotal: 25.4s\tremaining: 1m 42s\n",
            "198:\tlearn: 0.6356256\ttotal: 25.5s\tremaining: 1m 42s\n",
            "199:\tlearn: 0.6355262\ttotal: 25.6s\tremaining: 1m 42s\n",
            "200:\tlearn: 0.6354423\ttotal: 25.7s\tremaining: 1m 42s\n",
            "201:\tlearn: 0.6353459\ttotal: 25.8s\tremaining: 1m 42s\n",
            "202:\tlearn: 0.6351770\ttotal: 26s\tremaining: 1m 41s\n",
            "203:\tlearn: 0.6351030\ttotal: 26.1s\tremaining: 1m 41s\n",
            "204:\tlearn: 0.6349643\ttotal: 26.2s\tremaining: 1m 41s\n",
            "205:\tlearn: 0.6348885\ttotal: 26.3s\tremaining: 1m 41s\n",
            "206:\tlearn: 0.6345115\ttotal: 26.4s\tremaining: 1m 41s\n",
            "207:\tlearn: 0.6343126\ttotal: 26.5s\tremaining: 1m 41s\n",
            "208:\tlearn: 0.6341942\ttotal: 26.6s\tremaining: 1m 40s\n",
            "209:\tlearn: 0.6341437\ttotal: 26.7s\tremaining: 1m 40s\n",
            "210:\tlearn: 0.6340069\ttotal: 26.8s\tremaining: 1m 40s\n",
            "211:\tlearn: 0.6338610\ttotal: 27s\tremaining: 1m 40s\n",
            "212:\tlearn: 0.6337243\ttotal: 27.1s\tremaining: 1m 40s\n",
            "213:\tlearn: 0.6335700\ttotal: 27.2s\tremaining: 1m 39s\n",
            "214:\tlearn: 0.6333929\ttotal: 27.4s\tremaining: 1m 39s\n",
            "215:\tlearn: 0.6333010\ttotal: 27.5s\tremaining: 1m 39s\n",
            "216:\tlearn: 0.6329928\ttotal: 27.6s\tremaining: 1m 39s\n",
            "217:\tlearn: 0.6328653\ttotal: 27.7s\tremaining: 1m 39s\n",
            "218:\tlearn: 0.6327515\ttotal: 27.8s\tremaining: 1m 39s\n",
            "219:\tlearn: 0.6326866\ttotal: 27.9s\tremaining: 1m 38s\n",
            "220:\tlearn: 0.6325848\ttotal: 28s\tremaining: 1m 38s\n",
            "221:\tlearn: 0.6324925\ttotal: 28.1s\tremaining: 1m 38s\n",
            "222:\tlearn: 0.6323562\ttotal: 28.2s\tremaining: 1m 38s\n",
            "223:\tlearn: 0.6321856\ttotal: 28.3s\tremaining: 1m 38s\n",
            "224:\tlearn: 0.6321046\ttotal: 28.4s\tremaining: 1m 37s\n",
            "225:\tlearn: 0.6320394\ttotal: 28.5s\tremaining: 1m 37s\n",
            "226:\tlearn: 0.6318961\ttotal: 28.6s\tremaining: 1m 37s\n",
            "227:\tlearn: 0.6318249\ttotal: 28.7s\tremaining: 1m 37s\n",
            "228:\tlearn: 0.6316889\ttotal: 28.8s\tremaining: 1m 36s\n",
            "229:\tlearn: 0.6316121\ttotal: 28.9s\tremaining: 1m 36s\n",
            "230:\tlearn: 0.6314866\ttotal: 29s\tremaining: 1m 36s\n",
            "231:\tlearn: 0.6314193\ttotal: 29.1s\tremaining: 1m 36s\n",
            "232:\tlearn: 0.6313715\ttotal: 29.2s\tremaining: 1m 36s\n",
            "233:\tlearn: 0.6312415\ttotal: 29.2s\tremaining: 1m 35s\n",
            "234:\tlearn: 0.6311687\ttotal: 29.3s\tremaining: 1m 35s\n",
            "235:\tlearn: 0.6310844\ttotal: 29.5s\tremaining: 1m 35s\n",
            "236:\tlearn: 0.6309602\ttotal: 29.6s\tremaining: 1m 35s\n",
            "237:\tlearn: 0.6308349\ttotal: 29.6s\tremaining: 1m 34s\n",
            "238:\tlearn: 0.6307566\ttotal: 29.7s\tremaining: 1m 34s\n",
            "239:\tlearn: 0.6306850\ttotal: 29.8s\tremaining: 1m 34s\n",
            "240:\tlearn: 0.6305933\ttotal: 29.9s\tremaining: 1m 34s\n",
            "241:\tlearn: 0.6305307\ttotal: 30s\tremaining: 1m 34s\n",
            "242:\tlearn: 0.6304283\ttotal: 30.1s\tremaining: 1m 33s\n",
            "243:\tlearn: 0.6303375\ttotal: 30.2s\tremaining: 1m 33s\n",
            "244:\tlearn: 0.6301640\ttotal: 30.3s\tremaining: 1m 33s\n",
            "245:\tlearn: 0.6300122\ttotal: 30.4s\tremaining: 1m 33s\n",
            "246:\tlearn: 0.6299194\ttotal: 30.5s\tremaining: 1m 33s\n",
            "247:\tlearn: 0.6297530\ttotal: 30.7s\tremaining: 1m 32s\n",
            "248:\tlearn: 0.6296646\ttotal: 30.8s\tremaining: 1m 32s\n",
            "249:\tlearn: 0.6295801\ttotal: 30.9s\tremaining: 1m 32s\n",
            "250:\tlearn: 0.6294964\ttotal: 31s\tremaining: 1m 32s\n",
            "251:\tlearn: 0.6294399\ttotal: 31.1s\tremaining: 1m 32s\n",
            "252:\tlearn: 0.6293533\ttotal: 31.3s\tremaining: 1m 32s\n",
            "253:\tlearn: 0.6292339\ttotal: 31.4s\tremaining: 1m 32s\n",
            "254:\tlearn: 0.6290117\ttotal: 31.5s\tremaining: 1m 31s\n",
            "255:\tlearn: 0.6289464\ttotal: 31.5s\tremaining: 1m 31s\n",
            "256:\tlearn: 0.6287717\ttotal: 31.6s\tremaining: 1m 31s\n",
            "257:\tlearn: 0.6286957\ttotal: 31.8s\tremaining: 1m 31s\n",
            "258:\tlearn: 0.6285793\ttotal: 32.1s\tremaining: 1m 31s\n",
            "259:\tlearn: 0.6285054\ttotal: 32.1s\tremaining: 1m 31s\n",
            "260:\tlearn: 0.6284473\ttotal: 32.2s\tremaining: 1m 31s\n",
            "261:\tlearn: 0.6283224\ttotal: 32.4s\tremaining: 1m 31s\n",
            "262:\tlearn: 0.6281290\ttotal: 32.7s\tremaining: 1m 31s\n",
            "263:\tlearn: 0.6280486\ttotal: 32.8s\tremaining: 1m 31s\n",
            "264:\tlearn: 0.6279550\ttotal: 32.9s\tremaining: 1m 31s\n",
            "265:\tlearn: 0.6278567\ttotal: 33s\tremaining: 1m 31s\n",
            "266:\tlearn: 0.6277439\ttotal: 33.1s\tremaining: 1m 30s\n",
            "267:\tlearn: 0.6275838\ttotal: 33.2s\tremaining: 1m 30s\n",
            "268:\tlearn: 0.6275560\ttotal: 33.3s\tremaining: 1m 30s\n",
            "269:\tlearn: 0.6273176\ttotal: 33.4s\tremaining: 1m 30s\n",
            "270:\tlearn: 0.6272718\ttotal: 33.5s\tremaining: 1m 30s\n",
            "271:\tlearn: 0.6271612\ttotal: 33.6s\tremaining: 1m 29s\n",
            "272:\tlearn: 0.6270547\ttotal: 33.7s\tremaining: 1m 29s\n",
            "273:\tlearn: 0.6269778\ttotal: 33.8s\tremaining: 1m 29s\n",
            "274:\tlearn: 0.6268762\ttotal: 33.9s\tremaining: 1m 29s\n",
            "275:\tlearn: 0.6267565\ttotal: 34s\tremaining: 1m 29s\n",
            "276:\tlearn: 0.6266667\ttotal: 34s\tremaining: 1m 28s\n",
            "277:\tlearn: 0.6264920\ttotal: 34.2s\tremaining: 1m 28s\n",
            "278:\tlearn: 0.6264175\ttotal: 34.3s\tremaining: 1m 28s\n",
            "279:\tlearn: 0.6263237\ttotal: 34.4s\tremaining: 1m 28s\n",
            "280:\tlearn: 0.6262427\ttotal: 34.5s\tremaining: 1m 28s\n",
            "281:\tlearn: 0.6260588\ttotal: 34.6s\tremaining: 1m 28s\n",
            "282:\tlearn: 0.6259985\ttotal: 34.7s\tremaining: 1m 27s\n",
            "283:\tlearn: 0.6258877\ttotal: 34.8s\tremaining: 1m 27s\n",
            "284:\tlearn: 0.6258238\ttotal: 34.9s\tremaining: 1m 27s\n",
            "285:\tlearn: 0.6257304\ttotal: 35s\tremaining: 1m 27s\n",
            "286:\tlearn: 0.6256310\ttotal: 35.1s\tremaining: 1m 27s\n",
            "287:\tlearn: 0.6254656\ttotal: 35.2s\tremaining: 1m 27s\n",
            "288:\tlearn: 0.6254158\ttotal: 35.3s\tremaining: 1m 26s\n",
            "289:\tlearn: 0.6253089\ttotal: 35.4s\tremaining: 1m 26s\n",
            "290:\tlearn: 0.6252602\ttotal: 35.5s\tremaining: 1m 26s\n",
            "291:\tlearn: 0.6251575\ttotal: 35.6s\tremaining: 1m 26s\n",
            "292:\tlearn: 0.6250568\ttotal: 35.7s\tremaining: 1m 26s\n",
            "293:\tlearn: 0.6249468\ttotal: 35.9s\tremaining: 1m 26s\n",
            "294:\tlearn: 0.6248291\ttotal: 36s\tremaining: 1m 26s\n",
            "295:\tlearn: 0.6247146\ttotal: 36.1s\tremaining: 1m 25s\n",
            "296:\tlearn: 0.6246321\ttotal: 36.2s\tremaining: 1m 25s\n",
            "297:\tlearn: 0.6245651\ttotal: 36.4s\tremaining: 1m 25s\n",
            "298:\tlearn: 0.6243942\ttotal: 36.5s\tremaining: 1m 25s\n",
            "299:\tlearn: 0.6243472\ttotal: 36.7s\tremaining: 1m 25s\n",
            "300:\tlearn: 0.6242163\ttotal: 36.8s\tremaining: 1m 25s\n",
            "301:\tlearn: 0.6241344\ttotal: 36.9s\tremaining: 1m 25s\n",
            "302:\tlearn: 0.6241093\ttotal: 37s\tremaining: 1m 25s\n",
            "303:\tlearn: 0.6239873\ttotal: 37.2s\tremaining: 1m 25s\n",
            "304:\tlearn: 0.6238899\ttotal: 37.3s\tremaining: 1m 24s\n",
            "305:\tlearn: 0.6237772\ttotal: 37.4s\tremaining: 1m 24s\n",
            "306:\tlearn: 0.6236992\ttotal: 37.5s\tremaining: 1m 24s\n",
            "307:\tlearn: 0.6235682\ttotal: 37.6s\tremaining: 1m 24s\n",
            "308:\tlearn: 0.6234167\ttotal: 37.8s\tremaining: 1m 24s\n",
            "309:\tlearn: 0.6232893\ttotal: 37.9s\tremaining: 1m 24s\n",
            "310:\tlearn: 0.6231938\ttotal: 38s\tremaining: 1m 24s\n",
            "311:\tlearn: 0.6231475\ttotal: 38s\tremaining: 1m 23s\n",
            "312:\tlearn: 0.6230851\ttotal: 38.1s\tremaining: 1m 23s\n",
            "313:\tlearn: 0.6230149\ttotal: 38.2s\tremaining: 1m 23s\n",
            "314:\tlearn: 0.6229368\ttotal: 38.3s\tremaining: 1m 23s\n"
          ]
        },
        {
          "name": "stdout",
          "output_type": "stream",
          "text": [
            "315:\tlearn: 0.6228828\ttotal: 38.4s\tremaining: 1m 23s\n",
            "316:\tlearn: 0.6227651\ttotal: 38.5s\tremaining: 1m 23s\n",
            "317:\tlearn: 0.6226921\ttotal: 38.7s\tremaining: 1m 22s\n",
            "318:\tlearn: 0.6226100\ttotal: 38.8s\tremaining: 1m 22s\n",
            "319:\tlearn: 0.6225392\ttotal: 38.9s\tremaining: 1m 22s\n",
            "320:\tlearn: 0.6223505\ttotal: 39.1s\tremaining: 1m 22s\n",
            "321:\tlearn: 0.6222507\ttotal: 39.3s\tremaining: 1m 22s\n",
            "322:\tlearn: 0.6221743\ttotal: 39.4s\tremaining: 1m 22s\n",
            "323:\tlearn: 0.6220599\ttotal: 39.5s\tremaining: 1m 22s\n",
            "324:\tlearn: 0.6219670\ttotal: 39.5s\tremaining: 1m 22s\n",
            "325:\tlearn: 0.6218895\ttotal: 39.7s\tremaining: 1m 21s\n",
            "326:\tlearn: 0.6217881\ttotal: 39.8s\tremaining: 1m 21s\n",
            "327:\tlearn: 0.6216854\ttotal: 39.9s\tremaining: 1m 21s\n",
            "328:\tlearn: 0.6215725\ttotal: 40s\tremaining: 1m 21s\n",
            "329:\tlearn: 0.6214974\ttotal: 40.1s\tremaining: 1m 21s\n",
            "330:\tlearn: 0.6214103\ttotal: 40.1s\tremaining: 1m 21s\n",
            "331:\tlearn: 0.6212591\ttotal: 40.2s\tremaining: 1m 20s\n",
            "332:\tlearn: 0.6211832\ttotal: 40.3s\tremaining: 1m 20s\n",
            "333:\tlearn: 0.6211363\ttotal: 40.4s\tremaining: 1m 20s\n",
            "334:\tlearn: 0.6210585\ttotal: 40.5s\tremaining: 1m 20s\n",
            "335:\tlearn: 0.6209692\ttotal: 40.6s\tremaining: 1m 20s\n",
            "336:\tlearn: 0.6208449\ttotal: 40.7s\tremaining: 1m 20s\n",
            "337:\tlearn: 0.6207496\ttotal: 40.8s\tremaining: 1m 19s\n",
            "338:\tlearn: 0.6206518\ttotal: 40.9s\tremaining: 1m 19s\n",
            "339:\tlearn: 0.6205821\ttotal: 41s\tremaining: 1m 19s\n",
            "340:\tlearn: 0.6204970\ttotal: 41.1s\tremaining: 1m 19s\n",
            "341:\tlearn: 0.6204140\ttotal: 41.3s\tremaining: 1m 19s\n",
            "342:\tlearn: 0.6202929\ttotal: 41.5s\tremaining: 1m 19s\n",
            "343:\tlearn: 0.6201979\ttotal: 41.6s\tremaining: 1m 19s\n",
            "344:\tlearn: 0.6201220\ttotal: 41.6s\tremaining: 1m 19s\n",
            "345:\tlearn: 0.6199928\ttotal: 41.7s\tremaining: 1m 18s\n",
            "346:\tlearn: 0.6198973\ttotal: 41.8s\tremaining: 1m 18s\n",
            "347:\tlearn: 0.6196849\ttotal: 41.9s\tremaining: 1m 18s\n",
            "348:\tlearn: 0.6196457\ttotal: 42s\tremaining: 1m 18s\n",
            "349:\tlearn: 0.6195798\ttotal: 42.1s\tremaining: 1m 18s\n",
            "350:\tlearn: 0.6195120\ttotal: 42.2s\tremaining: 1m 17s\n",
            "351:\tlearn: 0.6194226\ttotal: 42.3s\tremaining: 1m 17s\n",
            "352:\tlearn: 0.6192960\ttotal: 42.4s\tremaining: 1m 17s\n",
            "353:\tlearn: 0.6191145\ttotal: 42.6s\tremaining: 1m 17s\n",
            "354:\tlearn: 0.6190522\ttotal: 42.7s\tremaining: 1m 17s\n",
            "355:\tlearn: 0.6189702\ttotal: 42.8s\tremaining: 1m 17s\n",
            "356:\tlearn: 0.6188683\ttotal: 42.9s\tremaining: 1m 17s\n",
            "357:\tlearn: 0.6187821\ttotal: 43s\tremaining: 1m 17s\n",
            "358:\tlearn: 0.6186871\ttotal: 43.1s\tremaining: 1m 16s\n",
            "359:\tlearn: 0.6185857\ttotal: 43.2s\tremaining: 1m 16s\n",
            "360:\tlearn: 0.6185248\ttotal: 43.3s\tremaining: 1m 16s\n",
            "361:\tlearn: 0.6184197\ttotal: 43.4s\tremaining: 1m 16s\n",
            "362:\tlearn: 0.6183144\ttotal: 43.5s\tremaining: 1m 16s\n",
            "363:\tlearn: 0.6182769\ttotal: 43.5s\tremaining: 1m 16s\n",
            "364:\tlearn: 0.6182044\ttotal: 43.6s\tremaining: 1m 15s\n",
            "365:\tlearn: 0.6181270\ttotal: 43.8s\tremaining: 1m 15s\n",
            "366:\tlearn: 0.6179436\ttotal: 44s\tremaining: 1m 15s\n",
            "367:\tlearn: 0.6178302\ttotal: 44.1s\tremaining: 1m 15s\n",
            "368:\tlearn: 0.6177688\ttotal: 44.2s\tremaining: 1m 15s\n",
            "369:\tlearn: 0.6177502\ttotal: 44.3s\tremaining: 1m 15s\n",
            "370:\tlearn: 0.6176914\ttotal: 44.3s\tremaining: 1m 15s\n",
            "371:\tlearn: 0.6176169\ttotal: 44.4s\tremaining: 1m 15s\n",
            "372:\tlearn: 0.6175975\ttotal: 44.5s\tremaining: 1m 14s\n",
            "373:\tlearn: 0.6175613\ttotal: 44.6s\tremaining: 1m 14s\n",
            "374:\tlearn: 0.6174923\ttotal: 44.8s\tremaining: 1m 14s\n",
            "375:\tlearn: 0.6174397\ttotal: 45s\tremaining: 1m 14s\n",
            "376:\tlearn: 0.6174082\ttotal: 45.2s\tremaining: 1m 14s\n",
            "377:\tlearn: 0.6173428\ttotal: 45.3s\tremaining: 1m 14s\n",
            "378:\tlearn: 0.6172056\ttotal: 45.4s\tremaining: 1m 14s\n",
            "379:\tlearn: 0.6171681\ttotal: 45.6s\tremaining: 1m 14s\n",
            "380:\tlearn: 0.6170948\ttotal: 46s\tremaining: 1m 14s\n",
            "381:\tlearn: 0.6170192\ttotal: 46.4s\tremaining: 1m 15s\n",
            "382:\tlearn: 0.6169108\ttotal: 46.5s\tremaining: 1m 14s\n",
            "383:\tlearn: 0.6168403\ttotal: 46.7s\tremaining: 1m 14s\n",
            "384:\tlearn: 0.6167485\ttotal: 46.8s\tremaining: 1m 14s\n",
            "385:\tlearn: 0.6167017\ttotal: 47s\tremaining: 1m 14s\n",
            "386:\tlearn: 0.6166199\ttotal: 47.2s\tremaining: 1m 14s\n",
            "387:\tlearn: 0.6164905\ttotal: 47.4s\tremaining: 1m 14s\n",
            "388:\tlearn: 0.6164335\ttotal: 47.5s\tremaining: 1m 14s\n",
            "389:\tlearn: 0.6163363\ttotal: 47.6s\tremaining: 1m 14s\n",
            "390:\tlearn: 0.6162637\ttotal: 47.8s\tremaining: 1m 14s\n",
            "391:\tlearn: 0.6161463\ttotal: 47.9s\tremaining: 1m 14s\n",
            "392:\tlearn: 0.6159846\ttotal: 48s\tremaining: 1m 14s\n",
            "393:\tlearn: 0.6158904\ttotal: 48.1s\tremaining: 1m 13s\n",
            "394:\tlearn: 0.6157847\ttotal: 48.2s\tremaining: 1m 13s\n",
            "395:\tlearn: 0.6156512\ttotal: 48.3s\tremaining: 1m 13s\n",
            "396:\tlearn: 0.6156092\ttotal: 48.7s\tremaining: 1m 13s\n",
            "397:\tlearn: 0.6155560\ttotal: 48.8s\tremaining: 1m 13s\n",
            "398:\tlearn: 0.6154708\ttotal: 49s\tremaining: 1m 13s\n",
            "399:\tlearn: 0.6153707\ttotal: 49.1s\tremaining: 1m 13s\n",
            "400:\tlearn: 0.6152596\ttotal: 49.2s\tremaining: 1m 13s\n",
            "401:\tlearn: 0.6152088\ttotal: 49.3s\tremaining: 1m 13s\n",
            "402:\tlearn: 0.6151689\ttotal: 49.5s\tremaining: 1m 13s\n",
            "403:\tlearn: 0.6150142\ttotal: 49.6s\tremaining: 1m 13s\n",
            "404:\tlearn: 0.6149577\ttotal: 49.7s\tremaining: 1m 13s\n",
            "405:\tlearn: 0.6148885\ttotal: 49.9s\tremaining: 1m 12s\n",
            "406:\tlearn: 0.6148238\ttotal: 50s\tremaining: 1m 12s\n",
            "407:\tlearn: 0.6147370\ttotal: 50.1s\tremaining: 1m 12s\n",
            "408:\tlearn: 0.6146843\ttotal: 50.1s\tremaining: 1m 12s\n",
            "409:\tlearn: 0.6146482\ttotal: 50.4s\tremaining: 1m 12s\n",
            "410:\tlearn: 0.6145107\ttotal: 50.6s\tremaining: 1m 12s\n",
            "411:\tlearn: 0.6144428\ttotal: 50.7s\tremaining: 1m 12s\n",
            "412:\tlearn: 0.6143730\ttotal: 50.9s\tremaining: 1m 12s\n",
            "413:\tlearn: 0.6142521\ttotal: 51s\tremaining: 1m 12s\n",
            "414:\tlearn: 0.6141823\ttotal: 51.2s\tremaining: 1m 12s\n",
            "415:\tlearn: 0.6141218\ttotal: 51.3s\tremaining: 1m 11s\n",
            "416:\tlearn: 0.6140532\ttotal: 51.4s\tremaining: 1m 11s\n",
            "417:\tlearn: 0.6140259\ttotal: 51.5s\tremaining: 1m 11s\n",
            "418:\tlearn: 0.6139588\ttotal: 51.7s\tremaining: 1m 11s\n",
            "419:\tlearn: 0.6139150\ttotal: 51.8s\tremaining: 1m 11s\n",
            "420:\tlearn: 0.6138932\ttotal: 51.9s\tremaining: 1m 11s\n",
            "421:\tlearn: 0.6137959\ttotal: 52s\tremaining: 1m 11s\n",
            "422:\tlearn: 0.6136914\ttotal: 52.2s\tremaining: 1m 11s\n",
            "423:\tlearn: 0.6136067\ttotal: 52.4s\tremaining: 1m 11s\n",
            "424:\tlearn: 0.6135493\ttotal: 52.5s\tremaining: 1m 11s\n",
            "425:\tlearn: 0.6134945\ttotal: 52.6s\tremaining: 1m 10s\n",
            "426:\tlearn: 0.6133415\ttotal: 52.7s\tremaining: 1m 10s\n",
            "427:\tlearn: 0.6132709\ttotal: 52.9s\tremaining: 1m 10s\n",
            "428:\tlearn: 0.6131488\ttotal: 53s\tremaining: 1m 10s\n",
            "429:\tlearn: 0.6130213\ttotal: 53.2s\tremaining: 1m 10s\n",
            "430:\tlearn: 0.6129288\ttotal: 53.3s\tremaining: 1m 10s\n",
            "431:\tlearn: 0.6128387\ttotal: 53.4s\tremaining: 1m 10s\n",
            "432:\tlearn: 0.6127074\ttotal: 53.5s\tremaining: 1m 10s\n",
            "433:\tlearn: 0.6126295\ttotal: 53.7s\tremaining: 1m 10s\n",
            "434:\tlearn: 0.6125921\ttotal: 53.8s\tremaining: 1m 9s\n",
            "435:\tlearn: 0.6124999\ttotal: 53.9s\tremaining: 1m 9s\n",
            "436:\tlearn: 0.6124297\ttotal: 54s\tremaining: 1m 9s\n",
            "437:\tlearn: 0.6123317\ttotal: 54.1s\tremaining: 1m 9s\n",
            "438:\tlearn: 0.6122362\ttotal: 54.2s\tremaining: 1m 9s\n",
            "439:\tlearn: 0.6121665\ttotal: 54.3s\tremaining: 1m 9s\n",
            "440:\tlearn: 0.6120643\ttotal: 54.4s\tremaining: 1m 8s\n",
            "441:\tlearn: 0.6119449\ttotal: 54.5s\tremaining: 1m 8s\n",
            "442:\tlearn: 0.6117365\ttotal: 54.6s\tremaining: 1m 8s\n",
            "443:\tlearn: 0.6116875\ttotal: 54.7s\tremaining: 1m 8s\n",
            "444:\tlearn: 0.6116511\ttotal: 54.8s\tremaining: 1m 8s\n",
            "445:\tlearn: 0.6115393\ttotal: 54.9s\tremaining: 1m 8s\n",
            "446:\tlearn: 0.6114956\ttotal: 55s\tremaining: 1m 8s\n",
            "447:\tlearn: 0.6114271\ttotal: 55.1s\tremaining: 1m 7s\n",
            "448:\tlearn: 0.6114036\ttotal: 55.2s\tremaining: 1m 7s\n",
            "449:\tlearn: 0.6113469\ttotal: 55.3s\tremaining: 1m 7s\n",
            "450:\tlearn: 0.6112127\ttotal: 55.4s\tremaining: 1m 7s\n",
            "451:\tlearn: 0.6111405\ttotal: 55.5s\tremaining: 1m 7s\n",
            "452:\tlearn: 0.6110896\ttotal: 55.5s\tremaining: 1m 7s\n",
            "453:\tlearn: 0.6110408\ttotal: 55.7s\tremaining: 1m 6s\n",
            "454:\tlearn: 0.6109926\ttotal: 55.7s\tremaining: 1m 6s\n",
            "455:\tlearn: 0.6109189\ttotal: 55.8s\tremaining: 1m 6s\n",
            "456:\tlearn: 0.6108367\ttotal: 56s\tremaining: 1m 6s\n",
            "457:\tlearn: 0.6107378\ttotal: 56s\tremaining: 1m 6s\n",
            "458:\tlearn: 0.6107119\ttotal: 56.1s\tremaining: 1m 6s\n",
            "459:\tlearn: 0.6105090\ttotal: 56.3s\tremaining: 1m 6s\n",
            "460:\tlearn: 0.6104276\ttotal: 56.3s\tremaining: 1m 5s\n",
            "461:\tlearn: 0.6103710\ttotal: 56.4s\tremaining: 1m 5s\n",
            "462:\tlearn: 0.6102634\ttotal: 56.5s\tremaining: 1m 5s\n",
            "463:\tlearn: 0.6101406\ttotal: 56.6s\tremaining: 1m 5s\n",
            "464:\tlearn: 0.6100710\ttotal: 56.7s\tremaining: 1m 5s\n",
            "465:\tlearn: 0.6099761\ttotal: 56.8s\tremaining: 1m 5s\n",
            "466:\tlearn: 0.6098870\ttotal: 56.9s\tremaining: 1m 4s\n",
            "467:\tlearn: 0.6097816\ttotal: 57s\tremaining: 1m 4s\n",
            "468:\tlearn: 0.6096830\ttotal: 57.1s\tremaining: 1m 4s\n",
            "469:\tlearn: 0.6096346\ttotal: 57.2s\tremaining: 1m 4s\n",
            "470:\tlearn: 0.6095055\ttotal: 57.3s\tremaining: 1m 4s\n"
          ]
        },
        {
          "name": "stdout",
          "output_type": "stream",
          "text": [
            "471:\tlearn: 0.6094420\ttotal: 57.4s\tremaining: 1m 4s\n",
            "472:\tlearn: 0.6093923\ttotal: 57.5s\tremaining: 1m 4s\n",
            "473:\tlearn: 0.6092796\ttotal: 57.6s\tremaining: 1m 3s\n",
            "474:\tlearn: 0.6092025\ttotal: 57.7s\tremaining: 1m 3s\n",
            "475:\tlearn: 0.6090880\ttotal: 57.8s\tremaining: 1m 3s\n",
            "476:\tlearn: 0.6090124\ttotal: 58s\tremaining: 1m 3s\n",
            "477:\tlearn: 0.6089429\ttotal: 58.1s\tremaining: 1m 3s\n",
            "478:\tlearn: 0.6088073\ttotal: 58.3s\tremaining: 1m 3s\n",
            "479:\tlearn: 0.6087352\ttotal: 58.5s\tremaining: 1m 3s\n",
            "480:\tlearn: 0.6086459\ttotal: 58.6s\tremaining: 1m 3s\n",
            "481:\tlearn: 0.6086095\ttotal: 58.8s\tremaining: 1m 3s\n",
            "482:\tlearn: 0.6085296\ttotal: 58.9s\tremaining: 1m 3s\n",
            "483:\tlearn: 0.6084789\ttotal: 59s\tremaining: 1m 2s\n",
            "484:\tlearn: 0.6083488\ttotal: 59.2s\tremaining: 1m 2s\n",
            "485:\tlearn: 0.6083073\ttotal: 59.4s\tremaining: 1m 2s\n",
            "486:\tlearn: 0.6081852\ttotal: 59.6s\tremaining: 1m 2s\n",
            "487:\tlearn: 0.6081105\ttotal: 59.7s\tremaining: 1m 2s\n",
            "488:\tlearn: 0.6079854\ttotal: 59.9s\tremaining: 1m 2s\n",
            "489:\tlearn: 0.6078294\ttotal: 60s\tremaining: 1m 2s\n",
            "490:\tlearn: 0.6077019\ttotal: 1m\tremaining: 1m 2s\n",
            "491:\tlearn: 0.6076533\ttotal: 1m\tremaining: 1m 2s\n",
            "492:\tlearn: 0.6076189\ttotal: 1m\tremaining: 1m 2s\n",
            "493:\tlearn: 0.6075781\ttotal: 1m\tremaining: 1m 2s\n",
            "494:\tlearn: 0.6075171\ttotal: 1m\tremaining: 1m 1s\n",
            "495:\tlearn: 0.6074566\ttotal: 1m\tremaining: 1m 1s\n",
            "496:\tlearn: 0.6074170\ttotal: 1m\tremaining: 1m 1s\n",
            "497:\tlearn: 0.6073843\ttotal: 1m 1s\tremaining: 1m 1s\n",
            "498:\tlearn: 0.6072892\ttotal: 1m 1s\tremaining: 1m 1s\n",
            "499:\tlearn: 0.6070797\ttotal: 1m 1s\tremaining: 1m 1s\n",
            "500:\tlearn: 0.6069750\ttotal: 1m 1s\tremaining: 1m 1s\n",
            "501:\tlearn: 0.6068933\ttotal: 1m 1s\tremaining: 1m 1s\n",
            "502:\tlearn: 0.6068609\ttotal: 1m 1s\tremaining: 1m\n",
            "503:\tlearn: 0.6067444\ttotal: 1m 1s\tremaining: 1m\n",
            "504:\tlearn: 0.6066256\ttotal: 1m 2s\tremaining: 1m\n",
            "505:\tlearn: 0.6065783\ttotal: 1m 2s\tremaining: 1m\n",
            "506:\tlearn: 0.6065354\ttotal: 1m 2s\tremaining: 1m\n",
            "507:\tlearn: 0.6063870\ttotal: 1m 2s\tremaining: 1m\n",
            "508:\tlearn: 0.6063485\ttotal: 1m 2s\tremaining: 1m\n",
            "509:\tlearn: 0.6063248\ttotal: 1m 2s\tremaining: 1m\n",
            "510:\tlearn: 0.6062299\ttotal: 1m 2s\tremaining: 1m\n",
            "511:\tlearn: 0.6061365\ttotal: 1m 2s\tremaining: 59.9s\n",
            "512:\tlearn: 0.6060688\ttotal: 1m 2s\tremaining: 59.8s\n",
            "513:\tlearn: 0.6060186\ttotal: 1m 3s\tremaining: 59.7s\n",
            "514:\tlearn: 0.6059359\ttotal: 1m 3s\tremaining: 59.6s\n",
            "515:\tlearn: 0.6058693\ttotal: 1m 3s\tremaining: 59.4s\n",
            "516:\tlearn: 0.6058283\ttotal: 1m 3s\tremaining: 59.3s\n",
            "517:\tlearn: 0.6057363\ttotal: 1m 3s\tremaining: 59.2s\n",
            "518:\tlearn: 0.6055864\ttotal: 1m 3s\tremaining: 59.1s\n",
            "519:\tlearn: 0.6055294\ttotal: 1m 3s\tremaining: 58.9s\n",
            "520:\tlearn: 0.6054416\ttotal: 1m 3s\tremaining: 58.8s\n",
            "521:\tlearn: 0.6053586\ttotal: 1m 4s\tremaining: 58.7s\n",
            "522:\tlearn: 0.6052800\ttotal: 1m 4s\tremaining: 58.6s\n",
            "523:\tlearn: 0.6051845\ttotal: 1m 4s\tremaining: 58.5s\n",
            "524:\tlearn: 0.6051251\ttotal: 1m 4s\tremaining: 58.4s\n",
            "525:\tlearn: 0.6050152\ttotal: 1m 4s\tremaining: 58.3s\n",
            "526:\tlearn: 0.6049689\ttotal: 1m 4s\tremaining: 58.2s\n",
            "527:\tlearn: 0.6048894\ttotal: 1m 5s\tremaining: 58.1s\n",
            "528:\tlearn: 0.6048403\ttotal: 1m 5s\tremaining: 58s\n",
            "529:\tlearn: 0.6048067\ttotal: 1m 5s\tremaining: 57.9s\n",
            "530:\tlearn: 0.6047195\ttotal: 1m 5s\tremaining: 57.7s\n",
            "531:\tlearn: 0.6046504\ttotal: 1m 5s\tremaining: 57.6s\n",
            "532:\tlearn: 0.6045760\ttotal: 1m 5s\tremaining: 57.4s\n",
            "533:\tlearn: 0.6044966\ttotal: 1m 5s\tremaining: 57.3s\n",
            "534:\tlearn: 0.6044493\ttotal: 1m 5s\tremaining: 57.3s\n",
            "535:\tlearn: 0.6043284\ttotal: 1m 6s\tremaining: 57.1s\n",
            "536:\tlearn: 0.6042475\ttotal: 1m 6s\tremaining: 57s\n",
            "537:\tlearn: 0.6041556\ttotal: 1m 6s\tremaining: 56.9s\n",
            "538:\tlearn: 0.6040962\ttotal: 1m 6s\tremaining: 56.7s\n",
            "539:\tlearn: 0.6039797\ttotal: 1m 6s\tremaining: 56.6s\n",
            "540:\tlearn: 0.6038985\ttotal: 1m 6s\tremaining: 56.4s\n",
            "541:\tlearn: 0.6038101\ttotal: 1m 6s\tremaining: 56.2s\n",
            "542:\tlearn: 0.6037814\ttotal: 1m 6s\tremaining: 56.1s\n",
            "543:\tlearn: 0.6037125\ttotal: 1m 6s\tremaining: 55.9s\n",
            "544:\tlearn: 0.6036499\ttotal: 1m 6s\tremaining: 55.8s\n",
            "545:\tlearn: 0.6035750\ttotal: 1m 6s\tremaining: 55.7s\n",
            "546:\tlearn: 0.6034984\ttotal: 1m 7s\tremaining: 55.5s\n",
            "547:\tlearn: 0.6034170\ttotal: 1m 7s\tremaining: 55.3s\n",
            "548:\tlearn: 0.6033593\ttotal: 1m 7s\tremaining: 55.2s\n",
            "549:\tlearn: 0.6032846\ttotal: 1m 7s\tremaining: 55.1s\n",
            "550:\tlearn: 0.6032423\ttotal: 1m 7s\tremaining: 54.9s\n",
            "551:\tlearn: 0.6031859\ttotal: 1m 7s\tremaining: 54.8s\n",
            "552:\tlearn: 0.6031037\ttotal: 1m 7s\tremaining: 54.6s\n",
            "553:\tlearn: 0.6030417\ttotal: 1m 7s\tremaining: 54.5s\n",
            "554:\tlearn: 0.6029200\ttotal: 1m 7s\tremaining: 54.3s\n",
            "555:\tlearn: 0.6028273\ttotal: 1m 7s\tremaining: 54.2s\n",
            "556:\tlearn: 0.6027664\ttotal: 1m 7s\tremaining: 54s\n",
            "557:\tlearn: 0.6026117\ttotal: 1m 8s\tremaining: 53.9s\n",
            "558:\tlearn: 0.6025785\ttotal: 1m 8s\tremaining: 53.7s\n",
            "559:\tlearn: 0.6025389\ttotal: 1m 8s\tremaining: 53.6s\n",
            "560:\tlearn: 0.6024596\ttotal: 1m 8s\tremaining: 53.4s\n",
            "561:\tlearn: 0.6023397\ttotal: 1m 8s\tremaining: 53.3s\n",
            "562:\tlearn: 0.6022905\ttotal: 1m 8s\tremaining: 53.1s\n",
            "563:\tlearn: 0.6021902\ttotal: 1m 8s\tremaining: 53s\n",
            "564:\tlearn: 0.6021091\ttotal: 1m 8s\tremaining: 52.9s\n",
            "565:\tlearn: 0.6020609\ttotal: 1m 8s\tremaining: 52.7s\n",
            "566:\tlearn: 0.6019789\ttotal: 1m 8s\tremaining: 52.6s\n",
            "567:\tlearn: 0.6018913\ttotal: 1m 8s\tremaining: 52.4s\n",
            "568:\tlearn: 0.6018357\ttotal: 1m 8s\tremaining: 52.3s\n",
            "569:\tlearn: 0.6017682\ttotal: 1m 9s\tremaining: 52.1s\n",
            "570:\tlearn: 0.6017144\ttotal: 1m 9s\tremaining: 52s\n",
            "571:\tlearn: 0.6016395\ttotal: 1m 9s\tremaining: 51.8s\n",
            "572:\tlearn: 0.6015882\ttotal: 1m 9s\tremaining: 51.7s\n",
            "573:\tlearn: 0.6015352\ttotal: 1m 9s\tremaining: 51.5s\n",
            "574:\tlearn: 0.6013413\ttotal: 1m 9s\tremaining: 51.4s\n",
            "575:\tlearn: 0.6012193\ttotal: 1m 9s\tremaining: 51.3s\n",
            "576:\tlearn: 0.6011324\ttotal: 1m 9s\tremaining: 51.1s\n",
            "577:\tlearn: 0.6010733\ttotal: 1m 9s\tremaining: 51s\n",
            "578:\tlearn: 0.6009726\ttotal: 1m 9s\tremaining: 50.9s\n",
            "579:\tlearn: 0.6009344\ttotal: 1m 10s\tremaining: 50.7s\n",
            "580:\tlearn: 0.6008838\ttotal: 1m 10s\tremaining: 50.6s\n",
            "581:\tlearn: 0.6008428\ttotal: 1m 10s\tremaining: 50.4s\n",
            "582:\tlearn: 0.6007828\ttotal: 1m 10s\tremaining: 50.3s\n",
            "583:\tlearn: 0.6006713\ttotal: 1m 10s\tremaining: 50.1s\n",
            "584:\tlearn: 0.6006088\ttotal: 1m 10s\tremaining: 50s\n",
            "585:\tlearn: 0.6005588\ttotal: 1m 10s\tremaining: 49.8s\n",
            "586:\tlearn: 0.6004689\ttotal: 1m 10s\tremaining: 49.7s\n",
            "587:\tlearn: 0.6004276\ttotal: 1m 10s\tremaining: 49.6s\n",
            "588:\tlearn: 0.6003584\ttotal: 1m 10s\tremaining: 49.5s\n",
            "589:\tlearn: 0.6003192\ttotal: 1m 11s\tremaining: 49.4s\n",
            "590:\tlearn: 0.6002642\ttotal: 1m 11s\tremaining: 49.3s\n",
            "591:\tlearn: 0.6002163\ttotal: 1m 11s\tremaining: 49.1s\n",
            "592:\tlearn: 0.6001426\ttotal: 1m 11s\tremaining: 49s\n",
            "593:\tlearn: 0.6000253\ttotal: 1m 11s\tremaining: 49s\n",
            "594:\tlearn: 0.5999840\ttotal: 1m 11s\tremaining: 48.8s\n",
            "595:\tlearn: 0.5998836\ttotal: 1m 11s\tremaining: 48.7s\n",
            "596:\tlearn: 0.5997698\ttotal: 1m 11s\tremaining: 48.6s\n",
            "597:\tlearn: 0.5997540\ttotal: 1m 12s\tremaining: 48.5s\n",
            "598:\tlearn: 0.5996407\ttotal: 1m 12s\tremaining: 48.4s\n",
            "599:\tlearn: 0.5995502\ttotal: 1m 12s\tremaining: 48.3s\n",
            "600:\tlearn: 0.5994561\ttotal: 1m 12s\tremaining: 48.2s\n",
            "601:\tlearn: 0.5993823\ttotal: 1m 12s\tremaining: 48.1s\n",
            "602:\tlearn: 0.5992448\ttotal: 1m 12s\tremaining: 48s\n",
            "603:\tlearn: 0.5992170\ttotal: 1m 12s\tremaining: 47.8s\n",
            "604:\tlearn: 0.5991628\ttotal: 1m 13s\tremaining: 47.7s\n",
            "605:\tlearn: 0.5990373\ttotal: 1m 13s\tremaining: 47.6s\n",
            "606:\tlearn: 0.5989934\ttotal: 1m 13s\tremaining: 47.5s\n",
            "607:\tlearn: 0.5989329\ttotal: 1m 13s\tremaining: 47.4s\n",
            "608:\tlearn: 0.5988846\ttotal: 1m 13s\tremaining: 47.3s\n",
            "609:\tlearn: 0.5987795\ttotal: 1m 13s\tremaining: 47.1s\n",
            "610:\tlearn: 0.5987054\ttotal: 1m 13s\tremaining: 47s\n",
            "611:\tlearn: 0.5985639\ttotal: 1m 14s\tremaining: 46.9s\n",
            "612:\tlearn: 0.5985048\ttotal: 1m 14s\tremaining: 46.8s\n",
            "613:\tlearn: 0.5984245\ttotal: 1m 14s\tremaining: 46.7s\n",
            "614:\tlearn: 0.5983465\ttotal: 1m 14s\tremaining: 46.6s\n",
            "615:\tlearn: 0.5982938\ttotal: 1m 14s\tremaining: 46.4s\n",
            "616:\tlearn: 0.5982453\ttotal: 1m 14s\tremaining: 46.3s\n",
            "617:\tlearn: 0.5981934\ttotal: 1m 14s\tremaining: 46.1s\n",
            "618:\tlearn: 0.5981409\ttotal: 1m 14s\tremaining: 46s\n",
            "619:\tlearn: 0.5980704\ttotal: 1m 14s\tremaining: 45.8s\n",
            "620:\tlearn: 0.5979356\ttotal: 1m 14s\tremaining: 45.7s\n",
            "621:\tlearn: 0.5978566\ttotal: 1m 14s\tremaining: 45.6s\n",
            "622:\tlearn: 0.5977865\ttotal: 1m 15s\tremaining: 45.4s\n",
            "623:\tlearn: 0.5977185\ttotal: 1m 15s\tremaining: 45.3s\n",
            "624:\tlearn: 0.5976720\ttotal: 1m 15s\tremaining: 45.1s\n",
            "625:\tlearn: 0.5976260\ttotal: 1m 15s\tremaining: 45s\n",
            "626:\tlearn: 0.5975981\ttotal: 1m 15s\tremaining: 44.9s\n",
            "627:\tlearn: 0.5975427\ttotal: 1m 15s\tremaining: 44.8s\n",
            "628:\tlearn: 0.5975052\ttotal: 1m 15s\tremaining: 44.6s\n",
            "629:\tlearn: 0.5974240\ttotal: 1m 15s\tremaining: 44.5s\n",
            "630:\tlearn: 0.5973590\ttotal: 1m 15s\tremaining: 44.4s\n"
          ]
        },
        {
          "name": "stdout",
          "output_type": "stream",
          "text": [
            "631:\tlearn: 0.5973314\ttotal: 1m 16s\tremaining: 44.3s\n",
            "632:\tlearn: 0.5972742\ttotal: 1m 16s\tremaining: 44.2s\n",
            "633:\tlearn: 0.5972442\ttotal: 1m 16s\tremaining: 44s\n",
            "634:\tlearn: 0.5971172\ttotal: 1m 16s\tremaining: 43.9s\n",
            "635:\tlearn: 0.5970434\ttotal: 1m 16s\tremaining: 43.8s\n",
            "636:\tlearn: 0.5969616\ttotal: 1m 16s\tremaining: 43.7s\n",
            "637:\tlearn: 0.5968285\ttotal: 1m 16s\tremaining: 43.6s\n",
            "638:\tlearn: 0.5967664\ttotal: 1m 16s\tremaining: 43.5s\n",
            "639:\tlearn: 0.5967349\ttotal: 1m 17s\tremaining: 43.4s\n",
            "640:\tlearn: 0.5965600\ttotal: 1m 17s\tremaining: 43.2s\n",
            "641:\tlearn: 0.5965063\ttotal: 1m 17s\tremaining: 43.1s\n",
            "642:\tlearn: 0.5964390\ttotal: 1m 17s\tremaining: 43s\n",
            "643:\tlearn: 0.5963459\ttotal: 1m 17s\tremaining: 42.9s\n",
            "644:\tlearn: 0.5962641\ttotal: 1m 17s\tremaining: 42.8s\n",
            "645:\tlearn: 0.5961835\ttotal: 1m 17s\tremaining: 42.6s\n",
            "646:\tlearn: 0.5961603\ttotal: 1m 17s\tremaining: 42.5s\n",
            "647:\tlearn: 0.5960891\ttotal: 1m 18s\tremaining: 42.4s\n",
            "648:\tlearn: 0.5960452\ttotal: 1m 18s\tremaining: 42.3s\n",
            "649:\tlearn: 0.5959651\ttotal: 1m 18s\tremaining: 42.2s\n",
            "650:\tlearn: 0.5959092\ttotal: 1m 18s\tremaining: 42.1s\n",
            "651:\tlearn: 0.5958770\ttotal: 1m 18s\tremaining: 41.9s\n",
            "652:\tlearn: 0.5958592\ttotal: 1m 18s\tremaining: 41.8s\n",
            "653:\tlearn: 0.5957752\ttotal: 1m 18s\tremaining: 41.7s\n",
            "654:\tlearn: 0.5957062\ttotal: 1m 18s\tremaining: 41.6s\n",
            "655:\tlearn: 0.5955463\ttotal: 1m 19s\tremaining: 41.5s\n",
            "656:\tlearn: 0.5954570\ttotal: 1m 19s\tremaining: 41.3s\n",
            "657:\tlearn: 0.5953936\ttotal: 1m 19s\tremaining: 41.2s\n",
            "658:\tlearn: 0.5953554\ttotal: 1m 19s\tremaining: 41.1s\n",
            "659:\tlearn: 0.5952373\ttotal: 1m 19s\tremaining: 41s\n",
            "660:\tlearn: 0.5951486\ttotal: 1m 19s\tremaining: 40.9s\n",
            "661:\tlearn: 0.5951093\ttotal: 1m 19s\tremaining: 40.8s\n",
            "662:\tlearn: 0.5950546\ttotal: 1m 20s\tremaining: 40.7s\n",
            "663:\tlearn: 0.5949488\ttotal: 1m 20s\tremaining: 40.6s\n",
            "664:\tlearn: 0.5949007\ttotal: 1m 20s\tremaining: 40.4s\n",
            "665:\tlearn: 0.5948165\ttotal: 1m 20s\tremaining: 40.3s\n",
            "666:\tlearn: 0.5947901\ttotal: 1m 20s\tremaining: 40.2s\n",
            "667:\tlearn: 0.5946719\ttotal: 1m 20s\tremaining: 40.1s\n",
            "668:\tlearn: 0.5945297\ttotal: 1m 20s\tremaining: 39.9s\n",
            "669:\tlearn: 0.5944384\ttotal: 1m 20s\tremaining: 39.8s\n",
            "670:\tlearn: 0.5943879\ttotal: 1m 20s\tremaining: 39.7s\n",
            "671:\tlearn: 0.5942733\ttotal: 1m 21s\tremaining: 39.6s\n",
            "672:\tlearn: 0.5941985\ttotal: 1m 21s\tremaining: 39.4s\n",
            "673:\tlearn: 0.5941142\ttotal: 1m 21s\tremaining: 39.3s\n",
            "674:\tlearn: 0.5940168\ttotal: 1m 21s\tremaining: 39.3s\n",
            "675:\tlearn: 0.5939527\ttotal: 1m 21s\tremaining: 39.2s\n",
            "676:\tlearn: 0.5938977\ttotal: 1m 21s\tremaining: 39.1s\n",
            "677:\tlearn: 0.5938773\ttotal: 1m 22s\tremaining: 39s\n",
            "678:\tlearn: 0.5938212\ttotal: 1m 22s\tremaining: 38.9s\n",
            "679:\tlearn: 0.5937626\ttotal: 1m 22s\tremaining: 38.7s\n",
            "680:\tlearn: 0.5937109\ttotal: 1m 22s\tremaining: 38.6s\n",
            "681:\tlearn: 0.5936585\ttotal: 1m 22s\tremaining: 38.5s\n",
            "682:\tlearn: 0.5935845\ttotal: 1m 22s\tremaining: 38.4s\n",
            "683:\tlearn: 0.5935276\ttotal: 1m 22s\tremaining: 38.3s\n",
            "684:\tlearn: 0.5934313\ttotal: 1m 22s\tremaining: 38.2s\n",
            "685:\tlearn: 0.5933835\ttotal: 1m 23s\tremaining: 38s\n",
            "686:\tlearn: 0.5933189\ttotal: 1m 23s\tremaining: 37.9s\n",
            "687:\tlearn: 0.5932282\ttotal: 1m 23s\tremaining: 37.8s\n",
            "688:\tlearn: 0.5931906\ttotal: 1m 23s\tremaining: 37.7s\n",
            "689:\tlearn: 0.5930856\ttotal: 1m 23s\tremaining: 37.6s\n",
            "690:\tlearn: 0.5929363\ttotal: 1m 23s\tremaining: 37.5s\n",
            "691:\tlearn: 0.5928090\ttotal: 1m 23s\tremaining: 37.4s\n",
            "692:\tlearn: 0.5927787\ttotal: 1m 24s\tremaining: 37.2s\n",
            "693:\tlearn: 0.5927484\ttotal: 1m 24s\tremaining: 37.1s\n",
            "694:\tlearn: 0.5926928\ttotal: 1m 24s\tremaining: 37s\n",
            "695:\tlearn: 0.5925739\ttotal: 1m 24s\tremaining: 36.9s\n",
            "696:\tlearn: 0.5925327\ttotal: 1m 24s\tremaining: 36.8s\n",
            "697:\tlearn: 0.5924494\ttotal: 1m 24s\tremaining: 36.7s\n",
            "698:\tlearn: 0.5923618\ttotal: 1m 24s\tremaining: 36.6s\n",
            "699:\tlearn: 0.5922613\ttotal: 1m 25s\tremaining: 36.5s\n",
            "700:\tlearn: 0.5921511\ttotal: 1m 25s\tremaining: 36.3s\n",
            "701:\tlearn: 0.5920887\ttotal: 1m 25s\tremaining: 36.2s\n",
            "702:\tlearn: 0.5919755\ttotal: 1m 25s\tremaining: 36.1s\n",
            "703:\tlearn: 0.5918903\ttotal: 1m 25s\tremaining: 36s\n",
            "704:\tlearn: 0.5918447\ttotal: 1m 25s\tremaining: 35.9s\n",
            "705:\tlearn: 0.5917991\ttotal: 1m 25s\tremaining: 35.8s\n",
            "706:\tlearn: 0.5917172\ttotal: 1m 25s\tremaining: 35.6s\n",
            "707:\tlearn: 0.5916758\ttotal: 1m 26s\tremaining: 35.5s\n",
            "708:\tlearn: 0.5916371\ttotal: 1m 26s\tremaining: 35.4s\n",
            "709:\tlearn: 0.5916080\ttotal: 1m 26s\tremaining: 35.2s\n",
            "710:\tlearn: 0.5915762\ttotal: 1m 26s\tremaining: 35.1s\n",
            "711:\tlearn: 0.5915342\ttotal: 1m 26s\tremaining: 35s\n",
            "712:\tlearn: 0.5914785\ttotal: 1m 26s\tremaining: 34.8s\n",
            "713:\tlearn: 0.5914216\ttotal: 1m 26s\tremaining: 34.7s\n",
            "714:\tlearn: 0.5913170\ttotal: 1m 26s\tremaining: 34.6s\n",
            "715:\tlearn: 0.5912618\ttotal: 1m 27s\tremaining: 34.6s\n",
            "716:\tlearn: 0.5912236\ttotal: 1m 27s\tremaining: 34.5s\n",
            "717:\tlearn: 0.5911828\ttotal: 1m 27s\tremaining: 34.5s\n",
            "718:\tlearn: 0.5910997\ttotal: 1m 28s\tremaining: 34.4s\n",
            "719:\tlearn: 0.5909709\ttotal: 1m 28s\tremaining: 34.4s\n",
            "720:\tlearn: 0.5909237\ttotal: 1m 29s\tremaining: 34.5s\n",
            "721:\tlearn: 0.5908461\ttotal: 1m 30s\tremaining: 34.7s\n",
            "722:\tlearn: 0.5907772\ttotal: 1m 30s\tremaining: 34.6s\n",
            "723:\tlearn: 0.5906700\ttotal: 1m 30s\tremaining: 34.6s\n",
            "724:\tlearn: 0.5905974\ttotal: 1m 31s\tremaining: 34.5s\n",
            "725:\tlearn: 0.5904746\ttotal: 1m 31s\tremaining: 34.4s\n",
            "726:\tlearn: 0.5904231\ttotal: 1m 31s\tremaining: 34.3s\n",
            "727:\tlearn: 0.5903456\ttotal: 1m 31s\tremaining: 34.3s\n",
            "728:\tlearn: 0.5903146\ttotal: 1m 31s\tremaining: 34.2s\n",
            "729:\tlearn: 0.5901836\ttotal: 1m 32s\tremaining: 34.2s\n",
            "730:\tlearn: 0.5901342\ttotal: 1m 32s\tremaining: 34.1s\n",
            "731:\tlearn: 0.5900562\ttotal: 1m 33s\tremaining: 34.1s\n",
            "732:\tlearn: 0.5900157\ttotal: 1m 33s\tremaining: 34s\n",
            "733:\tlearn: 0.5899588\ttotal: 1m 33s\tremaining: 33.9s\n",
            "734:\tlearn: 0.5898634\ttotal: 1m 33s\tremaining: 33.9s\n",
            "735:\tlearn: 0.5897903\ttotal: 1m 34s\tremaining: 33.8s\n",
            "736:\tlearn: 0.5897572\ttotal: 1m 34s\tremaining: 33.8s\n",
            "737:\tlearn: 0.5896959\ttotal: 1m 34s\tremaining: 33.7s\n",
            "738:\tlearn: 0.5896253\ttotal: 1m 35s\tremaining: 33.7s\n",
            "739:\tlearn: 0.5895510\ttotal: 1m 35s\tremaining: 33.6s\n",
            "740:\tlearn: 0.5894853\ttotal: 1m 35s\tremaining: 33.5s\n",
            "741:\tlearn: 0.5894489\ttotal: 1m 36s\tremaining: 33.5s\n",
            "742:\tlearn: 0.5893734\ttotal: 1m 36s\tremaining: 33.4s\n",
            "743:\tlearn: 0.5892677\ttotal: 1m 36s\tremaining: 33.3s\n",
            "744:\tlearn: 0.5892305\ttotal: 1m 37s\tremaining: 33.2s\n",
            "745:\tlearn: 0.5891404\ttotal: 1m 37s\tremaining: 33.1s\n",
            "746:\tlearn: 0.5891100\ttotal: 1m 37s\tremaining: 33s\n",
            "747:\tlearn: 0.5890258\ttotal: 1m 37s\tremaining: 32.9s\n",
            "748:\tlearn: 0.5890025\ttotal: 1m 37s\tremaining: 32.8s\n",
            "749:\tlearn: 0.5889570\ttotal: 1m 38s\tremaining: 32.7s\n",
            "750:\tlearn: 0.5889207\ttotal: 1m 38s\tremaining: 32.6s\n",
            "751:\tlearn: 0.5888559\ttotal: 1m 38s\tremaining: 32.5s\n",
            "752:\tlearn: 0.5888177\ttotal: 1m 38s\tremaining: 32.4s\n",
            "753:\tlearn: 0.5887240\ttotal: 1m 39s\tremaining: 32.4s\n",
            "754:\tlearn: 0.5886927\ttotal: 1m 39s\tremaining: 32.3s\n",
            "755:\tlearn: 0.5886528\ttotal: 1m 40s\tremaining: 32.3s\n",
            "756:\tlearn: 0.5886028\ttotal: 1m 40s\tremaining: 32.3s\n",
            "757:\tlearn: 0.5885456\ttotal: 1m 40s\tremaining: 32.2s\n",
            "758:\tlearn: 0.5884717\ttotal: 1m 41s\tremaining: 32.1s\n",
            "759:\tlearn: 0.5884156\ttotal: 1m 41s\tremaining: 32s\n",
            "760:\tlearn: 0.5883443\ttotal: 1m 41s\tremaining: 31.9s\n",
            "761:\tlearn: 0.5882834\ttotal: 1m 41s\tremaining: 31.7s\n",
            "762:\tlearn: 0.5881815\ttotal: 1m 41s\tremaining: 31.6s\n",
            "763:\tlearn: 0.5881306\ttotal: 1m 41s\tremaining: 31.4s\n",
            "764:\tlearn: 0.5880480\ttotal: 1m 41s\tremaining: 31.3s\n",
            "765:\tlearn: 0.5879623\ttotal: 1m 42s\tremaining: 31.2s\n",
            "766:\tlearn: 0.5878880\ttotal: 1m 42s\tremaining: 31s\n",
            "767:\tlearn: 0.5878431\ttotal: 1m 42s\tremaining: 30.9s\n",
            "768:\tlearn: 0.5877612\ttotal: 1m 42s\tremaining: 30.8s\n",
            "769:\tlearn: 0.5876959\ttotal: 1m 42s\tremaining: 30.6s\n",
            "770:\tlearn: 0.5876461\ttotal: 1m 42s\tremaining: 30.5s\n",
            "771:\tlearn: 0.5875572\ttotal: 1m 42s\tremaining: 30.4s\n",
            "772:\tlearn: 0.5874711\ttotal: 1m 42s\tremaining: 30.2s\n",
            "773:\tlearn: 0.5873705\ttotal: 1m 43s\tremaining: 30.1s\n",
            "774:\tlearn: 0.5872621\ttotal: 1m 43s\tremaining: 30s\n",
            "775:\tlearn: 0.5872432\ttotal: 1m 43s\tremaining: 29.8s\n",
            "776:\tlearn: 0.5871464\ttotal: 1m 43s\tremaining: 29.7s\n",
            "777:\tlearn: 0.5870838\ttotal: 1m 43s\tremaining: 29.6s\n",
            "778:\tlearn: 0.5870613\ttotal: 1m 43s\tremaining: 29.4s\n",
            "779:\tlearn: 0.5870164\ttotal: 1m 43s\tremaining: 29.3s\n",
            "780:\tlearn: 0.5869185\ttotal: 1m 43s\tremaining: 29.2s\n",
            "781:\tlearn: 0.5868578\ttotal: 1m 44s\tremaining: 29s\n",
            "782:\tlearn: 0.5868353\ttotal: 1m 44s\tremaining: 28.9s\n",
            "783:\tlearn: 0.5867746\ttotal: 1m 44s\tremaining: 28.7s\n",
            "784:\tlearn: 0.5867095\ttotal: 1m 44s\tremaining: 28.6s\n",
            "785:\tlearn: 0.5866683\ttotal: 1m 44s\tremaining: 28.5s\n",
            "786:\tlearn: 0.5865872\ttotal: 1m 44s\tremaining: 28.3s\n",
            "787:\tlearn: 0.5865518\ttotal: 1m 44s\tremaining: 28.2s\n",
            "788:\tlearn: 0.5865119\ttotal: 1m 44s\tremaining: 28s\n"
          ]
        },
        {
          "name": "stdout",
          "output_type": "stream",
          "text": [
            "789:\tlearn: 0.5864524\ttotal: 1m 44s\tremaining: 27.9s\n",
            "790:\tlearn: 0.5864003\ttotal: 1m 45s\tremaining: 27.8s\n",
            "791:\tlearn: 0.5863413\ttotal: 1m 45s\tremaining: 27.6s\n",
            "792:\tlearn: 0.5862663\ttotal: 1m 45s\tremaining: 27.5s\n",
            "793:\tlearn: 0.5861739\ttotal: 1m 45s\tremaining: 27.3s\n",
            "794:\tlearn: 0.5860198\ttotal: 1m 45s\tremaining: 27.2s\n",
            "795:\tlearn: 0.5859835\ttotal: 1m 45s\tremaining: 27.1s\n",
            "796:\tlearn: 0.5858690\ttotal: 1m 45s\tremaining: 26.9s\n",
            "797:\tlearn: 0.5857705\ttotal: 1m 45s\tremaining: 26.8s\n",
            "798:\tlearn: 0.5857146\ttotal: 1m 46s\tremaining: 26.7s\n",
            "799:\tlearn: 0.5856201\ttotal: 1m 46s\tremaining: 26.5s\n",
            "800:\tlearn: 0.5855528\ttotal: 1m 46s\tremaining: 26.4s\n",
            "801:\tlearn: 0.5855012\ttotal: 1m 46s\tremaining: 26.3s\n",
            "802:\tlearn: 0.5854513\ttotal: 1m 46s\tremaining: 26.1s\n",
            "803:\tlearn: 0.5853783\ttotal: 1m 46s\tremaining: 26s\n",
            "804:\tlearn: 0.5853059\ttotal: 1m 46s\tremaining: 25.9s\n",
            "805:\tlearn: 0.5852505\ttotal: 1m 46s\tremaining: 25.7s\n",
            "806:\tlearn: 0.5852182\ttotal: 1m 47s\tremaining: 25.6s\n",
            "807:\tlearn: 0.5851187\ttotal: 1m 47s\tremaining: 25.5s\n",
            "808:\tlearn: 0.5851042\ttotal: 1m 47s\tremaining: 25.3s\n",
            "809:\tlearn: 0.5850309\ttotal: 1m 47s\tremaining: 25.2s\n",
            "810:\tlearn: 0.5849694\ttotal: 1m 47s\tremaining: 25.1s\n",
            "811:\tlearn: 0.5849429\ttotal: 1m 47s\tremaining: 24.9s\n",
            "812:\tlearn: 0.5848555\ttotal: 1m 47s\tremaining: 24.8s\n",
            "813:\tlearn: 0.5848145\ttotal: 1m 47s\tremaining: 24.6s\n",
            "814:\tlearn: 0.5847274\ttotal: 1m 47s\tremaining: 24.5s\n",
            "815:\tlearn: 0.5846665\ttotal: 1m 48s\tremaining: 24.4s\n",
            "816:\tlearn: 0.5846193\ttotal: 1m 48s\tremaining: 24.2s\n",
            "817:\tlearn: 0.5845890\ttotal: 1m 48s\tremaining: 24.1s\n",
            "818:\tlearn: 0.5845372\ttotal: 1m 48s\tremaining: 24s\n",
            "819:\tlearn: 0.5844848\ttotal: 1m 48s\tremaining: 23.8s\n",
            "820:\tlearn: 0.5844303\ttotal: 1m 48s\tremaining: 23.7s\n",
            "821:\tlearn: 0.5843726\ttotal: 1m 48s\tremaining: 23.6s\n",
            "822:\tlearn: 0.5843399\ttotal: 1m 48s\tremaining: 23.4s\n",
            "823:\tlearn: 0.5842943\ttotal: 1m 49s\tremaining: 23.3s\n",
            "824:\tlearn: 0.5842337\ttotal: 1m 49s\tremaining: 23.2s\n",
            "825:\tlearn: 0.5842072\ttotal: 1m 49s\tremaining: 23s\n",
            "826:\tlearn: 0.5841190\ttotal: 1m 49s\tremaining: 22.9s\n",
            "827:\tlearn: 0.5840722\ttotal: 1m 49s\tremaining: 22.8s\n",
            "828:\tlearn: 0.5839965\ttotal: 1m 49s\tremaining: 22.6s\n",
            "829:\tlearn: 0.5839217\ttotal: 1m 49s\tremaining: 22.5s\n",
            "830:\tlearn: 0.5838353\ttotal: 1m 49s\tremaining: 22.4s\n",
            "831:\tlearn: 0.5837642\ttotal: 1m 50s\tremaining: 22.3s\n",
            "832:\tlearn: 0.5837029\ttotal: 1m 50s\tremaining: 22.2s\n",
            "833:\tlearn: 0.5836099\ttotal: 1m 50s\tremaining: 22s\n",
            "834:\tlearn: 0.5835639\ttotal: 1m 50s\tremaining: 21.9s\n",
            "835:\tlearn: 0.5834883\ttotal: 1m 51s\tremaining: 21.8s\n",
            "836:\tlearn: 0.5834151\ttotal: 1m 51s\tremaining: 21.7s\n",
            "837:\tlearn: 0.5833775\ttotal: 1m 51s\tremaining: 21.5s\n",
            "838:\tlearn: 0.5833387\ttotal: 1m 51s\tremaining: 21.4s\n",
            "839:\tlearn: 0.5832465\ttotal: 1m 51s\tremaining: 21.3s\n",
            "840:\tlearn: 0.5831635\ttotal: 1m 51s\tremaining: 21.2s\n",
            "841:\tlearn: 0.5830750\ttotal: 1m 52s\tremaining: 21s\n",
            "842:\tlearn: 0.5830238\ttotal: 1m 52s\tremaining: 20.9s\n",
            "843:\tlearn: 0.5829193\ttotal: 1m 52s\tremaining: 20.8s\n",
            "844:\tlearn: 0.5828727\ttotal: 1m 52s\tremaining: 20.7s\n",
            "845:\tlearn: 0.5828208\ttotal: 1m 52s\tremaining: 20.5s\n",
            "846:\tlearn: 0.5827532\ttotal: 1m 53s\tremaining: 20.4s\n",
            "847:\tlearn: 0.5827160\ttotal: 1m 53s\tremaining: 20.3s\n",
            "848:\tlearn: 0.5826314\ttotal: 1m 53s\tremaining: 20.1s\n",
            "849:\tlearn: 0.5825460\ttotal: 1m 53s\tremaining: 20s\n",
            "850:\tlearn: 0.5825086\ttotal: 1m 53s\tremaining: 19.9s\n",
            "851:\tlearn: 0.5824423\ttotal: 1m 53s\tremaining: 19.7s\n",
            "852:\tlearn: 0.5824097\ttotal: 1m 53s\tremaining: 19.6s\n",
            "853:\tlearn: 0.5823529\ttotal: 1m 53s\tremaining: 19.4s\n",
            "854:\tlearn: 0.5822891\ttotal: 1m 53s\tremaining: 19.3s\n",
            "855:\tlearn: 0.5821876\ttotal: 1m 53s\tremaining: 19.2s\n",
            "856:\tlearn: 0.5821040\ttotal: 1m 54s\tremaining: 19s\n",
            "857:\tlearn: 0.5820186\ttotal: 1m 54s\tremaining: 18.9s\n",
            "858:\tlearn: 0.5819982\ttotal: 1m 54s\tremaining: 18.7s\n",
            "859:\tlearn: 0.5819246\ttotal: 1m 54s\tremaining: 18.6s\n",
            "860:\tlearn: 0.5818762\ttotal: 1m 54s\tremaining: 18.5s\n",
            "861:\tlearn: 0.5818036\ttotal: 1m 54s\tremaining: 18.3s\n",
            "862:\tlearn: 0.5817381\ttotal: 1m 54s\tremaining: 18.2s\n",
            "863:\tlearn: 0.5816581\ttotal: 1m 54s\tremaining: 18.1s\n",
            "864:\tlearn: 0.5816020\ttotal: 1m 55s\tremaining: 18s\n",
            "865:\tlearn: 0.5815070\ttotal: 1m 55s\tremaining: 17.8s\n",
            "866:\tlearn: 0.5814514\ttotal: 1m 55s\tremaining: 17.7s\n",
            "867:\tlearn: 0.5813705\ttotal: 1m 55s\tremaining: 17.6s\n",
            "868:\tlearn: 0.5813037\ttotal: 1m 55s\tremaining: 17.4s\n",
            "869:\tlearn: 0.5812795\ttotal: 1m 55s\tremaining: 17.3s\n",
            "870:\tlearn: 0.5812406\ttotal: 1m 55s\tremaining: 17.1s\n",
            "871:\tlearn: 0.5811839\ttotal: 1m 55s\tremaining: 17s\n",
            "872:\tlearn: 0.5811263\ttotal: 1m 55s\tremaining: 16.9s\n",
            "873:\tlearn: 0.5810511\ttotal: 1m 56s\tremaining: 16.7s\n",
            "874:\tlearn: 0.5809758\ttotal: 1m 56s\tremaining: 16.6s\n",
            "875:\tlearn: 0.5808619\ttotal: 1m 56s\tremaining: 16.5s\n",
            "876:\tlearn: 0.5808332\ttotal: 1m 56s\tremaining: 16.3s\n",
            "877:\tlearn: 0.5807574\ttotal: 1m 56s\tremaining: 16.2s\n",
            "878:\tlearn: 0.5806593\ttotal: 1m 56s\tremaining: 16.1s\n",
            "879:\tlearn: 0.5805663\ttotal: 1m 56s\tremaining: 15.9s\n",
            "880:\tlearn: 0.5804823\ttotal: 1m 56s\tremaining: 15.8s\n",
            "881:\tlearn: 0.5804430\ttotal: 1m 56s\tremaining: 15.7s\n",
            "882:\tlearn: 0.5803392\ttotal: 1m 57s\tremaining: 15.5s\n",
            "883:\tlearn: 0.5802636\ttotal: 1m 57s\tremaining: 15.4s\n",
            "884:\tlearn: 0.5802070\ttotal: 1m 57s\tremaining: 15.2s\n",
            "885:\tlearn: 0.5801639\ttotal: 1m 57s\tremaining: 15.1s\n",
            "886:\tlearn: 0.5800452\ttotal: 1m 57s\tremaining: 15s\n",
            "887:\tlearn: 0.5799792\ttotal: 1m 57s\tremaining: 14.8s\n",
            "888:\tlearn: 0.5798991\ttotal: 1m 57s\tremaining: 14.7s\n",
            "889:\tlearn: 0.5798007\ttotal: 1m 57s\tremaining: 14.6s\n",
            "890:\tlearn: 0.5797109\ttotal: 1m 58s\tremaining: 14.4s\n",
            "891:\tlearn: 0.5796493\ttotal: 1m 58s\tremaining: 14.3s\n",
            "892:\tlearn: 0.5795832\ttotal: 1m 58s\tremaining: 14.2s\n",
            "893:\tlearn: 0.5795234\ttotal: 1m 58s\tremaining: 14s\n",
            "894:\tlearn: 0.5794820\ttotal: 1m 58s\tremaining: 13.9s\n",
            "895:\tlearn: 0.5794361\ttotal: 1m 58s\tremaining: 13.8s\n",
            "896:\tlearn: 0.5793627\ttotal: 1m 58s\tremaining: 13.6s\n",
            "897:\tlearn: 0.5792462\ttotal: 1m 58s\tremaining: 13.5s\n",
            "898:\tlearn: 0.5791974\ttotal: 1m 58s\tremaining: 13.4s\n",
            "899:\tlearn: 0.5791527\ttotal: 1m 59s\tremaining: 13.2s\n",
            "900:\tlearn: 0.5791027\ttotal: 1m 59s\tremaining: 13.1s\n",
            "901:\tlearn: 0.5790499\ttotal: 1m 59s\tremaining: 13s\n",
            "902:\tlearn: 0.5790268\ttotal: 1m 59s\tremaining: 12.8s\n",
            "903:\tlearn: 0.5789864\ttotal: 1m 59s\tremaining: 12.7s\n",
            "904:\tlearn: 0.5789435\ttotal: 1m 59s\tremaining: 12.6s\n",
            "905:\tlearn: 0.5787968\ttotal: 1m 59s\tremaining: 12.4s\n",
            "906:\tlearn: 0.5787213\ttotal: 2m\tremaining: 12.3s\n",
            "907:\tlearn: 0.5786368\ttotal: 2m\tremaining: 12.2s\n",
            "908:\tlearn: 0.5785168\ttotal: 2m\tremaining: 12.1s\n",
            "909:\tlearn: 0.5783478\ttotal: 2m\tremaining: 11.9s\n",
            "910:\tlearn: 0.5783038\ttotal: 2m\tremaining: 11.8s\n",
            "911:\tlearn: 0.5782413\ttotal: 2m 1s\tremaining: 11.7s\n",
            "912:\tlearn: 0.5781539\ttotal: 2m 1s\tremaining: 11.6s\n",
            "913:\tlearn: 0.5780915\ttotal: 2m 1s\tremaining: 11.4s\n",
            "914:\tlearn: 0.5780095\ttotal: 2m 1s\tremaining: 11.3s\n",
            "915:\tlearn: 0.5779796\ttotal: 2m 1s\tremaining: 11.2s\n",
            "916:\tlearn: 0.5779287\ttotal: 2m 1s\tremaining: 11s\n",
            "917:\tlearn: 0.5778960\ttotal: 2m 1s\tremaining: 10.9s\n",
            "918:\tlearn: 0.5777905\ttotal: 2m 2s\tremaining: 10.8s\n",
            "919:\tlearn: 0.5777396\ttotal: 2m 2s\tremaining: 10.6s\n",
            "920:\tlearn: 0.5776493\ttotal: 2m 2s\tremaining: 10.5s\n",
            "921:\tlearn: 0.5775956\ttotal: 2m 2s\tremaining: 10.4s\n",
            "922:\tlearn: 0.5775656\ttotal: 2m 2s\tremaining: 10.2s\n",
            "923:\tlearn: 0.5775091\ttotal: 2m 2s\tremaining: 10.1s\n",
            "924:\tlearn: 0.5774700\ttotal: 2m 3s\tremaining: 9.98s\n",
            "925:\tlearn: 0.5774357\ttotal: 2m 3s\tremaining: 9.85s\n",
            "926:\tlearn: 0.5773475\ttotal: 2m 3s\tremaining: 9.72s\n",
            "927:\tlearn: 0.5772576\ttotal: 2m 3s\tremaining: 9.59s\n",
            "928:\tlearn: 0.5772292\ttotal: 2m 3s\tremaining: 9.46s\n",
            "929:\tlearn: 0.5771428\ttotal: 2m 3s\tremaining: 9.33s\n",
            "930:\tlearn: 0.5770930\ttotal: 2m 4s\tremaining: 9.2s\n",
            "931:\tlearn: 0.5770083\ttotal: 2m 4s\tremaining: 9.07s\n",
            "932:\tlearn: 0.5769931\ttotal: 2m 4s\tremaining: 8.94s\n",
            "933:\tlearn: 0.5768825\ttotal: 2m 4s\tremaining: 8.81s\n",
            "934:\tlearn: 0.5767786\ttotal: 2m 4s\tremaining: 8.68s\n",
            "935:\tlearn: 0.5766936\ttotal: 2m 4s\tremaining: 8.54s\n",
            "936:\tlearn: 0.5766592\ttotal: 2m 5s\tremaining: 8.41s\n",
            "937:\tlearn: 0.5765648\ttotal: 2m 5s\tremaining: 8.28s\n",
            "938:\tlearn: 0.5765138\ttotal: 2m 5s\tremaining: 8.15s\n",
            "939:\tlearn: 0.5764473\ttotal: 2m 5s\tremaining: 8.02s\n",
            "940:\tlearn: 0.5764282\ttotal: 2m 5s\tremaining: 7.89s\n",
            "941:\tlearn: 0.5763946\ttotal: 2m 6s\tremaining: 7.76s\n",
            "942:\tlearn: 0.5763654\ttotal: 2m 6s\tremaining: 7.63s\n",
            "943:\tlearn: 0.5763069\ttotal: 2m 6s\tremaining: 7.5s\n",
            "944:\tlearn: 0.5762621\ttotal: 2m 6s\tremaining: 7.37s\n",
            "945:\tlearn: 0.5761797\ttotal: 2m 6s\tremaining: 7.24s\n"
          ]
        },
        {
          "name": "stdout",
          "output_type": "stream",
          "text": [
            "946:\tlearn: 0.5761456\ttotal: 2m 7s\tremaining: 7.12s\n",
            "947:\tlearn: 0.5760176\ttotal: 2m 7s\tremaining: 7s\n",
            "948:\tlearn: 0.5759378\ttotal: 2m 7s\tremaining: 6.87s\n",
            "949:\tlearn: 0.5758726\ttotal: 2m 8s\tremaining: 6.74s\n",
            "950:\tlearn: 0.5757927\ttotal: 2m 8s\tremaining: 6.61s\n",
            "951:\tlearn: 0.5757195\ttotal: 2m 8s\tremaining: 6.47s\n",
            "952:\tlearn: 0.5756560\ttotal: 2m 8s\tremaining: 6.34s\n",
            "953:\tlearn: 0.5756203\ttotal: 2m 8s\tremaining: 6.21s\n",
            "954:\tlearn: 0.5755247\ttotal: 2m 8s\tremaining: 6.07s\n",
            "955:\tlearn: 0.5754800\ttotal: 2m 9s\tremaining: 5.94s\n",
            "956:\tlearn: 0.5754318\ttotal: 2m 9s\tremaining: 5.8s\n",
            "957:\tlearn: 0.5754050\ttotal: 2m 9s\tremaining: 5.67s\n",
            "958:\tlearn: 0.5753650\ttotal: 2m 9s\tremaining: 5.53s\n",
            "959:\tlearn: 0.5752678\ttotal: 2m 9s\tremaining: 5.4s\n",
            "960:\tlearn: 0.5751831\ttotal: 2m 9s\tremaining: 5.26s\n",
            "961:\tlearn: 0.5751235\ttotal: 2m 9s\tremaining: 5.13s\n",
            "962:\tlearn: 0.5750851\ttotal: 2m 9s\tremaining: 4.99s\n",
            "963:\tlearn: 0.5750145\ttotal: 2m 10s\tremaining: 4.86s\n",
            "964:\tlearn: 0.5749790\ttotal: 2m 10s\tremaining: 4.72s\n",
            "965:\tlearn: 0.5749449\ttotal: 2m 10s\tremaining: 4.58s\n",
            "966:\tlearn: 0.5749188\ttotal: 2m 10s\tremaining: 4.45s\n",
            "967:\tlearn: 0.5748902\ttotal: 2m 10s\tremaining: 4.31s\n",
            "968:\tlearn: 0.5748261\ttotal: 2m 10s\tremaining: 4.17s\n",
            "969:\tlearn: 0.5747866\ttotal: 2m 10s\tremaining: 4.04s\n",
            "970:\tlearn: 0.5747121\ttotal: 2m 10s\tremaining: 3.9s\n",
            "971:\tlearn: 0.5746299\ttotal: 2m 10s\tremaining: 3.77s\n",
            "972:\tlearn: 0.5745421\ttotal: 2m 10s\tremaining: 3.63s\n",
            "973:\tlearn: 0.5745136\ttotal: 2m 10s\tremaining: 3.5s\n",
            "974:\tlearn: 0.5744644\ttotal: 2m 11s\tremaining: 3.36s\n",
            "975:\tlearn: 0.5744041\ttotal: 2m 11s\tremaining: 3.23s\n",
            "976:\tlearn: 0.5743624\ttotal: 2m 11s\tremaining: 3.09s\n",
            "977:\tlearn: 0.5742838\ttotal: 2m 11s\tremaining: 2.96s\n",
            "978:\tlearn: 0.5742520\ttotal: 2m 11s\tremaining: 2.82s\n",
            "979:\tlearn: 0.5740710\ttotal: 2m 11s\tremaining: 2.69s\n",
            "980:\tlearn: 0.5740351\ttotal: 2m 11s\tremaining: 2.55s\n",
            "981:\tlearn: 0.5740008\ttotal: 2m 11s\tremaining: 2.42s\n",
            "982:\tlearn: 0.5739035\ttotal: 2m 12s\tremaining: 2.28s\n",
            "983:\tlearn: 0.5738332\ttotal: 2m 12s\tremaining: 2.15s\n",
            "984:\tlearn: 0.5737714\ttotal: 2m 12s\tremaining: 2.02s\n",
            "985:\tlearn: 0.5736616\ttotal: 2m 12s\tremaining: 1.88s\n",
            "986:\tlearn: 0.5735449\ttotal: 2m 12s\tremaining: 1.75s\n",
            "987:\tlearn: 0.5734872\ttotal: 2m 12s\tremaining: 1.61s\n",
            "988:\tlearn: 0.5734473\ttotal: 2m 12s\tremaining: 1.48s\n",
            "989:\tlearn: 0.5733788\ttotal: 2m 13s\tremaining: 1.34s\n",
            "990:\tlearn: 0.5733147\ttotal: 2m 13s\tremaining: 1.21s\n",
            "991:\tlearn: 0.5732409\ttotal: 2m 13s\tremaining: 1.07s\n",
            "992:\tlearn: 0.5731354\ttotal: 2m 13s\tremaining: 940ms\n",
            "993:\tlearn: 0.5730938\ttotal: 2m 13s\tremaining: 805ms\n",
            "994:\tlearn: 0.5730337\ttotal: 2m 13s\tremaining: 671ms\n",
            "995:\tlearn: 0.5729501\ttotal: 2m 13s\tremaining: 537ms\n",
            "996:\tlearn: 0.5729347\ttotal: 2m 13s\tremaining: 402ms\n",
            "997:\tlearn: 0.5728966\ttotal: 2m 13s\tremaining: 268ms\n",
            "998:\tlearn: 0.5728246\ttotal: 2m 13s\tremaining: 134ms\n",
            "999:\tlearn: 0.5727056\ttotal: 2m 14s\tremaining: 0us\n"
          ]
        },
        {
          "data": {
            "text/plain": [
              "array([[1],\n",
              "       [2],\n",
              "       [2],\n",
              "       ...,\n",
              "       [2],\n",
              "       [1],\n",
              "       [1]], dtype=int64)"
            ]
          },
          "execution_count": 94,
          "metadata": {},
          "output_type": "execute_result"
        }
      ],
      "source": [
        "from catboost import CatBoostClassifier\n",
        "cat1 = CatBoostClassifier()\n",
        "cat1.fit(X_train,y_train)\n",
        "cat1.predict(X_test)"
      ]
    },
    {
      "cell_type": "markdown",
      "metadata": {
        "id": "Q_lnbKa8jCmY"
      },
      "source": [
        "#LightGBM\n",
        "LightGBM is a fast, distributed, high performance gradient boosting framework based on decision tree algorithms, used for ranking, classification and many other machine learning tasks. "
      ]
    },
    {
      "cell_type": "code",
      "execution_count": null,
      "metadata": {
        "colab": {
          "base_uri": "https://localhost:8080/"
        },
        "id": "FkygLLVvU2Lb",
        "outputId": "5bba0f6b-9ec6-4c34-bba2-f06238e7e94e"
      },
      "outputs": [
        {
          "name": "stdout",
          "output_type": "stream",
          "text": [
            "Accuracy Train: 0.7483154584760514\n",
            "Confusion Matrix Train:\n",
            " [[  792  5441  1752]\n",
            " [  207 17230  7396]\n",
            " [   82  3051 35285]]\n",
            "\n",
            "\n",
            "Accuracy Test: 0.7331149688830658\n",
            "Confusion Matrix Test:\n",
            " [[  188  2459   725]\n",
            " [  167  7308  3237]\n",
            " [   36  1524 14886]]\n",
            "classification report:\n",
            "               precision    recall  f1-score   support\n",
            "\n",
            "           0       0.48      0.06      0.10      3372\n",
            "           1       0.65      0.68      0.66     10712\n",
            "           2       0.79      0.91      0.84     16446\n",
            "\n",
            "    accuracy                           0.73     30530\n",
            "   macro avg       0.64      0.55      0.54     30530\n",
            "weighted avg       0.71      0.73      0.70     30530\n",
            "\n"
          ]
        }
      ],
      "source": [
        "import lightgbm as lgb\n",
        "lgbmc=lgb.LGBMClassifier(random_state=4)\n",
        "lgbmc.fit(X_train,y_train)\n",
        "\n",
        "y_train_pred = lgbmc.predict(X_train)\n",
        "y_train_prob = lgbmc.predict_proba(X_train)[:,1]\n",
        "print(\"Accuracy Train:\",accuracy_score(y_train,y_train_pred))\n",
        "print(\"Confusion Matrix Train:\\n\",confusion_matrix(y_train,y_train_pred))\n",
        "print('\\n')\n",
        "y_test_pred = lgbmc.predict(X_test)\n",
        "y_test_prob = lgbmc.predict_proba(X_test)[:,1]\n",
        "print(\"Accuracy Test:\",accuracy_score(y_test,y_test_pred))\n",
        "print(\"Confusion Matrix Test:\\n\",confusion_matrix(y_test,y_test_pred))\n",
        "print(\"classification report:\\n\",classification_report(y_test,y_test_pred))"
      ]
    },
    {
      "cell_type": "markdown",
      "metadata": {
        "id": "n3zYDogXR-ZE"
      },
      "source": [
        "#Naive Bayes:-\n",
        "Naive Bayes classifier is a probabilistic machine learning model that’s used for a classification task.\n",
        " There are three types of Naive Bayes Classifier: \n",
        "\n",
        "(1). Multinomial Naive Bayes\n",
        "\n",
        "(2). Bernoulli Naive Bayes\n",
        "\n",
        "(3). Gaussian Naive Bayes \n",
        "\n",
        "We have used Gaussian Naive Bayes as the features follow a normal distribution."
      ]
    },
    {
      "cell_type": "code",
      "execution_count": null,
      "metadata": {
        "colab": {
          "base_uri": "https://localhost:8080/"
        },
        "id": "XfMwhYFGOnwS",
        "outputId": "a12c7edf-f008-44e4-c97f-10c8e22edbae"
      },
      "outputs": [
        {
          "name": "stdout",
          "output_type": "stream",
          "text": [
            "Gaussian Naive Bayes model accuracy(in %):  68.10678021618081\n",
            "              precision    recall  f1-score   support\n",
            "\n",
            "           0       0.45      0.02      0.03      3372\n",
            "           1       0.62      0.54      0.58     10712\n",
            "           2       0.71      0.91      0.80     16446\n",
            "\n",
            "    accuracy                           0.68     30530\n",
            "   macro avg       0.59      0.49      0.47     30530\n",
            "weighted avg       0.65      0.68      0.64     30530\n",
            "\n"
          ]
        }
      ],
      "source": [
        "#Training the model on the training set\n",
        "from sklearn.naive_bayes import GaussianNB\n",
        "NB = GaussianNB()\n",
        "NB.fit(X_train,y_train)\n",
        "\n",
        "#making prediction on the testing set\n",
        "y_pred = NB.predict(X_test)\n",
        "\n",
        "#Comparing actual response values (y_test) with predicted response values (y_pred)\n",
        "\n",
        "from sklearn import metrics\n",
        "\n",
        "print(\"Gaussian Naive Bayes model accuracy(in %): \",metrics.accuracy_score(y_test,predicted)*100)\n",
        "print(metrics.classification_report(y_test,predicted))\n"
      ]
    },
    {
      "cell_type": "markdown",
      "metadata": {
        "id": "ehVm0QMpWuVw"
      },
      "source": [
        "#Gradient Boosting:-\n",
        "Gradient Boosting trains many models in a gradual, additive, and sequential manner. The major difference between AdaBoost and Gradient Boosting Algorithm is how the two algorithms identify the shortcomings of weak learners (e.g., decision trees). While the AdaBoost model identifies the shortcomings by using high weight data points, gradient boosting performs the same by using gradients in the loss function. The loss function is a measure indicating how good are model’s coefficients are at fitting the underlying data.\n"
      ]
    },
    {
      "cell_type": "code",
      "execution_count": null,
      "metadata": {
        "colab": {
          "base_uri": "https://localhost:8080/"
        },
        "id": "jQmujfR6W1ta",
        "outputId": "00098b1e-8bf1-41f3-9c06-d5821827c445"
      },
      "outputs": [
        {
          "name": "stdout",
          "output_type": "stream",
          "text": [
            "Accuracy:  0.6810678021618081\n",
            "              precision    recall  f1-score   support\n",
            "\n",
            "           0       0.45      0.02      0.03      3372\n",
            "           1       0.62      0.54      0.58     10712\n",
            "           2       0.71      0.91      0.80     16446\n",
            "\n",
            "    accuracy                           0.68     30530\n",
            "   macro avg       0.59      0.49      0.47     30530\n",
            "weighted avg       0.65      0.68      0.64     30530\n",
            "\n"
          ]
        }
      ],
      "source": [
        "from sklearn.ensemble import GradientBoostingClassifier\n",
        "gbc = GradientBoostingClassifier(n_estimators = 100, max_depth = 3, random_state = 10)\n",
        "gbc.fit(X_train, y_train)\n",
        "y_pred = gbc.predict(X_test)\n",
        "from sklearn.metrics import accuracy_score\n",
        "print(\"Accuracy: \",accuracy_score(y_test,predicted))\n",
        "print(metrics.classification_report(y_test,predicted))\n"
      ]
    },
    {
      "cell_type": "markdown",
      "metadata": {
        "id": "YMIr5-kvjJgq"
      },
      "source": [
        "#                                         END PROJECT"
      ]
    }
  ],
  "metadata": {
    "colab": {
      "collapsed_sections": [
        "UyuC8xu9dJNs",
        "IdZsHpKYdhWW"
      ],
      "provenance": []
    },
    "kernelspec": {
      "display_name": "Python 3 (ipykernel)",
      "language": "python",
      "name": "python3"
    },
    "language_info": {
      "codemirror_mode": {
        "name": "ipython",
        "version": 3
      },
      "file_extension": ".py",
      "mimetype": "text/x-python",
      "name": "python",
      "nbconvert_exporter": "python",
      "pygments_lexer": "ipython3",
      "version": "3.9.13"
    }
  },
  "nbformat": 4,
  "nbformat_minor": 0
}